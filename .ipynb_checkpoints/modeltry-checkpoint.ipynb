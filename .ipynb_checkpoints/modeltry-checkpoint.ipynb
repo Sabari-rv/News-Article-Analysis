{
 "cells": [
  {
   "cell_type": "code",
   "execution_count": 4,
   "metadata": {
    "id": "UdiLgmO9DERZ"
   },
   "outputs": [],
   "source": [
    "import spacy"
   ]
  },
  {
   "cell_type": "code",
   "execution_count": null,
   "metadata": {
    "id": "rhVG7GwmDP0r"
   },
   "outputs": [],
   "source": [
    "import pandas as pd\n",
    "import numpy as np\n",
    "\n",
    "import re  ## Regular Expression\n",
    "from time import time\n",
    "import matplotlib.pyplot as plt"
   ]
  },
  {
   "cell_type": "code",
   "execution_count": null,
   "metadata": {
    "id": "4MbbLNSTDm0X"
   },
   "outputs": [],
   "source": [
    "from tensorflow.keras.preprocessing.text import Tokenizer \n",
    "from tensorflow.keras.preprocessing.sequence import pad_sequences"
   ]
  },
  {
   "cell_type": "code",
   "execution_count": 4,
   "metadata": {
    "id": "tVRaTngnDo8H"
   },
   "outputs": [],
   "source": [
    "from tensorflow.keras.models import model_from_json "
   ]
  },
  {
   "cell_type": "code",
   "execution_count": 5,
   "metadata": {
    "colab": {
     "base_uri": "https://localhost:8080/"
    },
    "id": "kCYPm_VLDV7n",
    "outputId": "2649b40b-51a1-4b6e-9d75-da2afc09ffff"
   },
   "outputs": [
    {
     "name": "stderr",
     "output_type": "stream",
     "text": [
      "C:\\Users\\Sabarinathan R V\\anaconda3\\lib\\site-packages\\IPython\\core\\interactiveshell.py:3071: DtypeWarning: Columns (6,7,8,9,10,11,12,13,15,16,17,18,19,20,21,22,23,25,26,28,29,30,32,33,34,35,36,37,38,39,40,41,42,43,44,46,47,48,49,50,51,52,53,54,55,56,57,58,59,60,61,62,63,64,65,66,67,68,69,70,71,72,73,74,75,76,77,78,79,80,81,82,83,84,85,86,87,88,89,90,91,92,93,94,95,96,97,98,99,100,101,102,103,104,105,106,107,108,109,110,111,112,113,114,115,116,117,118,119,120,121,122,123,124,125,127,128,129,130,131,132,133,134,135,136,137,138,139,140,141,142,143,144,145,146,147,148,149,150,151,152,153,155,156,157,158,159,160,161,162,163,164,165,166,167,168,169,170,171,172,173,174,175,176,177,178,179,180,181,182,183,184,185,186,187,188,189,190,191,192,193,194,196,197,198,199,200,201,202,203,204,205,206,207,208,209,210,211,212,213,214,215,216,217,218,219,220,221,222,223,224,225,226,227,228,229,230,231,232,233,234,235,236,237,238,239,240,241,242,243,244,245,246,247,248,249,250,251,252,253,254,255,256,257,258,259,260,261,262,263,264,265,266,267,268,270,271,272,273,274,275,276,277,278,279,280,281) have mixed types.Specify dtype option on import or set low_memory=False.\n",
      "  has_raised = await self.run_ast_nodes(code_ast.body, cell_name,\n"
     ]
    }
   ],
   "source": [
    "summary = pd.read_csv('news_summary.csv',\n",
    "                      encoding='iso-8859-1')\n",
    "raw = pd.read_csv('news_summary_more.csv',\n",
    "                  encoding='iso-8859-1')\n"
   ]
  },
  {
   "cell_type": "code",
   "execution_count": 6,
   "metadata": {
    "colab": {
     "base_uri": "https://localhost:8080/",
     "height": 681
    },
    "id": "Dyg4ZmliDyx6",
    "outputId": "947a65b6-3bd1-44b4-cb82-113e66e88dfb"
   },
   "outputs": [
    {
     "data": {
      "text/html": [
       "<div>\n",
       "<style scoped>\n",
       "    .dataframe tbody tr th:only-of-type {\n",
       "        vertical-align: middle;\n",
       "    }\n",
       "\n",
       "    .dataframe tbody tr th {\n",
       "        vertical-align: top;\n",
       "    }\n",
       "\n",
       "    .dataframe thead th {\n",
       "        text-align: right;\n",
       "    }\n",
       "</style>\n",
       "<table border=\"1\" class=\"dataframe\">\n",
       "  <thead>\n",
       "    <tr style=\"text-align: right;\">\n",
       "      <th></th>\n",
       "      <th>author</th>\n",
       "      <th>date</th>\n",
       "      <th>headlines</th>\n",
       "      <th>read_more</th>\n",
       "      <th>text</th>\n",
       "      <th>ctext</th>\n",
       "      <th>Unnamed: 6</th>\n",
       "      <th>Unnamed: 7</th>\n",
       "      <th>Unnamed: 8</th>\n",
       "      <th>Unnamed: 9</th>\n",
       "      <th>...</th>\n",
       "      <th>Unnamed: 272</th>\n",
       "      <th>Unnamed: 273</th>\n",
       "      <th>Unnamed: 274</th>\n",
       "      <th>Unnamed: 275</th>\n",
       "      <th>Unnamed: 276</th>\n",
       "      <th>Unnamed: 277</th>\n",
       "      <th>Unnamed: 278</th>\n",
       "      <th>Unnamed: 279</th>\n",
       "      <th>Unnamed: 280</th>\n",
       "      <th>Unnamed: 281</th>\n",
       "    </tr>\n",
       "  </thead>\n",
       "  <tbody>\n",
       "    <tr>\n",
       "      <th>0</th>\n",
       "      <td>Chhavi Tyagi</td>\n",
       "      <td>03 Aug 2017,Thursday</td>\n",
       "      <td>Daman &amp; Diu revokes mandatory Rakshabandhan in...</td>\n",
       "      <td>http://www.hindustantimes.com/india-news/raksh...</td>\n",
       "      <td>The Administration of Union Territory Daman an...</td>\n",
       "      <td>The Daman and Diu administration on Wednesday ...</td>\n",
       "      <td>NaN</td>\n",
       "      <td>NaN</td>\n",
       "      <td>NaN</td>\n",
       "      <td>NaN</td>\n",
       "      <td>...</td>\n",
       "      <td>NaN</td>\n",
       "      <td>NaN</td>\n",
       "      <td>NaN</td>\n",
       "      <td>NaN</td>\n",
       "      <td>NaN</td>\n",
       "      <td>NaN</td>\n",
       "      <td>NaN</td>\n",
       "      <td>NaN</td>\n",
       "      <td>NaN</td>\n",
       "      <td>NaN</td>\n",
       "    </tr>\n",
       "    <tr>\n",
       "      <th>1</th>\n",
       "      <td>Daisy Mowke</td>\n",
       "      <td>03 Aug 2017,Thursday</td>\n",
       "      <td>Malaika slams user who trolled her for 'divorc...</td>\n",
       "      <td>http://www.hindustantimes.com/bollywood/malaik...</td>\n",
       "      <td>Malaika Arora slammed an Instagram user who tr...</td>\n",
       "      <td>From her special numbers to TV?appearances, Bo...</td>\n",
       "      <td>NaN</td>\n",
       "      <td>NaN</td>\n",
       "      <td>NaN</td>\n",
       "      <td>NaN</td>\n",
       "      <td>...</td>\n",
       "      <td>NaN</td>\n",
       "      <td>NaN</td>\n",
       "      <td>NaN</td>\n",
       "      <td>NaN</td>\n",
       "      <td>NaN</td>\n",
       "      <td>NaN</td>\n",
       "      <td>NaN</td>\n",
       "      <td>NaN</td>\n",
       "      <td>NaN</td>\n",
       "      <td>NaN</td>\n",
       "    </tr>\n",
       "    <tr>\n",
       "      <th>2</th>\n",
       "      <td>Arshiya Chopra</td>\n",
       "      <td>03 Aug 2017,Thursday</td>\n",
       "      <td>'Virgin' now corrected to 'Unmarried' in IGIMS...</td>\n",
       "      <td>http://www.hindustantimes.com/patna/bihar-igim...</td>\n",
       "      <td>The Indira Gandhi Institute of Medical Science...</td>\n",
       "      <td>The Indira Gandhi Institute of Medical Science...</td>\n",
       "      <td>NaN</td>\n",
       "      <td>NaN</td>\n",
       "      <td>NaN</td>\n",
       "      <td>NaN</td>\n",
       "      <td>...</td>\n",
       "      <td>NaN</td>\n",
       "      <td>NaN</td>\n",
       "      <td>NaN</td>\n",
       "      <td>NaN</td>\n",
       "      <td>NaN</td>\n",
       "      <td>NaN</td>\n",
       "      <td>NaN</td>\n",
       "      <td>NaN</td>\n",
       "      <td>NaN</td>\n",
       "      <td>NaN</td>\n",
       "    </tr>\n",
       "    <tr>\n",
       "      <th>3</th>\n",
       "      <td>Sumedha Sehra</td>\n",
       "      <td>03 Aug 2017,Thursday</td>\n",
       "      <td>Aaj aapne pakad liya: LeT man Dujana before be...</td>\n",
       "      <td>http://indiatoday.intoday.in/story/abu-dujana-...</td>\n",
       "      <td>Lashkar-e-Taiba's Kashmir commander Abu Dujana...</td>\n",
       "      <td>Lashkar-e-Taiba's Kashmir commander Abu Dujana...</td>\n",
       "      <td>NaN</td>\n",
       "      <td>NaN</td>\n",
       "      <td>NaN</td>\n",
       "      <td>NaN</td>\n",
       "      <td>...</td>\n",
       "      <td>NaN</td>\n",
       "      <td>NaN</td>\n",
       "      <td>NaN</td>\n",
       "      <td>NaN</td>\n",
       "      <td>NaN</td>\n",
       "      <td>NaN</td>\n",
       "      <td>NaN</td>\n",
       "      <td>NaN</td>\n",
       "      <td>NaN</td>\n",
       "      <td>NaN</td>\n",
       "    </tr>\n",
       "    <tr>\n",
       "      <th>4</th>\n",
       "      <td>Aarushi Maheshwari</td>\n",
       "      <td>03 Aug 2017,Thursday</td>\n",
       "      <td>Hotel staff to get training to spot signs of s...</td>\n",
       "      <td>http://indiatoday.intoday.in/story/sex-traffic...</td>\n",
       "      <td>Hotels in Maharashtra will train their staff t...</td>\n",
       "      <td>Hotels in Mumbai and other Indian cities are t...</td>\n",
       "      <td>NaN</td>\n",
       "      <td>NaN</td>\n",
       "      <td>NaN</td>\n",
       "      <td>NaN</td>\n",
       "      <td>...</td>\n",
       "      <td>NaN</td>\n",
       "      <td>NaN</td>\n",
       "      <td>NaN</td>\n",
       "      <td>NaN</td>\n",
       "      <td>NaN</td>\n",
       "      <td>NaN</td>\n",
       "      <td>NaN</td>\n",
       "      <td>NaN</td>\n",
       "      <td>NaN</td>\n",
       "      <td>NaN</td>\n",
       "    </tr>\n",
       "  </tbody>\n",
       "</table>\n",
       "<p>5 rows × 282 columns</p>\n",
       "</div>"
      ],
      "text/plain": [
       "               author                  date  \\\n",
       "0        Chhavi Tyagi  03 Aug 2017,Thursday   \n",
       "1         Daisy Mowke  03 Aug 2017,Thursday   \n",
       "2      Arshiya Chopra  03 Aug 2017,Thursday   \n",
       "3       Sumedha Sehra  03 Aug 2017,Thursday   \n",
       "4  Aarushi Maheshwari  03 Aug 2017,Thursday   \n",
       "\n",
       "                                           headlines  \\\n",
       "0  Daman & Diu revokes mandatory Rakshabandhan in...   \n",
       "1  Malaika slams user who trolled her for 'divorc...   \n",
       "2  'Virgin' now corrected to 'Unmarried' in IGIMS...   \n",
       "3  Aaj aapne pakad liya: LeT man Dujana before be...   \n",
       "4  Hotel staff to get training to spot signs of s...   \n",
       "\n",
       "                                           read_more  \\\n",
       "0  http://www.hindustantimes.com/india-news/raksh...   \n",
       "1  http://www.hindustantimes.com/bollywood/malaik...   \n",
       "2  http://www.hindustantimes.com/patna/bihar-igim...   \n",
       "3  http://indiatoday.intoday.in/story/abu-dujana-...   \n",
       "4  http://indiatoday.intoday.in/story/sex-traffic...   \n",
       "\n",
       "                                                text  \\\n",
       "0  The Administration of Union Territory Daman an...   \n",
       "1  Malaika Arora slammed an Instagram user who tr...   \n",
       "2  The Indira Gandhi Institute of Medical Science...   \n",
       "3  Lashkar-e-Taiba's Kashmir commander Abu Dujana...   \n",
       "4  Hotels in Maharashtra will train their staff t...   \n",
       "\n",
       "                                               ctext Unnamed: 6 Unnamed: 7  \\\n",
       "0  The Daman and Diu administration on Wednesday ...        NaN        NaN   \n",
       "1  From her special numbers to TV?appearances, Bo...        NaN        NaN   \n",
       "2  The Indira Gandhi Institute of Medical Science...        NaN        NaN   \n",
       "3  Lashkar-e-Taiba's Kashmir commander Abu Dujana...        NaN        NaN   \n",
       "4  Hotels in Mumbai and other Indian cities are t...        NaN        NaN   \n",
       "\n",
       "  Unnamed: 8 Unnamed: 9  ... Unnamed: 272 Unnamed: 273 Unnamed: 274  \\\n",
       "0        NaN        NaN  ...          NaN          NaN          NaN   \n",
       "1        NaN        NaN  ...          NaN          NaN          NaN   \n",
       "2        NaN        NaN  ...          NaN          NaN          NaN   \n",
       "3        NaN        NaN  ...          NaN          NaN          NaN   \n",
       "4        NaN        NaN  ...          NaN          NaN          NaN   \n",
       "\n",
       "  Unnamed: 275  Unnamed: 276 Unnamed: 277 Unnamed: 278 Unnamed: 279  \\\n",
       "0          NaN           NaN          NaN          NaN          NaN   \n",
       "1          NaN           NaN          NaN          NaN          NaN   \n",
       "2          NaN           NaN          NaN          NaN          NaN   \n",
       "3          NaN           NaN          NaN          NaN          NaN   \n",
       "4          NaN           NaN          NaN          NaN          NaN   \n",
       "\n",
       "  Unnamed: 280 Unnamed: 281  \n",
       "0          NaN          NaN  \n",
       "1          NaN          NaN  \n",
       "2          NaN          NaN  \n",
       "3          NaN          NaN  \n",
       "4          NaN          NaN  \n",
       "\n",
       "[5 rows x 282 columns]"
      ]
     },
     "execution_count": 6,
     "metadata": {},
     "output_type": "execute_result"
    }
   ],
   "source": [
    "summary.head()"
   ]
  },
  {
   "cell_type": "code",
   "execution_count": 7,
   "metadata": {
    "colab": {
     "base_uri": "https://localhost:8080/",
     "height": 206
    },
    "id": "1beHvUkCDyuu",
    "outputId": "d4ddd9f3-f450-441a-8b90-959b3ff634db"
   },
   "outputs": [
    {
     "data": {
      "text/html": [
       "<div>\n",
       "<style scoped>\n",
       "    .dataframe tbody tr th:only-of-type {\n",
       "        vertical-align: middle;\n",
       "    }\n",
       "\n",
       "    .dataframe tbody tr th {\n",
       "        vertical-align: top;\n",
       "    }\n",
       "\n",
       "    .dataframe thead th {\n",
       "        text-align: right;\n",
       "    }\n",
       "</style>\n",
       "<table border=\"1\" class=\"dataframe\">\n",
       "  <thead>\n",
       "    <tr style=\"text-align: right;\">\n",
       "      <th></th>\n",
       "      <th>headlines</th>\n",
       "      <th>text</th>\n",
       "    </tr>\n",
       "  </thead>\n",
       "  <tbody>\n",
       "    <tr>\n",
       "      <th>0</th>\n",
       "      <td>upGrad learner switches to career in ML &amp; Al w...</td>\n",
       "      <td>Saurav Kant, an alumnus of upGrad and IIIT-B's...</td>\n",
       "    </tr>\n",
       "    <tr>\n",
       "      <th>1</th>\n",
       "      <td>Delhi techie wins free food from Swiggy for on...</td>\n",
       "      <td>Kunal Shah's credit card bill payment platform...</td>\n",
       "    </tr>\n",
       "    <tr>\n",
       "      <th>2</th>\n",
       "      <td>New Zealand end Rohit Sharma-led India's 12-ma...</td>\n",
       "      <td>New Zealand defeated India by 8 wickets in the...</td>\n",
       "    </tr>\n",
       "    <tr>\n",
       "      <th>3</th>\n",
       "      <td>Aegon life iTerm insurance plan helps customer...</td>\n",
       "      <td>With Aegon Life iTerm Insurance plan, customer...</td>\n",
       "    </tr>\n",
       "    <tr>\n",
       "      <th>4</th>\n",
       "      <td>Have known Hirani for yrs, what if MeToo claim...</td>\n",
       "      <td>Speaking about the sexual harassment allegatio...</td>\n",
       "    </tr>\n",
       "  </tbody>\n",
       "</table>\n",
       "</div>"
      ],
      "text/plain": [
       "                                           headlines  \\\n",
       "0  upGrad learner switches to career in ML & Al w...   \n",
       "1  Delhi techie wins free food from Swiggy for on...   \n",
       "2  New Zealand end Rohit Sharma-led India's 12-ma...   \n",
       "3  Aegon life iTerm insurance plan helps customer...   \n",
       "4  Have known Hirani for yrs, what if MeToo claim...   \n",
       "\n",
       "                                                text  \n",
       "0  Saurav Kant, an alumnus of upGrad and IIIT-B's...  \n",
       "1  Kunal Shah's credit card bill payment platform...  \n",
       "2  New Zealand defeated India by 8 wickets in the...  \n",
       "3  With Aegon Life iTerm Insurance plan, customer...  \n",
       "4  Speaking about the sexual harassment allegatio...  "
      ]
     },
     "execution_count": 7,
     "metadata": {},
     "output_type": "execute_result"
    }
   ],
   "source": [
    "raw.head()"
   ]
  },
  {
   "cell_type": "code",
   "execution_count": 8,
   "metadata": {
    "colab": {
     "base_uri": "https://localhost:8080/",
     "height": 206
    },
    "id": "Oz_qn1qCDysb",
    "outputId": "d5c4b8c8-a22a-4ce5-e1a3-d236d736fd7a"
   },
   "outputs": [
    {
     "data": {
      "text/html": [
       "<div>\n",
       "<style scoped>\n",
       "    .dataframe tbody tr th:only-of-type {\n",
       "        vertical-align: middle;\n",
       "    }\n",
       "\n",
       "    .dataframe tbody tr th {\n",
       "        vertical-align: top;\n",
       "    }\n",
       "\n",
       "    .dataframe thead th {\n",
       "        text-align: right;\n",
       "    }\n",
       "</style>\n",
       "<table border=\"1\" class=\"dataframe\">\n",
       "  <thead>\n",
       "    <tr style=\"text-align: right;\">\n",
       "      <th></th>\n",
       "      <th>headlines</th>\n",
       "      <th>text</th>\n",
       "    </tr>\n",
       "  </thead>\n",
       "  <tbody>\n",
       "    <tr>\n",
       "      <th>0</th>\n",
       "      <td>upGrad learner switches to career in ML &amp; Al w...</td>\n",
       "      <td>Saurav Kant, an alumnus of upGrad and IIIT-B's...</td>\n",
       "    </tr>\n",
       "    <tr>\n",
       "      <th>1</th>\n",
       "      <td>Delhi techie wins free food from Swiggy for on...</td>\n",
       "      <td>Kunal Shah's credit card bill payment platform...</td>\n",
       "    </tr>\n",
       "    <tr>\n",
       "      <th>2</th>\n",
       "      <td>New Zealand end Rohit Sharma-led India's 12-ma...</td>\n",
       "      <td>New Zealand defeated India by 8 wickets in the...</td>\n",
       "    </tr>\n",
       "    <tr>\n",
       "      <th>3</th>\n",
       "      <td>Aegon life iTerm insurance plan helps customer...</td>\n",
       "      <td>With Aegon Life iTerm Insurance plan, customer...</td>\n",
       "    </tr>\n",
       "    <tr>\n",
       "      <th>4</th>\n",
       "      <td>Have known Hirani for yrs, what if MeToo claim...</td>\n",
       "      <td>Speaking about the sexual harassment allegatio...</td>\n",
       "    </tr>\n",
       "  </tbody>\n",
       "</table>\n",
       "</div>"
      ],
      "text/plain": [
       "                                           headlines  \\\n",
       "0  upGrad learner switches to career in ML & Al w...   \n",
       "1  Delhi techie wins free food from Swiggy for on...   \n",
       "2  New Zealand end Rohit Sharma-led India's 12-ma...   \n",
       "3  Aegon life iTerm insurance plan helps customer...   \n",
       "4  Have known Hirani for yrs, what if MeToo claim...   \n",
       "\n",
       "                                                text  \n",
       "0  Saurav Kant, an alumnus of upGrad and IIIT-B's...  \n",
       "1  Kunal Shah's credit card bill payment platform...  \n",
       "2  New Zealand defeated India by 8 wickets in the...  \n",
       "3  With Aegon Life iTerm Insurance plan, customer...  \n",
       "4  Speaking about the sexual harassment allegatio...  "
      ]
     },
     "execution_count": 8,
     "metadata": {},
     "output_type": "execute_result"
    }
   ],
   "source": [
    "pre1 = raw.iloc[:, 0:2].copy()\n",
    "pre1.head()"
   ]
  },
  {
   "cell_type": "code",
   "execution_count": 9,
   "metadata": {
    "colab": {
     "base_uri": "https://localhost:8080/",
     "height": 337
    },
    "id": "jfZs_iVzDyo7",
    "outputId": "21176b25-b2a3-45c5-c449-205ac7c3b8a4"
   },
   "outputs": [
    {
     "data": {
      "text/html": [
       "<div>\n",
       "<style scoped>\n",
       "    .dataframe tbody tr th:only-of-type {\n",
       "        vertical-align: middle;\n",
       "    }\n",
       "\n",
       "    .dataframe tbody tr th {\n",
       "        vertical-align: top;\n",
       "    }\n",
       "\n",
       "    .dataframe thead th {\n",
       "        text-align: right;\n",
       "    }\n",
       "</style>\n",
       "<table border=\"1\" class=\"dataframe\">\n",
       "  <thead>\n",
       "    <tr style=\"text-align: right;\">\n",
       "      <th></th>\n",
       "      <th>author</th>\n",
       "      <th>date</th>\n",
       "      <th>headlines</th>\n",
       "      <th>read_more</th>\n",
       "      <th>text</th>\n",
       "      <th>ctext</th>\n",
       "    </tr>\n",
       "  </thead>\n",
       "  <tbody>\n",
       "    <tr>\n",
       "      <th>0</th>\n",
       "      <td>Chhavi Tyagi</td>\n",
       "      <td>03 Aug 2017,Thursday</td>\n",
       "      <td>Daman &amp; Diu revokes mandatory Rakshabandhan in...</td>\n",
       "      <td>http://www.hindustantimes.com/india-news/raksh...</td>\n",
       "      <td>The Administration of Union Territory Daman an...</td>\n",
       "      <td>The Daman and Diu administration on Wednesday ...</td>\n",
       "    </tr>\n",
       "    <tr>\n",
       "      <th>1</th>\n",
       "      <td>Daisy Mowke</td>\n",
       "      <td>03 Aug 2017,Thursday</td>\n",
       "      <td>Malaika slams user who trolled her for 'divorc...</td>\n",
       "      <td>http://www.hindustantimes.com/bollywood/malaik...</td>\n",
       "      <td>Malaika Arora slammed an Instagram user who tr...</td>\n",
       "      <td>From her special numbers to TV?appearances, Bo...</td>\n",
       "    </tr>\n",
       "    <tr>\n",
       "      <th>2</th>\n",
       "      <td>Arshiya Chopra</td>\n",
       "      <td>03 Aug 2017,Thursday</td>\n",
       "      <td>'Virgin' now corrected to 'Unmarried' in IGIMS...</td>\n",
       "      <td>http://www.hindustantimes.com/patna/bihar-igim...</td>\n",
       "      <td>The Indira Gandhi Institute of Medical Science...</td>\n",
       "      <td>The Indira Gandhi Institute of Medical Science...</td>\n",
       "    </tr>\n",
       "    <tr>\n",
       "      <th>3</th>\n",
       "      <td>Sumedha Sehra</td>\n",
       "      <td>03 Aug 2017,Thursday</td>\n",
       "      <td>Aaj aapne pakad liya: LeT man Dujana before be...</td>\n",
       "      <td>http://indiatoday.intoday.in/story/abu-dujana-...</td>\n",
       "      <td>Lashkar-e-Taiba's Kashmir commander Abu Dujana...</td>\n",
       "      <td>Lashkar-e-Taiba's Kashmir commander Abu Dujana...</td>\n",
       "    </tr>\n",
       "    <tr>\n",
       "      <th>4</th>\n",
       "      <td>Aarushi Maheshwari</td>\n",
       "      <td>03 Aug 2017,Thursday</td>\n",
       "      <td>Hotel staff to get training to spot signs of s...</td>\n",
       "      <td>http://indiatoday.intoday.in/story/sex-traffic...</td>\n",
       "      <td>Hotels in Maharashtra will train their staff t...</td>\n",
       "      <td>Hotels in Mumbai and other Indian cities are t...</td>\n",
       "    </tr>\n",
       "  </tbody>\n",
       "</table>\n",
       "</div>"
      ],
      "text/plain": [
       "               author                  date  \\\n",
       "0        Chhavi Tyagi  03 Aug 2017,Thursday   \n",
       "1         Daisy Mowke  03 Aug 2017,Thursday   \n",
       "2      Arshiya Chopra  03 Aug 2017,Thursday   \n",
       "3       Sumedha Sehra  03 Aug 2017,Thursday   \n",
       "4  Aarushi Maheshwari  03 Aug 2017,Thursday   \n",
       "\n",
       "                                           headlines  \\\n",
       "0  Daman & Diu revokes mandatory Rakshabandhan in...   \n",
       "1  Malaika slams user who trolled her for 'divorc...   \n",
       "2  'Virgin' now corrected to 'Unmarried' in IGIMS...   \n",
       "3  Aaj aapne pakad liya: LeT man Dujana before be...   \n",
       "4  Hotel staff to get training to spot signs of s...   \n",
       "\n",
       "                                           read_more  \\\n",
       "0  http://www.hindustantimes.com/india-news/raksh...   \n",
       "1  http://www.hindustantimes.com/bollywood/malaik...   \n",
       "2  http://www.hindustantimes.com/patna/bihar-igim...   \n",
       "3  http://indiatoday.intoday.in/story/abu-dujana-...   \n",
       "4  http://indiatoday.intoday.in/story/sex-traffic...   \n",
       "\n",
       "                                                text  \\\n",
       "0  The Administration of Union Territory Daman an...   \n",
       "1  Malaika Arora slammed an Instagram user who tr...   \n",
       "2  The Indira Gandhi Institute of Medical Science...   \n",
       "3  Lashkar-e-Taiba's Kashmir commander Abu Dujana...   \n",
       "4  Hotels in Maharashtra will train their staff t...   \n",
       "\n",
       "                                               ctext  \n",
       "0  The Daman and Diu administration on Wednesday ...  \n",
       "1  From her special numbers to TV?appearances, Bo...  \n",
       "2  The Indira Gandhi Institute of Medical Science...  \n",
       "3  Lashkar-e-Taiba's Kashmir commander Abu Dujana...  \n",
       "4  Hotels in Mumbai and other Indian cities are t...  "
      ]
     },
     "execution_count": 9,
     "metadata": {},
     "output_type": "execute_result"
    }
   ],
   "source": [
    "pre2 = summary.iloc[:, 0:6].copy()\n",
    "pre2.head()"
   ]
  },
  {
   "cell_type": "code",
   "execution_count": 10,
   "metadata": {
    "colab": {
     "base_uri": "https://localhost:8080/"
    },
    "id": "GlDzpTtDDymN",
    "outputId": "a34b45f5-a573-48f7-bd66-6d67a65061bf"
   },
   "outputs": [
    {
     "data": {
      "text/plain": [
       "0       Chhavi Tyagi 03 Aug 2017,Thursday http://www.h...\n",
       "1       Daisy Mowke 03 Aug 2017,Thursday http://www.hi...\n",
       "2       Arshiya Chopra 03 Aug 2017,Thursday http://www...\n",
       "3       Sumedha Sehra 03 Aug 2017,Thursday http://indi...\n",
       "4       Aarushi Maheshwari 03 Aug 2017,Thursday http:/...\n",
       "                              ...                        \n",
       "4511    Mansha Mahajan 24 Feb 2017,Friday http://india...\n",
       "4512    Dishant Sharma 03 Aug 2017,Thursday http://ind...\n",
       "4513    Tanya Dhingra 03 Aug 2017,Thursday http://www....\n",
       "4514    Pragya Swastik 07 Dec 2016,Wednesday http://in...\n",
       "4515    Chhavi Tyagi 03 Aug 2017,Thursday http://india...\n",
       "Name: text, Length: 4516, dtype: object"
      ]
     },
     "execution_count": 10,
     "metadata": {},
     "output_type": "execute_result"
    }
   ],
   "source": [
    "# To increase the intake of possible text values to build a reliable model\n",
    "## Combining without headlines column\n",
    "pre2['text'] = pre2['author'].str.cat(pre2['date'].str.cat(pre2['read_more'].str.cat(pre2['text'].str.cat(pre2['ctext'], \n",
    "        sep=' '), sep=' '), sep=' '), sep=' ')\n",
    "\n",
    "pre2['text']"
   ]
  },
  {
   "cell_type": "code",
   "execution_count": 11,
   "metadata": {
    "colab": {
     "base_uri": "https://localhost:8080/"
    },
    "id": "b-rj_0apDyjW",
    "outputId": "4c14884d-0688-42a1-93b9-c94bafacb574"
   },
   "outputs": [
    {
     "data": {
      "text/plain": [
       "0        Saurav Kant, an alumnus of upGrad and IIIT-B's...\n",
       "1        Kunal Shah's credit card bill payment platform...\n",
       "2        New Zealand defeated India by 8 wickets in the...\n",
       "3        With Aegon Life iTerm Insurance plan, customer...\n",
       "4        Speaking about the sexual harassment allegatio...\n",
       "                               ...                        \n",
       "98396    A CRPF jawan was on Tuesday axed to death with...\n",
       "98397    'Uff Yeh', the first song from the Sonakshi Si...\n",
       "98398    According to reports, a new version of the 199...\n",
       "98399    A new music video shows rapper Snoop Dogg aimi...\n",
       "98400    Madhesi Morcha, an alliance of seven political...\n",
       "Name: text, Length: 98401, dtype: object"
      ]
     },
     "execution_count": 11,
     "metadata": {},
     "output_type": "execute_result"
    }
   ],
   "source": [
    "pre1['text']"
   ]
  },
  {
   "cell_type": "code",
   "execution_count": 12,
   "metadata": {
    "colab": {
     "base_uri": "https://localhost:8080/",
     "height": 206
    },
    "id": "jL61tYXVDyb1",
    "outputId": "9601159f-31ad-4336-d95d-6eb4c49cc038"
   },
   "outputs": [
    {
     "data": {
      "text/html": [
       "<div>\n",
       "<style scoped>\n",
       "    .dataframe tbody tr th:only-of-type {\n",
       "        vertical-align: middle;\n",
       "    }\n",
       "\n",
       "    .dataframe tbody tr th {\n",
       "        vertical-align: top;\n",
       "    }\n",
       "\n",
       "    .dataframe thead th {\n",
       "        text-align: right;\n",
       "    }\n",
       "</style>\n",
       "<table border=\"1\" class=\"dataframe\">\n",
       "  <thead>\n",
       "    <tr style=\"text-align: right;\">\n",
       "      <th></th>\n",
       "      <th>text</th>\n",
       "    </tr>\n",
       "  </thead>\n",
       "  <tbody>\n",
       "    <tr>\n",
       "      <th>0</th>\n",
       "      <td>Saurav Kant, an alumnus of upGrad and IIIT-B's...</td>\n",
       "    </tr>\n",
       "    <tr>\n",
       "      <th>1</th>\n",
       "      <td>Kunal Shah's credit card bill payment platform...</td>\n",
       "    </tr>\n",
       "    <tr>\n",
       "      <th>2</th>\n",
       "      <td>New Zealand defeated India by 8 wickets in the...</td>\n",
       "    </tr>\n",
       "    <tr>\n",
       "      <th>3</th>\n",
       "      <td>With Aegon Life iTerm Insurance plan, customer...</td>\n",
       "    </tr>\n",
       "    <tr>\n",
       "      <th>4</th>\n",
       "      <td>Speaking about the sexual harassment allegatio...</td>\n",
       "    </tr>\n",
       "  </tbody>\n",
       "</table>\n",
       "</div>"
      ],
      "text/plain": [
       "                                                text\n",
       "0  Saurav Kant, an alumnus of upGrad and IIIT-B's...\n",
       "1  Kunal Shah's credit card bill payment platform...\n",
       "2  New Zealand defeated India by 8 wickets in the...\n",
       "3  With Aegon Life iTerm Insurance plan, customer...\n",
       "4  Speaking about the sexual harassment allegatio..."
      ]
     },
     "execution_count": 12,
     "metadata": {},
     "output_type": "execute_result"
    }
   ],
   "source": [
    "## Combining Raw and Summarized Text\n",
    "pre = pd.DataFrame()\n",
    "pre['text'] = pd.concat([pre1['text'], pre2['text']], ignore_index=True)\n",
    "pre.head()"
   ]
  },
  {
   "cell_type": "code",
   "execution_count": 13,
   "metadata": {
    "colab": {
     "base_uri": "https://localhost:8080/",
     "height": 206
    },
    "id": "9d-6udRWDyZI",
    "outputId": "bdb7bcb5-c789-4d51-87c6-3cd7348651a3"
   },
   "outputs": [
    {
     "data": {
      "text/html": [
       "<div>\n",
       "<style scoped>\n",
       "    .dataframe tbody tr th:only-of-type {\n",
       "        vertical-align: middle;\n",
       "    }\n",
       "\n",
       "    .dataframe tbody tr th {\n",
       "        vertical-align: top;\n",
       "    }\n",
       "\n",
       "    .dataframe thead th {\n",
       "        text-align: right;\n",
       "    }\n",
       "</style>\n",
       "<table border=\"1\" class=\"dataframe\">\n",
       "  <thead>\n",
       "    <tr style=\"text-align: right;\">\n",
       "      <th></th>\n",
       "      <th>text</th>\n",
       "      <th>summary</th>\n",
       "    </tr>\n",
       "  </thead>\n",
       "  <tbody>\n",
       "    <tr>\n",
       "      <th>0</th>\n",
       "      <td>Saurav Kant, an alumnus of upGrad and IIIT-B's...</td>\n",
       "      <td>upGrad learner switches to career in ML &amp; Al w...</td>\n",
       "    </tr>\n",
       "    <tr>\n",
       "      <th>1</th>\n",
       "      <td>Kunal Shah's credit card bill payment platform...</td>\n",
       "      <td>Delhi techie wins free food from Swiggy for on...</td>\n",
       "    </tr>\n",
       "    <tr>\n",
       "      <th>2</th>\n",
       "      <td>New Zealand defeated India by 8 wickets in the...</td>\n",
       "      <td>New Zealand end Rohit Sharma-led India's 12-ma...</td>\n",
       "    </tr>\n",
       "    <tr>\n",
       "      <th>3</th>\n",
       "      <td>With Aegon Life iTerm Insurance plan, customer...</td>\n",
       "      <td>Aegon life iTerm insurance plan helps customer...</td>\n",
       "    </tr>\n",
       "    <tr>\n",
       "      <th>4</th>\n",
       "      <td>Speaking about the sexual harassment allegatio...</td>\n",
       "      <td>Have known Hirani for yrs, what if MeToo claim...</td>\n",
       "    </tr>\n",
       "  </tbody>\n",
       "</table>\n",
       "</div>"
      ],
      "text/plain": [
       "                                                text  \\\n",
       "0  Saurav Kant, an alumnus of upGrad and IIIT-B's...   \n",
       "1  Kunal Shah's credit card bill payment platform...   \n",
       "2  New Zealand defeated India by 8 wickets in the...   \n",
       "3  With Aegon Life iTerm Insurance plan, customer...   \n",
       "4  Speaking about the sexual harassment allegatio...   \n",
       "\n",
       "                                             summary  \n",
       "0  upGrad learner switches to career in ML & Al w...  \n",
       "1  Delhi techie wins free food from Swiggy for on...  \n",
       "2  New Zealand end Rohit Sharma-led India's 12-ma...  \n",
       "3  Aegon life iTerm insurance plan helps customer...  \n",
       "4  Have known Hirani for yrs, what if MeToo claim...  "
      ]
     },
     "execution_count": 13,
     "metadata": {},
     "output_type": "execute_result"
    }
   ],
   "source": [
    "## Combining Raw and Summarized Headlines\n",
    "pre['summary'] = pd.concat([pre1['headlines'], pre2['headlines']],ignore_index=True)\n",
    "pre.head()"
   ]
  },
  {
   "cell_type": "code",
   "execution_count": 14,
   "metadata": {
    "id": "H7OisK_kDyL4"
   },
   "outputs": [],
   "source": [
    "## Data PreProcessing"
   ]
  },
  {
   "cell_type": "code",
   "execution_count": 15,
   "metadata": {
    "id": "nkehqyjwERoP"
   },
   "outputs": [],
   "source": [
    "import re\n",
    "\n",
    "# Remove non-alphabetic characters (Data Cleaning)\n",
    "def text_strip(column):\n",
    "\n",
    "    for row in column:\n",
    "        row = re.sub(\"(\\\\t)\", \" \", str(row)).lower()\n",
    "        row = re.sub(\"(\\\\r)\", \" \", str(row)).lower()\n",
    "        row = re.sub(\"(\\\\n)\", \" \", str(row)).lower()\n",
    "\n",
    "        # Remove _ if it occurs more than one time consecutively\n",
    "        row = re.sub(\"(__+)\", \" \", str(row)).lower()\n",
    "\n",
    "        # Remove - if it occurs more than one time consecutively\n",
    "        row = re.sub(\"(--+)\", \" \", str(row)).lower()\n",
    "\n",
    "        # Remove ~ if it occurs more than one time consecutively\n",
    "        row = re.sub(\"(~~+)\", \" \", str(row)).lower()\n",
    "\n",
    "        # Remove + if it occurs more than one time consecutively\n",
    "        row = re.sub(\"(\\+\\++)\", \" \", str(row)).lower()\n",
    "\n",
    "        # Remove . if it occurs more than one time consecutively\n",
    "        row = re.sub(\"(\\.\\.+)\", \" \", str(row)).lower()\n",
    "\n",
    "        # Remove the characters - <>()|&©ø\"',;?~*!\n",
    "        row = re.sub(r\"[<>()|&©ø\\[\\]\\'\\\",;?~*!]\", \" \", str(row)).lower()\n",
    "\n",
    "        # Remove mailto:\n",
    "        row = re.sub(\"(mailto:)\", \" \", str(row)).lower()\n",
    "\n",
    "        # Remove \\x9* in text\n",
    "        row = re.sub(r\"(\\\\x9\\d)\", \" \", str(row)).lower()\n",
    "\n",
    "        # Replace INC nums to INC_NUM\n",
    "        row = re.sub(\"([iI][nN][cC]\\d+)\", \"INC_NUM\", str(row)).lower()\n",
    "\n",
    "        # Replace CM# and CHG# to CM_NUM\n",
    "        row = re.sub(\"([cC][mM]\\d+)|([cC][hH][gG]\\d+)\", \"CM_NUM\", str(row)).lower()\n",
    "\n",
    "        # Remove punctuations at the end of a word\n",
    "        row = re.sub(\"(\\.\\s+)\", \" \", str(row)).lower()\n",
    "        row = re.sub(\"(\\-\\s+)\", \" \", str(row)).lower()\n",
    "        row = re.sub(\"(\\:\\s+)\", \" \", str(row)).lower()\n",
    "\n",
    "        # Replace any url to only the domain name\n",
    "        try:\n",
    "            url = re.search(r\"((https*:\\/*)([^\\/\\s]+))(.[^\\s]+)\", str(row))\n",
    "            repl_url = url.group(3)\n",
    "            row = re.sub(r\"((https*:\\/*)([^\\/\\s]+))(.[^\\s]+)\", repl_url, str(row))\n",
    "        except:\n",
    "            pass\n",
    "\n",
    "        # Remove multiple spaces\n",
    "        row = re.sub(\"(\\s+)\", \" \", str(row)).lower()\n",
    "\n",
    "        # Remove the single character hanging between any two spaces\n",
    "        row = re.sub(\"(\\s+.\\s+)\", \" \", str(row)).lower()\n",
    "\n",
    "        yield row"
   ]
  },
  {
   "cell_type": "code",
   "execution_count": 1,
   "metadata": {},
   "outputs": [],
   "source": [
    "## all sentences to lower cases\n",
    "def casefolding(sentence):\n",
    "    return sentence.lower()\n",
    "\n",
    "## Removes all punctuation and numbers, leaving only the alphabet characters\n",
    "def cleaning(sentence):\n",
    "    return re.sub(r'[^a-z]', ' ', re.sub(\"’\", '', sentence))\n",
    "\n",
    "def stopword_removal(self, token):\n",
    "    temp = []\n",
    "    for i in range(len(token)):\n",
    "        if token[i] not in self.stopwords:\n",
    "            temp.append(token[i])\n",
    "    return temp\n",
    "\n",
    "## Whole story into collection of sentences (Tokenisation)\n",
    "def sentence_split(paragraph):\n",
    "    return nltk.sent_tokenize(paragraph)\n",
    "\n",
    "## Giving weighs to the words to determine whether it has effect or not\n",
    "def word_freq(data):\n",
    "    \n",
    "    w = []\n",
    "    \n",
    "    for sentence in data:\n",
    "        for words in sentence:\n",
    "            w.append(words)\n",
    "    bag = list(set(w))\n",
    "    res = {}\n",
    "    \n",
    "    for word in bag:\n",
    "        res[word] = w.count(word)\n",
    "    return res\n",
    "\n",
    "## Knowing the weighs of each senteces (whether the sentence represents the best story)\n",
    "def sentence_weight(data):\n",
    "    weights = []\n",
    "    for words in data:\n",
    "        temp = 0\n",
    "        for word in words:\n",
    "            temp += wordfreq[word]\n",
    "        weights.append(temp)\n",
    "    return weights"
   ]
  },
  {
   "cell_type": "code",
   "execution_count": 16,
   "metadata": {
    "colab": {
     "base_uri": "https://localhost:8080/"
    },
    "id": "hcQKZ4IYEUH3",
    "outputId": "29754d58-2f0c-407e-85bb-89e2fff8be1a"
   },
   "outputs": [
    {
     "data": {
      "text/plain": [
       "<generator object text_strip at 0x0000029E856D3BA0>"
      ]
     },
     "execution_count": 16,
     "metadata": {},
     "output_type": "execute_result"
    }
   ],
   "source": [
    "processed_text = text_strip(pre['text'])\n",
    "processed_text"
   ]
  },
  {
   "cell_type": "code",
   "execution_count": 17,
   "metadata": {
    "colab": {
     "base_uri": "https://localhost:8080/"
    },
    "id": "qis20jPBEacp",
    "outputId": "c6034bcf-bc2e-4670-bafd-2d69a825bf2c"
   },
   "outputs": [
    {
     "data": {
      "text/plain": [
       "<generator object text_strip at 0x0000029E856EF660>"
      ]
     },
     "execution_count": 17,
     "metadata": {},
     "output_type": "execute_result"
    }
   ],
   "source": [
    "processed_summary = text_strip(pre['summary'])\n",
    "processed_summary"
   ]
  },
  {
   "cell_type": "code",
   "execution_count": 18,
   "metadata": {
    "colab": {
     "base_uri": "https://localhost:8080/"
    },
    "id": "X_BACoiZEaa1",
    "outputId": "5b01766f-a710-46ce-9c2a-fb6a7654f86a"
   },
   "outputs": [],
   "source": [
    "from time import time\n",
    "\n",
    "## Loading the English(vocabulary) language in spacy.load()\n",
    "nlp = spacy.load(\"en_core_web_sm\", disable=['ner', 'parser']) "
   ]
  },
  {
   "cell_type": "code",
   "execution_count": 19,
   "metadata": {
    "colab": {
     "base_uri": "https://localhost:8080/"
    },
    "id": "Z6RQdaP4EaY_",
    "outputId": "5420c50f-6fbb-450f-cdee-e2bfb3f569ef"
   },
   "outputs": [
    {
     "data": {
      "text/plain": [
       "['saurav kant an alumnus of upgrad and iiit-b pg program in machine learning and artificial intelligence was sr systems engineer at infosys with almost years of work experience the program and upgrad 360-degree career support helped him transition to data scientist at tech mahindra with 90% salary hike upgrad online power learning has powered lakh+ careers.',\n",
       " 'kunal shah credit card bill payment platform cred gave users chance to win free food from swiggy for one year pranav kaushik delhi techie bagged this reward after spending 2000 cred coins users get one cred coin per rupee of bill paid which can be used to avail rewards from brands like ixigo bookmyshow ubereats cult.fit and more.',\n",
       " 'new zealand defeated india by wickets in the fourth odi at hamilton on thursday to win their first match of the five-match odi series india lost an international match under rohit sharma captaincy after 12 consecutive victories dating back to march 2018 the match witnessed india getting all out for 92 their seventh lowest total in odi cricket history.',\n",
       " 'with aegon life iterm insurance plan customers can enjoy tax benefits on your premiums paid and save up to ã¢â\\x82â¹46 800^ on taxes the plan provides life cover up to the age of 100 years also customers have options to insure against critical illnesses disability and accidental death benefit rider with life cover up to the age of 80 years.',\n",
       " 'speaking about the sexual harassment allegations against rajkumar hirani sonam kapoor said ve known hirani for many years what if it not true the #metoo movement will get derailed in the #metoo movement always believe woman but in this case we need to reserve our judgment she added hirani has been accused by an assistant who worked in sanju .',\n",
       " 'pakistani singer rahat fateh ali khan has denied receiving any notice from the enforcement directorate over allegedly smuggling foreign currency out of india it would have been better if the authorities would have served the notice first if any and then publicised this reads press release issued on behalf of rahat the statement further called the allegation bizarre .',\n",
       " 'india recorded their lowest odi total in new zealand after getting all out for 92 runs in 30.5 overs in the fourth odi at hamilton on thursday seven of india batsmen were dismissed for single-digit scores while their number ten batsman yuzvendra chahal top-scored with 18 37 india previous lowest odi total in new zealand was 108.',\n",
       " 'weeks after ex-cbi director alok verma told the department of personnel and training to consider him retired the home ministry asked him to join work on the last day of his fixed tenure as director on thursday the ministry directed him to immediately join as dg fire services the post he was transferred to after his removal as cbi chief.',\n",
       " 'andhra pradesh cm chandrababu naidu has said when met then us president bill clinton addressed him as mr clinton not as sir pm narendra modi is my junior in politics addressed him as sir 10 times did this to satisfy his ego in the hope that he will do justice to the state he added.',\n",
       " 'congress candidate shafia zubair won the ramgarh assembly seat in rajasthan by defeating bjp sukhwant singh with margin of 12 228 votes in the bypoll with this victory congress has taken its total to 100 seats in the 200-member assembly the election to the ramgarh seat was delayed due to the death of sitting mla and bsp candidate laxman singh.',\n",
       " 'two minor cousins in uttar pradesh gorakhpur were allegedly repeatedly burnt with tongs and forced to eat human excreta by their family for being friends with two boys from the same school the cousins revealed their ordeal to the police and child welfare committee after being brought back to gorakhpur from nepal where they had fled to escape the torture.',\n",
       " 'isha ghosh an 81-year-old member of bharat scouts and guides bsg has been imparting physical and mental training to schoolchildren in jharkhand for several decades chaibasa-based ghosh reportedly walks seven kilometres daily and spends eight hours conducting physical training apart from climbing and yoga sessions she says one should do something for society till one last breath ',\n",
       " 'urging saints and seers at the kumbh mela to quit smoking yoga guru ramdev said we follow ram and krishna who never smoked in their life then why should we making them take pledge to quit tobacco he collected chillum clay pipe from several sadhus he said he will deposit the chillums for display at museum he ll build.',\n",
       " 'former stripper and regional sales director of pharmaceutical company sunrise lee gave doctor lap dance in nightclub to persuade him to prescribe an addictive fentanyl spray in 2012 the company sales representative told us court she said she saw lee sitting on doctor lap kind of bouncing around lee has been accused of bribing doctors.',\n",
       " 'reliance industries chairman mukesh ambani daughter isha ambani who got married last month said she only cried at her bidaai because she felt peer pressure as everyone was crying especially her parents was emotional too but everyone around me would cry all the time she added it was very emotional affair for everyone in my family said isha.',\n",
       " 'louis vuitton owner lvmh which makes high-end beverages like moã\\x83â«t chandon champagne and hennessy cognac said it stockpiling four months worth of wine and spirits in uk in preparation for brexit we re ready for worst case scenario if there are difficulties with deliveries the french luxury giant said the uk is scheduled to leave the eu on march 29.',\n",
       " 'filmmaker karan johar and actress tabu turned showstoppers for gaurav gupta on the opening night of lakmã\\x83â fashion week summer/ resort 2019 while johar wore red sequinned jacket with black pants tabu walked the ramp in grey embellished gown the fashion show which began on january 29 will continue till february 3.',\n",
       " 'in jibe at congress president rahul gandhi pm narendra modi on wednesday said those on bail will have to go to jail pm modi added he is out on bail and his associates too are facing charges know they will be convicted one day the pm claimed he waged war on corruption because he from common household ',\n",
       " 'days after he threatened to step down from his post if congress mlas continue crossing the line karnataka chief minister hd kumaraswamy accused them of taking potshots and asked how many more days can tolerate such stuff kumaraswamy who made the statements after congress mla demanded that siddaramaiah be made cm again said power is ephemeral ',\n",
       " 'union minister dharmendra pradhan on wednesday claimed the illegal mining mafia in odisha operates under the control of cm naveen patnaik and state congress chief niranjan patnaik he added the time has come for the people of odisha to put full stop to their activities the time has come for us to ask for an explanation from this corrupt government ',\n",
       " 'claiming there is dearth of ideas among opposition parties prime minister narendra modi on wednesday said the opposition talks only about modi the whole day suspect they even dream about me pm modi who was addressing the new india youth conclave inã¢â\\x80â\\x8b surat added that the opposition parties have only one agenda which is modi ',\n",
       " 'the indian space research organisation on wednesday unveiled human space flight centre in bengaluru for its ã¢â\\x82â¹10 000-crore manned space mission gaganyaan scheduled for 2021 isro said the centre will be responsible for development of engineering systems for crew survival in space and crew selection and training it ll also pursue activities for sustained human space flight missions isro added.',\n",
       " 'at least 12 people have been killed and 170 others have been injured in saudi arabia this week due to flooding from heavy rain the emergency services rescued 271 people from the flooded areas more than half of them in tabuk heavy rains hit mainly western and northwestern parts of saudi arabia near its border with jordan.',\n",
       " 'reliance industries chairman mukesh ambani daughter isha ambani has featured on the cover of the february edition of vogue india she dressed in white shirt dress and black ruffled skirt by australian designer toni maticevski while accessorising her look with misho ring in the cover story on her isha has spoken about her work and life after marriage ',\n",
       " 'indian oil corporation on wednesday said it looking for an annual deal to buy us crude as it seeks to broaden oil purchasing options this comes amid uncertainties over iran imports the us had in november granted six-month waiver to india from sanctions against iran and restricted the country monthly intake of iranian oil to 00 000 barrels per day ',\n",
       " 'former windies fast bowler curtly ambrose dismissed seven australian batsmen within span of 32 balls giving away just one run in test match on january 30 1993 ambrose spell helped his team bowl out australia for 119 in the first innings after being 85 for at one point ambrose ended with first-innings figures of 18-9-25-7.',\n",
       " 'a london zoo is offering people to name cockroach after their exes on valentine day for ã\\x82â£1.50 nearly ã¢â\\x82â¹140 for those that don quite require revenge there another way to make you feel better about getting back at your ex the zoo said in statement the names will appear on zoo roach board on february 14 ',\n",
       " 'stand-in captain rohit sharma has become the 14th indian cricketer to play 200 odis achieving the feat after taking the field against new zealand in fourth odi at hamilton on thursday the 31-year-old had made his odi debut on june 23 2007 against ireland in belfast rohit scored 799 runs in his first 199 odis at an average of 48.14.',\n",
       " 'batsman shubman gill has become the 227th cricketer to represent india in odi cricket achieving the feat against new zealand in the fourth odi at hamilton on thursday the 19-year-old received his maiden odi cap from former captain ms dhoni notably shubman was named player of the under-19 world cup in new zealand last year.',\n",
       " 'investigators searching for lost plane carrying argentine forward emiliano sala found two seat cushions on french coast that likely belonged to the aircraft the investigators said they ll now launch an underwater seabed search for aircraft wreckage the cardiff city footballer was travelling from france nantes to wales cardiff when his plane disappeared over english channel on january 21.',\n",
       " 'italian third division football side lucchese head coach giancarlo favarin has been banned for five months for headbutting alessandria assistant coach gaetano mancino during brawl following the teams 2-2 draw on sunday mancino was caught off-balance and knocked to the ground after the headbutt earlier in the match favarin had told his own player to break an opponent legs.',\n",
       " 'cyclists taking part in national track cycling championship in jaipur opted to sleep on the floor inside the stadium instead of hotels over expensive cycles the organisers had booked hotels but they didn have the provision for cyclists to keep their bikes inside national gold medallist said their cycles cost between ã¢â\\x82â¹5-9 lakh and once damaged they become non-repairable ',\n",
       " 'silvia grecco 56-year-old brazilian mother narrates her local football team palmeiras matches live to her 12-year-old blind and autistic son nickollas from the stands describe details this player is wearing short sleeves colour of football boots hair colour everything see and feel tell him even when need to curse the referee grecco said after recent match.',\n",
       " 'a techcrunch report has claimed that indiaã¢â\\x80â\\x99s largest bank sbi secured passwordless server overnight on being alerted it allowed anyone to access phone numbers bank balances and transactions of millions of its customers the mumbai-based server was containing two months of data from sbi quick an sms and call-based system used to request basic information about accounts techcrunch revealed.',\n",
       " 'rahul gandhi has replied to goa cm manohar parrikar letter which accused the congress president of using his visit to an ailing man for political gains he under immense pressure from the pm after our meeting and needs to demonstrate his loyalty by attacking me gandhi wrote in his letter parrikar had clarified he didn discuss rafale deal with rahul.',\n",
       " 'twenty-seven-year-old mohammed mahuwala was arrested in indore on wednesday for allegedly cheating e-commerce giant amazon of nearly ã¢â\\x82â¹30 lakh mahuwala was member of gang who ordered costly gadgets from amazon they used to get refund of the amount paid by saying the parcel was empty in reality these devices were taken out from parcel and sold to local shopkeepers said police.',\n",
       " 'agustawestland chopper scam co-accused rajiv saxena was extradited to india from uae on wednesday he had been evading the enforcement directorate summons claiming he was suffering from leukaemia but had moved an anti-money laundering court for anticipatory bail in december stating he had never been summoned at his dubai address saxena lawyers alleged he had been illegally extradited ',\n",
       " 'afghan president ashraf ghani has said the keys to war are in pakistan islamabad quetta and rawalpindi accusing the country of providing safe havens to militants including those belonging to the taliban ghani added the key to peace was in afghanistan his comments came amid the talks between the us and the taliban to end the 17-year war in afghanistan.',\n",
       " 'a singapore-based insurance agent has been jailed for two years and five months for threatening to harm his clients unless they paid him in bitcoins the 36-year-old set up an email account and signed the messages as lord voldemort fictional character from the harry potter series ye lin myint targeted about 33 people including those who cancelled insurance policies.',\n",
       " 'gabrielle reilly 22-year-old us woman created earrings for her apple airpods and put it up for sale online for $20 about ã¢â\\x82â¹1 500 absolutely refuse to lose them airpods so made earrings she explained the earrings which took her over an hour to make debuted in video on twitter that has since garnered over three million views.',\n",
       " 'ex-icici bank ceo chanda kochhar said she utterly disappointed hurt and shocked by the bank decision to terminate her kochhar said she served icici for 34 years with utmost honesty and integrity and that ultimately truth will prevail adding that she hasn been given copy of the independent probe report kochhar said none of icici credit decisions are unilateral',\n",
       " 'swedish multinational fast-fashion brand hennes mauritz ab m has hired christopher wylie the whistleblower who exposed facebook cambridge analytica data scandal wylieã¢â\\x80â\\x99s focus will be to help get better insights on customers products and markets and support work on sustainable and ethical artificial intelligence m spokesperson said wylie is former employee of cambridge analytica.',\n",
       " 'micro-blogging platform twitter is testing new feature on android to put news on the top of user timeline with this update weã¢â\\x80â\\x99re making it easier for people to see news and stories their followers have been discussing product manager walter gurzynski said the feature comes alongside prompt saying catch up on what happened while you were away ',\n",
       " 'samsung has started mass producing its one terabyte embedded universal flash storage eufs 2.1 technology for use in next-generation mobile applications which it claims is the industry first such eufs the company added the new eufs will let smartphones store 260 10-minute videos shot in 4k uhd format it ll be sized the same as the previous 512gb version samsung said.',\n",
       " 'prime minister narendra modi on wednesday said the people with negative mindset are questioning him and his government for floating pro-poor schemes he added negative mindset people are raising doubts about schemes such as building toilets and providing free gas connections to the poor he further said that negative mentality laced with vested interest still exists in the country.',\n",
       " 'union minister anantkumar hegde took dig at congress president rahul gandhi by calling him hybrid specimen who has no clue about religion father who muslim mother who christian and the son is supposed to be brahmin how is that even possible he said he added such hybrid specimen cannot be found in any laboratory in the world.',\n",
       " 'several parts of the us are set to experience record low temperatures as the polar vortex hit the upper midwest with more than 200 million people expected to experience below-freezing temperatures this week temperatures throughout the upper midwest are expected to be at least 20-40ã¢â\\x84â\\x89 below zero government offices and schools have been closed in several areas.',\n",
       " 'the police on wednesday registered cases against 13 persons including woman leader of hindu mahasabha in aligarh for firing at an effigy of mahatma gandhi with an air pistol the incident took place in house in naurangabad locality of the city senior superintendent of police said the video of the event went viral on social media he added.',\n",
       " 'railway police has rescued woman travelling on train in chennai who got her leg stuck inside the commode of toilet after being caught inside the commode hole she struggled to remove her leg and following failed attempts she shouted for help reports said railway police used cutter to pry open the commode and freed her leg.',\n",
       " 'the us on tuesday began returning asylum seekers to mexico sending back migrant from central american nation and called the move response to the illegal migration crisis faced by it under its migrant protection protocols policy the us will return certain migrants who cross into the country illegally back to mexico while their asylum requests are processed.',\n",
       " 'former finance minister yashwant sinha on tuesday demanded probe into the alleged diversion of loans worth ã¢â\\x82â¹31 000 crore by dewan housing finance dhfl all agencies including regulators of the government have failed to track nefarious deals he said this comes after media report on tuesday accused dhfl controlling shareholders of diverting funds to shell companies to buy assets.',\n",
       " 'us-based boeing on wednesday reported annual sales worth $101.12 billion in 2018 the first time the planemaker sales crossed the $100-billion mark in its 102-year history the company said it expects to deliver between 895 and 905 commercial aircraft in 2019 boeing retained its position as the world largest planemaker for the seventh straight year delivering 806 aircraft in 2018 ',\n",
       " 'text',\n",
       " 'oneplus has emerged as india best-selling premium smartphone brand of 2018 as per report by counterpoint it captured 36% of the market share in the premium segment in q4 2018 further its oneplus emerged as the highest selling premium smartphone of 2018 followed by oneplus 6t.',\n",
       " 'filmmaker pooja bhatt while talking about the presentation of women in her films said can never look at female body even if it naked in vulgar manner our audience can say the women in my films are bold or sensual but never ever vulgar she added pooja further said her censor board is her own heart and mind .',\n",
       " 'actress mishti who has featured in manikarnika the queen of jhansi has said the film co-director kangana ranaut made false promises to the cast kangana had said want dates because all characters look jumbled up m trying my best to give everybody prominent space on screen after watching the movie there is no scope for other characters mishti added ',\n",
       " 'the high-powered committee led by pm narendra modi to select the next cbi director will meet again on february congress leader mallikarjun kharge has said the panel consisting of kharge and chief justice of india ranjan gogoi met on january 24 but the meeting ended inconclusively after kharge cited lack of details in the list of 80 ips officers ',\n",
       " 'nevada state athletic commission has banned mma fighters conor mcgregor and khabib nurmagomedov for six months and nine months respectively over their roles in the mass brawl that occurred after their fight at ufc 229 last october mcgregor and khabib have been fined $50 000 ã¢â\\x82â¹35 lakh and $500 000 ã¢â\\x82â¹3.5 crore respectively the brawl occurred after nurmagomedov confronted mcgregor teammate.',\n",
       " 'pakistan captain sarfaraz ahmed who has been banned for four matches over racist remarks took an apparent dig at his critics by sharing video of child reciting log hai na poem on twitter pyaar karna hai to khud se kar dushmani karne ke liye log hai na the poem read this is how the world is sarfaraz wrote.',\n",
       " 'banned cricketer sreesanth has told supreme court he initially confessed to delhi police about his alleged involvement in 2013 ipl spot-fixing scandal to escape continuous police torture sreesanth further said the bookie tried dragging him into spot-fixing but he didn fall for it citing sreesanth not informing bcci about fixing approach the apex court said sreesanth conduct wasn good .',\n",
       " 'the finance ministry on wednesday said the government will present an interim budget on february the clarification came amid speculations that full budget may be presented during the session the government recently assigned piyush goyal temporary additional charge of the finance and corporate affairs ministries in the absence of arun jaitley who is in the us for treatment.',\n",
       " 'us president donald trump on wednesday called his country top intelligence chiefs naive and wrong on iran and added that they should perhaps go back to school trump claimed iran is testing rockets calling the country source of potential danger and conflict top us intelligence officials on tuesday said that iran isn currently taking steps towards building nuclear weapons.',\n",
       " 'a senior priest at the vatican who handled cases of sexual abuse has quit after being accused of sexual abuse by former nun the accused priest claimed he is innocent and said he would consider taking legal action the vatican said in statement that church investigation of the case was underway.',\n",
       " 'a 22-year-old writer turned down job offer claiming she was bullied to the point of tears during her two-hour interview by uk company ceo olivia bland added the brutal interview brought back painful memories of her abusive relationship am so sorry that anyone has been hurt it is never my intent web applications ceo craig dean replied ',\n",
       " 'noida police has arrested sector 20 station in-charge manoj pant and three journalists for allegedly extorting money from call centre owner for removing his name from an fir the four were caught while taking bribe money of ã¢â\\x82â¹8 lakh police said pant was the lead investigator in the paytm extortion case involving founder vijay shekhar sharma secretary sonia dhawan.',\n",
       " 'airtel on wednesday said that qatar sovereign wealth fund qatar investment authority will invest $200 million through primary equity issuance in airtel africa india second-largest telecom operator africa unit recently raised $1.25 billion from six investors airtel africa the holding company for airtel operations in 14 african countries is preparing for an initial public offering.',\n",
       " 'actor shreyas talpade said that golmaal filmmaker rohit shetty is still working on the script for the fifth instalment of the golmaal film franchise he was telling us the other day that he cracked some story once he done with the scripting he ll take call ã¢â\\x80â\\x9d the actor added the series features shreyas along with ajay devgn arshad warsi and tusshar kapoor.',\n",
       " 'a 72-year-old man named terry sanderson has sued avengers actress gwyneth paltrow for allegedly crashing into him while skiing and is seeking $3.1 million over ã¢â\\x82â¹22 crore in damages the lawsuit states the actress got up and skied away after knocking the man down leaving him with broken ribs the incident reportedly took place in 2016 in utah us ',\n",
       " 'yami gautam was felicitated by border security force bsf in amritsar for her performance in uri the surgical strike bsf is the first line of defence of our country and it gives me pride to have met them yami said the film which also stars vicky kaushal is based on the indian army surgical strike operation which took place in 2016.',\n",
       " 'social media giant facebook has hired privacy critic nate cardozo formerly the top legal counsel for us privacy watchdog eff as privacy policy manager for whatsapp cardozo had called facebook faceless corporation whose business model depends on user confusion and indifference about privacy in october 2015 facebook has also hired attorney robyn greene as its privacy policy manager.',\n",
       " 'apple ceo tim cook said the company plans to lower some iphones prices in markets with currencies that weakened against the us dollar in the past year weã¢â\\x80â\\x99ve decided to go back to iphone prices more commensurate with local prices year ago cook added the price cuts in hopes of increasing sales are reportedly occurring for second time in 12 years.',\n",
       " 'scientists in australia flinders university are testing wetsuit prototype that could protect its wearer after shark attack the suit made of synthetic material similar to the material used in bulletproof vests could help reduce blood loss after shark attack the majority of fatalities from shark bites is due to blood loss shock from blood loss scientist said.',\n",
       " 'bjp national secretary rahul sinha on wednesday asked the party workers in west bengal to come armed with sticks to pm narendra modi rally in the state on february his statement came day after clashes broke out following bjp chief amit shah wb rally sinha added the tmc is indulged in violence as they re afraid of bjp strength.',\n",
       " 'bjp president amit shah on wednesday took dig at the opposition parties saying that the mahagathbandhan for the opposition is 4b bua-bhatija-bhai-behen he added that 4b for the bjp meant badhta bharat banta bharat he said opposition government cannot take the country ahead and only modiji can provide mazboot strong government .',\n",
       " 'german automaker volkswagen group has retained the car industry top spot in global sales beating its japanese rival toyota volkswagen sales including its man and scania heavy trucks and buses rose 0.9% to 10.83 million in 2018 the company had said toyota came second with around 10.6 million deliveries including its affiliated brands daihatsu and hino in 2018.',\n",
       " 'ousted nissan chairman carlos ghosn has said his arrest over alleged financial misconduct was led by plot and treason by the japanese carmaker executives who opposed its deeper integration with renault and mitsubishi ghosn added he had discussed the integration plans with nissan ceo in september month before his arrest he further said he wouldn flee if granted bail.',\n",
       " 'the government has cut down customs duty on import of parts and components for electric vehicles to 10-15% down from the previous 15-30% the central board of indirect taxes and customs said disassembled parts will attract 10% duty whereas 15% will be levied on pre-assembled packs however fully built electric vehicles will continue to attract 25% import duty.',\n",
       " 'government officials on wednesday said that swine flu outbreak has killed 76 people this year in rajasthan colder weather has worsened the seasonal outbreak of the h1n1 virus in the country officials added rajasthan recorded more than third of all swine flu deaths in india with jodhpur being the worst affected area in the state officials said.',\n",
       " 'north korea is unlikely to completely give up its nuclear weapons and production capabilities director of us national intelligence daniel coats said north korean leaders view nuclear arms as critical to regime survival he added his statements come despite north korea agreement with the us at the singapore summit last year to denuclearise the korean peninsula ',\n",
       " 'jet airways on wednesday denied it was directed by ge capital aviation services to ground its aircraft due to non-payment of dues the airline said it in the process of delivering three aircraft to lessors due to the expiry of lease terms further three aircraft have been temporarily grounded to carry out an engine normalisation exercise it added.',\n",
       " 'retired justice srikrishna enquiry panel has found that ex-ceo chanda kochhar violated icici bank code of conduct the bank said it ll treat kochhar exit as termination and will take back all bonuses paid to her from april 2009 until march 2018 the cbi recently filed case against kochhar her husband and videocon md in the icici-videocon loan case.',\n",
       " 'ex-india cricketer jacob martin has been shifted to general ward from the icu after being on ventilator for nearly month following road accident wherein he severely injured his lungs martin wife khyati mentioned there are chances that jacob will be in hospital for two more months bcci csk and various cricketers provided financial assistance for martin treatment.',\n",
       " 'sri lanka all-rounder thisara perera has written to sri lanka cricket ceo ashley de silva asking the board to intervene after odi captain lasith malinga wife tanya targeted him on facebook tanya accused perera of meeting country sports minister to secure his place in the team we ve become laughing stock of whole country because of one person personal vendetta perera wrote.',\n",
       " 'goa cm and ex-defence minister manohar parrikar has written letter to congress president rahul gandhi over his claim that parrikar told him he has nothing to do with new rafale deal parrikar wrote kindly do not use your visit to an ailing person to feed political opportunism in their five-minute meeting they didn discuss anything about rafale he added.',\n",
       " 'prime minister narendra modi stopped his speech at the inauguration of the new terminal building at surat airport after observing that cameraman had fainted pm modi then asked his officers to urgently arrange for an ambulance for the cameraman it good that pm was paying attention to his surroundings during his speech the cameraman later said from hospital ',\n",
       " 'a couple got divorced minutes after their wedding ceremony got over in gujarat gondal as disagreement broke out and relatives from both sides started throwing dishes at each other during lunch the advocates representing both sides arrived at the marriage hall and got the couple divorced within minutes the couple even reportedly returned the gifts exchanged during the ceremony.',\n",
       " 'gujarat education minister bhupendrasinh chudasma has written congratulatory message to yoga ashram run by rape-convict asaram organisation for observing february 14 as matru-pitru pujan divas mother-father worship day after the congress termed the letter as unfortunate saying it shows the nexus between bjp and godman chudasma clarified all have done is sent best wishes ',\n",
       " 'venezuelan president nicolã\\x83â¡s maduro has claimed that his american counterpart donald trump ordered the colombian government and the colombian mafia to kill him if something happens to me trump and colombian president ivã\\x83â¡n mã\\x83â¡rquez will bear responsibility he added the us has blamed maduro for the economic crisis in venezuela and recognised opposition leader juan guaidã\\x83â³ as interim president.',\n",
       " 'eight asian billionaires aged 90 or above on the bloomberg billionaires index of world 500 richest people have combined net worth of $125 billion the richest among them is hong kong li ka shing with net worth of $30.5 billion india 90-year-old pallonji mistry who controls 18.3% of tata sons through shapoorji pallonji group is worth $20.1 billion.',\n",
       " 'tamil nadu food safety officials on wednesday raided and seized 000 kgs of banned plastic items from hotel saravana bhavan in chennai vadapalani officials began surprise check in the branch at am the state government had banned single-use plastics from january and said the banned items should be handed over at the offices of the city corporation.',\n",
       " 'actress shamita shetty was verbally abused and her driver was slapped in an incident of road rage in mumbai on tuesday as per reports the incident reportedly took place after motorist who was accompanied by two friends rammed his vehicle into shamita car the men allegedly manhandled and threatened shamita driver when he stepped out to inspect the damage ',\n",
       " 'actress vaani kapoor said that trolling has become norm on social media adding there no one who hasn got trolled on social media everybody is out there to pull the other person down but it ll only bother you if you let it bother you vaani added she further said social media offers platform where people enjoy belittling everybody ',\n",
       " 'actress sushmita sen took to instagram to share joke on the subject of marriage whoever invented marriage was creepy as hell like love you so much iã¢â\\x80â\\x99m gonna get the government involved so you canã¢â\\x80â\\x99t leave sushmita post read this is an insult to the beauty of marriage an instagram user commented on her post.',\n",
       " 'television actor karanvir bohra who flew to russia on tuesday to attend film festival has been detained in moscow due to passport damage they are contemplating to deport me back to india the actor wrote on twitter the indian embassy in russia capital responded to his tweet and said that they were looking into the issue ',\n",
       " 'while speaking about winning awards for his films shah rukh khan said if don get an award that award is at loss sometimes the prestige of an award increases when receive it the actor jokingly added shah rukh further said that he was extremely ambitious but in fair manner ',\n",
       " 'actress patralekhaa will make her debut in the kannada film industry with the action-comedy film where is my kannadaka can definitely say that itã¢â\\x80â\\x99s kind of role that havenã¢â\\x80â\\x99t portrayed on screen so far and that makes it special for me the actress said in statement shooting for the film will reportedly begin in april.',\n",
       " 'gmail on tuesday faced global outage which also affected india wherein certain users complained they faced 404 error message while trying to sign-in to their accounts the error message read the requested url was not found on this server that all we know google responded saying problem with gmail should be resolved now we apologise for the inconvenience .',\n",
       " 'shiv sena chief uddhav thackeray has asked the bjp to decide about the alliance with the sena within 15 days and said the bjp should make concrete proposal on the alliance thackeray added that only if the bjp agrees to sena terms and conditions the party will agree for an alliance sena is free to fight independently he said ',\n",
       " 'bjp president amit shah on wednesday took dig at the opposition proposed grand alliance saying if the mahagathbandhan comes to power each opposition leader will be prime minister every day of the week he added the country will go on holiday on sunday he said the opposition is thinking about leading the country but does not have leader.',\n",
       " 'prime minister narendra modi on wednesday said his government demonetisation decision made houses affordable for the aspiring youth he added decisions like demonetisation and rera have put check on black money that used to be parked in the real estate sector he said udan ude desh ka aam nagrik scheme has boosted the development of the country aviation sector.',\n",
       " 'german multinational engineering and electronics firm bosch has made its first investment in india in bengaluru-based deep-tech startup simyog simyog has raised about ã¢â\\x82â¹6.3 crore in the funding round with participation from early-stage venture capital firm ideaspring capital incubated at the indian institute of science iisc it provides design and sign-off tools for automotive electronics.',\n",
       " 'mumbai-headquartered talent technology startup shortlist has raised $2 million in series round of funding the round was led by blue haven initiative with participation from compass venture capital zephyr acorn among others founded by simon desjardins paul breloff and matt schnuck shortlist screens candidates using predictive chat-based interviews and online competency-based assessments.',\n",
       " 'mit engineers have developed jelly-like ingestible pill that expands inside the stomach and can be used to monitor conditions like cancers and ulcers for up to month the pill made using two types of hydrogels is embedded with sensor that continuously tracks the stomach temperature it can be removed by drinking calcium-ion solution that shrinks it.',\n",
       " 'new york columbia university neuro-engineers claim to have developed system that can convert human brain signals directly into speech using artificial intelligence researchers revealed computer algorithm vocoder was used this is the same technology used by amazon echo and apple siri to give verbal responses to our questions senior author of the study nima mesgarani said.',\n",
       " 'a team of iit-roorkee scientists is testing floating device that can generate electricity from flowing surface water of rivers instead of using water falling from height to turn turbines like in traditional dams the prototype uses velocity of flowing river professor rp saini said flowing water can generate hundred times more power than wind of same velocity saini added.',\n",
       " 'a 22-year-old woman died after she fell down flight of stairs in new york city subway station while carrying her one-year-old baby in pram the station where she died didn have elevators only about quarter of new york city 472 subway stations have elevators making the rest inaccessible to people in wheelchairs and parents carrying prams.',\n",
       " 'the country largest fuel retailer indian oil corporation on wednesday reported 91% year-on-year decline in its net profit at ã¢â\\x82â¹717 crore for the december quarter the fall in profit came amid increased expenses which stood at ã¢â\\x82â¹1.6 lakh crore and rise in foreign exchange loss the company domestic sales increased 2.8% from the year-ago period to 21.545 million tonnes.',\n",
       " 'speaking about the incident when her private pictures were leaked online actress hansika motwani said certain people said since anyway did bikini shoots what the big deal if such pictures are leaked when do bikini shoot m doing it out of my own choice here it being circulated without consent she added hansika said some of the leaked pictures were morphed.',\n",
       " 'pakistan captain sarfaraz ahmed has said that former fast bowler shoaib akhtar was not criticising but personally attacking him over the four-match ban handed to him by the icc over his abey kaale remark on south africa andile phehlukwayo akhtar had said that sarfaraz comments were unacceptable and that he had gotten off easily with four-match suspension.',\n",
       " 'apple on tuesday said its sales in china fell 27% in the december quarter representing nearly $5 billion of lost revenue apple overall revenue fell 4.5% to $84.3 billion during the quarter while profit fell slightly to $19.97 billion notably the iphone maker reported decline in both revenue and profits for the first time in more than 10 years.',\n",
       " 'after congress president rahul gandhi recent poll promises like minimum income guarantee and women reservation scholar and activist madhu kishwar tweeted wait till rahul gandhi also promises free sex for every adult male for certain number of days every year several people criticised her for the remark with one saying can believe you have written it stumped sad ',\n",
       " 'after congress chief rahul gandhi claimed goa cm manohar parrikar told him he had nothing to do with the new rafale deal bjp minister mauvin godinho asked rahul not to politicise courtesy visit godinho added it wasn the right thing for rahul gandhi to do when you come to enquire about person health it should be limited to that ',\n",
       " 'bjp mla surendra singh on wednesday compared congress president rahul gandhi and his sister priyanka gandhi to ravana and surpanakha from ramayana just how ravana pushed his sister surpanakha in the war ahead of him rahul gandhi has pushed his sister priyanka in the fray we are blessed with leader like pm narendra modi singh said.',\n",
       " 'all india anna dravida munnetra kazhagam aiadmk has told party leaders who want to contest the upcoming lok sabha polls to pay ã¢â\\x82â¹25 000 while submitting their application forms the fee is applicable for total of 40 seats in tamil nadu and puducherry aiadmk had issued similar notification for party ticket aspirants ahead of the 2014 lok sabha polls ',\n",
       " 'a special cbi court in guwahati has awarded life sentence to national democratic front of bodoland founder and chief ranjan daimary and nine others in connection with the 2008 assam serial blasts which killed 88 people around 11 bombs went off across assam in the attacks that took place almost month before 26/11 mumbai attack.',\n",
       " 'the supreme court today allowed former finance minister chidambaram son karti chidambaram to travel abroad but warned him you can go wherever you want but don play around with the law the court also directed karti an accused in the aircel-maxis case to deposit ã¢â\\x82â¹10 crore as surety and warned him of action in case of an iota of non-cooperation ',\n",
       " 'wayanad district congress committee member om george has been booked for allegedly sexually assaulting minor tribal girl for one and half years in kerala george who is currently absconding was suspended from the primary membership of the party meanwhile the girl has been shifted to government-run shelter home ',\n",
       " 'goa cm manohar parrikar who is also the state finance minister presented the annual budget in the state assembly on wednesday with tube in his nose suffering from pancreatic ailment for months parrikar said he was in full hosh consciousness after goa congress chief girish chodankar said the cm should come back to hosh before speaking about josh ',\n",
       " 'the delhi police has registered an fir against spicejet chairman and md ajay singh and seven other directors in cheating case delhi-based private consultant alleged that they used his services in the aviation sector but did not pay his fees the complainant has defrauded the company and is now filing frivolous complaints to extract money spicejet said.',\n",
       " 'mahindra group chairman anand mahindra took to twitter to share the picture of menu featuring dish named delicious roasted husband he captioned it m certainly going to think twice about visiting this restaurant with my wife don want her getting any creative ideas reacting to his tweet user commented doesn the wife roast the husband daily ',\n",
       " 'deepika padukone has taken over as chairperson of mumbai academy of moving image mami replacing filmmaker kiran rao who served as chairperson for four years believe in mamiã¢â\\x80â\\x99s vision and we are committed towards creating community that cinema lovers and creators truly deserve ã¢â\\x80â\\x9d deepika said kiran rao reportedly stepped down as chairperson to focus on film project.',\n",
       " 'a 14-year-old us boy mother claims he found apple group facetime call bug over week before it went viral while setting up call to play fortnite with his friends grant thompson mother said she tweeted about the bug on january 21 but didn receive response from apple facetime group calls were disabled by apple pending software update.',\n",
       " 'facebook has been paying some users up to $20 month since 2016 to install vpn app facebook research to access their private data according to techcrunch report the program that targets users aged 13-35 years through ads reportedly accessed private messages search history and amazon order history facebook said it ll remove the app ios version the report added.',\n",
       " 'chhattisgarh chief minister bhupesh baghel has said that maintenance of internal security act misa detainees are not freedom fighters and they should not get pension the state government on tuesday ordered all commissioners and district collectors to put on hold disbursement of pension for misa detainees from february onwards the government also ordered their physical verification.',\n",
       " 'after congress president rahul gandhi claimed goa cm manohar parrikar had told him he had nothing to do with the new rafale deal osd officer on special duty to parrikar prasanna karthik called rahul compulsive liar karthik accused rahul of shamelessly lying about parrikar after claiming he wanted to meet the cm to wish the latter speedy recovery.',\n",
       " 'uttar pradesh minister om prakash rajbhar on wednesday took dig at the state cabinet ministers who had gone to take holy dip in the sangam saying that they were washing off their sins in the river rajbhar alleged that corruption in the present government was four times more than what it was during the sp and bsp governments.',\n",
       " 'after congress leader shashi tharoor took jibe at up cm yogi adityanath holy dip in the ganga bjp spokesman nalin kohli said this is very unfortunate nalin added an extremely educated and respected person like tharoor always comes up with such kind of comments related to practices of the hindu religion tharoor must show respect for other people too ',\n",
       " 'the gujarat government has asked ride-hailing services like ola and uber to start electric vehicle services the state energy department led by gujarat energy minister saurabh patel is working on creating policy to provide required infrastructure to mass-run electric vehicles patel said recharge stations with charged batteries will be available in manner similar to existing petrol pumps.',\n",
       " 'nasa osiris-rex spacecraft has sent the most detailed images of asteroid bennu which has one-in-2 700 chance of hitting earth in the next century as per nasa the two images of the potentially earth-bound asteroid south pole were clicked from distance of around 1.6 kilometres on january 17 nasa said osiris-rex has travelled around 2.2 billion km till date.',\n",
       " 'prime minister narendra modi on wednesday paid tribute to mahatma gandhi on his 71st death anniversary at his samadhi in rajghat new delhi on martyrs day we gratefully remember mahatma gandhi and the countless freedom fighters who sacrificed their all for our independence president ram nath kovind tweeted congress president rahul gandhi also paid his tribute to mahatma gandhi.',\n",
       " 'venezuela has barred juan guaidã\\x83â³ who declared himself the interim president from leaving the country and froze his bank accounts he prohibited from leaving for having caused harm to peace in the republic president of venezuela supreme tribunal of justice maikel moreno said this came after the us gave guaidã\\x83â³ the right to control venezuela bank accounts in the us.',\n",
       " 'at least two people were killed and four others were injured on wednesday after grenade was thrown into mosque in zamboanga philippines authorities said an unidentified assailant reportedly threw grenade when about 10 people were sleeping this comes days after explosions at roman catholic cathedral left 21 people dead and over 100 injured in the philippines.',\n",
       " 'a serial killer in canada has pleaded guilty to killing eight men most of whom were linked to toronto gay village neighbourhood police had found the remains of seven men in planters at property where 67-year-old bruce mcarthur worked as landscaper the cases allegedly involved sexual assault or forcible confinement and the bodies were dismembered.',\n",
       " 'the supreme court on wednesday asked karti chidambaram to deposit ã¢â\\x82â¹10 crore with the court registry as precondition to his travelling abroad in february and march the apex court further asked him to appear before the enforcement directorate in march regarding the aircel-maxis and inx media cases karti had sought permission to travel abroad for various tennis tournaments.',\n",
       " 'pakistani singer rahat fateh ali khan has been issued show cause notice by the enforcement directorate ed for allegedly smuggling illegal foreign currency out of india for three years khan got $340 000 ã¢â\\x82â¹2.42 crore through illegal means of which he reportedly smuggled $225 000 ã¢â\\x82â¹1.6 crore the ed has sought the singer response within 45 days.',\n",
       " 'arka patra 30-year-old groom from west bengal arrived for his wedding ceremony in road roller on sunday wanted to make my wedding ceremony memorable and unique could take vintage car but that would not be new he said patra said his wife also agreed to his idea when he had discussed it with her.',\n",
       " 'actress mishti who has featured in manikarnika the queen of jhansi has said she really upset about some of her scenes being removed from the film after the movie didn speak to anyone just walked out of the theatre she added from selfish perspective as an artiste think my character has turned into caricature said mishti.',\n",
       " 'actor kartik aaryan while speaking about the tweet in which he shared backfie taken by imtiaz ali showing pm narendra modi from behind said we were worried it would backfire we were calling ourselves losers but agar wo galat le liya hota toh backfire ho jata he added speaking about the pm reply kartik said bahut hi sweet sa tweet tha ',\n",
       " 'shraddha kapoor has been criticised over cultural appropriation for wearing native american headdress in shoot by dabboo ratnani the shoot is part of ratnani 2019 calendar launched on monday calling out shraddha instagram page diet sabya wrote the controversy is part of wider effort by native american activists to highlight the ongoing cultural genocide against indigenous peoples ',\n",
       " 'after congress president rahul gandhi met goa cm manohar parrikar bjp mla michael lobo said his simplicity his humbleness has to be really admired by all the indians and the goans lobo added these types of leaders are required in goa and india rahul had said he made personal visit to parrikar office to wish him speedy recovery.',\n",
       " 'mp cm kamal nath has ordered the reinstatement of government school teacher suspended for an objectionable online post on congress president rahul gandhi stating the suspension was contrary to his rahul way of thinking and to my way of thinking as well nath advised the teacher to read about the sacrifice of the gandhi family to dispel any prejudice .',\n",
       " 'congress president rahul gandhi on tuesday said friends goa cm and former defence minister manohar parrikar clearly stated he has nothing to do with the new rafale deal that was orchestrated by pm narendra modi to benefit anil ambani the remarks comes after rahul meeting with parrikar at the cm office which the congress chief claimed was personal visit .',\n",
       " 'congress mp shashi tharoor has shared an image of uttar pradesh cm yogi adityanath taking holy dip at kumbh mela along with his cabinet ministers you want to keep the ganga clean and also wash your sins in it everyone is naked in this sangam jai ganga maiya ki tharoor caption on the picture read.',\n",
       " 'three women were arrested on tuesday in connection with the poisoning of prasad at temple in chikkaballapur district karnataka two women had died while several other people were hospitalised with complaints of vomiting and loose motions the police had earlier said the temple management was not responsible as the women had brought the prasad themselves and were distributing it ',\n",
       " 'the us intelligence worldwide threat assessment report has stated terror groups supported by pakistan will continue to conduct terrorist attacks in india and afghanistan it also warned of communal violence in india in view of the upcoming general polls the report claimed communal clashes could alienate indian muslims and allow islamist terrorist groups in india to expand their influence ',\n",
       " 'padma vibhushan awardee and retired non-executive chairman of t group anil manibhai naik received at least ã¢â\\x82â¹19 crore after encashing his accumulated leaves of over 50 years the company also revealed naik got ã¢â\\x82â¹55.038 crore as gratuity and ã¢â\\x82â¹1.50 crore as pension that is part of his retirement benefit naik had joined t in 1965 as junior engineer.',\n",
       " 'a video of mother removing black jacket of her three-year-old child on orders of security personnel before entering an event addressed by cm sarbananda sonowal in assam has surfaced online policeman said they had been asked to not allow anyone to carry black items inside the venue probe has been ordered into the incident by cm sonowal.',\n",
       " 'a two-year-old toddler was allegedly kidnapped by woman while playing outside his house with his 11-year-old sister in gurugram on tuesday morning the woman took the toddler to her home after lying to his sister that someone was calling her inside the house meanwhile the police rescued the toddler within five hours and arrested the woman ',\n",
       " 'a 53-year-old priest in namakkal anjaneyar temple in tamil nadu died after he slipped and fell down from an 11-foot-high platform after garlanding 18-foot-high lord anjaneyar statue officials said the priest was critically injured and was hospitalised on sunday but he succumbed to his injuries on tuesday an official claimed such an incident has not happened in the temple history.',\n",
       " 'the madhya pradesh government will open 000 cow shelters to provide shelter to one lakh cows by may senior official revealed the official added the capacity of 614 private cow shelters would be increased to 60 000 the scheme is the first of its kind in the state and is expected to cost ã¢â\\x82â¹450 crore he further said.',\n",
       " 'the only two non-government members of national statistical commission nsc including its acting chief pc mohanan have resigned and cited government withholding the release of employment survey data for 2017-18 as one of the reasons we felt the commission wasn being taken seriously some of the decisions of the nsc weren also considered we thought we were being sidelined mohanan said.',\n",
       " 'singer and stage performer shivani bhatia died in road accident on tuesday morning after her car rammed into divider on the yamuna expressway the singer was accompanied by her husband nikhil bhatia who survived the accident the accident occurred after nikhil attempted to overtake high-speed car and lost control of his vehicle said police.',\n",
       " 'after the only two non-government members of national statistical commission resigned citing lack of involvement in key decisions congress leader chidambaram tweeted one more venerable institution died owing to malicious negligence by the government he added we remember with gratitude its valiant fight to release untainted gdp data may the nsc rest in peace until it is re-born again ',\n",
       " 'google parent alphabet-backed us-based health insurance startup clover health has raised $500 million in funding round led by existing investor greenoaks capital as part of the funding it ll promote its current cto andrew toy to also assume president role founded in 2014 by vivek garipalli and kris gale the startup has raised total of $925 million in funding ',\n",
       " 'german luxury carmaker porsche has revealed its all-electric taycan will feature an 800-volt battery that has fast-charging rates of up to 350 kilowatts adding over 60 miles of charge in just four minutes the taycan will exceed tesla model which currently absorbs around 120 kilowatts porsche also announced three years of free charging at electrify america charging stations.',\n",
       " 'developer platform crio.do has raised ã¢â\\x82â¹7 crore $1 million from investors including flipkart co-founder binny bansal and b2b online marketplace udaan co-founders amod malviya vaibhav gupta and sujeet kumar mekin maheshwari udhyam learning foundation founder also participated in the funding round founded in 2018 the bengaluru-based startup offers learning environment for developers.',\n",
       " 'nasa curiosity rover has shared its last selfie clicked on mars vera rubin ridge which was its home for over year series of 57 pictures were stitched together to create the selfie curiosity had drilled its 19th sample at rock hall on the ridge on december 15 2018 which is also visible in the photo nasa added.',\n",
       " 'cash-strapped carrier jet airways cancelled 15 flights on wednesday after grounding six boeing 737 planes over non-payment of lease rentals facing debts of about $1.14 billion jet airways had cancelled around 20 flights day ago after three boeing 737 aircraft were grounded meanwhile the airline is in talks with its partner etihad for additional cash infusion.',\n",
       " 'a 25-year-old man named saif ali sharafat ali was allegedly killed by the two brothers of his girlfriend in mumbai on tuesday the police said saif was going to marry his girlfriend whose house he was at when her brothers attacked him the 19-year-old and 23-year-old brothers who were opposed to their relationship fled after the incident but were arrested ',\n",
       " 'uk mp fiona onasanya has been jailed for three months after she was found guilty of lying about speeding ticket onasanya was found texting and speeding in an incident last year she said that one of her former tenants was driving her car when it was caught speeding however he was found to be in russia at the time.',\n",
       " 'two thieves in texas us took back flat-screen television inside house after it did not fit in the vehicle that they had stolen the entire incident which took place earlier this month was caught on camera on the home surveillance system the suspects remain at large and authorities have urged the public to help identify them.',\n",
       " 'a bank employee in brazil went to work dressed in spider-man costume on his last working day pictures and videos of whom have gone viral on the internet picture shared by co-worker showed him lying across desk in the superhero costume its caption read last day of work and this person is driving the boss mad ',\n",
       " 'actress alia bhatt has reportedly bought 2 300-square feet apartment for ã¢â\\x82â¹13.11 crore on the first floor of posh building in mumbai juhu she also received two open car parks the 25-year-old actress had earlier reportedly purchased two properties on the second floor of the building from anupam kher and kirron kher for ã¢â\\x82â¹5.16 crore and ã¢â\\x82â¹3.83 crore ',\n",
       " 'french sailor jean-luc van den heede on tuesday won the round-the-world yacht race after 212 days alone at sea without modern instruments the 73-year-old who completed his sixth circumnavigation of the globe became the oldest to complete the 30 000-mile golden globe race of the 19 sailors who started out last july only five were still in the race on tuesday.',\n",
       " 'afghanistan leg-spinner rashid khan has said that cricket has changed everything in afghanistan in the last five-six years we players just try and give 100% in each and every competition everywhere we try our best to give something to the people back home there is nothing else that can bring such smile on their faces rashid added.',\n",
       " 'pakistan captain sarfaraz ahmed who has been banned for four matches for his abey kaale remark to south africa andile phehlukwayo said he ll improve himself and his performance in the future sarfaraz was called back from south africa by pakistan cricket board after being banned by the icc will rest and then play pakistan super league he added.',\n",
       " 'a bee attack forced officials to stop play for around 15 minutes during fourth india a-england lions one-day at greenfield international stadium in thiruvananthapuram on tuesday group of fans provoked the bees by throwing stones at beehive in the stands during england lions 28th over around five spectators were injured and taken to hospital for medical care.',\n",
       " 'us national security advisor john bolton was photographed with notepad that had 000 troops to colombia written on it as he talked to reporters about neighbouring venezuela as the president has said all options are on the table white house spokesperson said when asked if the us would consider taking military option amid the political crisis in venezuela.',\n",
       " 'urban free climber alain robert popularly known as the french spiderman has been arrested in the philippines after climbing an over 700-foot-tall skyscraper in manila see thousands of people inside the building did brighten their day robert said when asked about his climb he holds the guinness world record for most buildings climbed having scaled over 120 structures.',\n",
       " 'the national company law tribunal has rejected the settlement offer made by essar steel promoters the ruia family to regain control of the company ruias made ã¢â\\x82â¹54 389-crore offer on the day the committee of creditors approved arcelormittal ã¢â\\x82â¹42 000-crore resolution plan arcelormittal welcomed the ruling and said it protects the integrity of the insolvency and bankruptcy code ibc .',\n",
       " 'while speaking about the work of urdu poet mirza ghalib veteran lyricist-screenwriter javed akhtar said the language and depth used in his work could have only found meaning in india his work wouldn have been nurtured and preserved if not for this country the lyricist added he further said that ghalib had an amazing range of emotions ',\n",
       " 'disappearing photo and video-sharing platform snapchat is considering making its users posts longer or even permanent reuters report claimed it is further considering revealing identities of users who make public posts the report added the platform is carefully weighing the privacy technical and legal considerations of revealing user identities on public posts it further said.',\n",
       " 'the aam aadmi party aap on monday said there is no law which mentions mlas need to file their assets to the lokayukta aap mlas had filed their assets and liabilities to election commission in 2013 elections and then in 2015 elections the party added aap will again file the affidavits in 2020 elections detailing the assets the party said.',\n",
       " 'nationalist congress party ncp chief sharad pawar on tuesday said there no need to think about the prime ministerial candidate of the proposed grand alliance of opposition parties before 2019 polls we upa hadn declared candidate before 2004 election but we managed to give successful government for 10 years he added he further said bjp had failed to keep its promises.',\n",
       " 'bjp mp hema malini on tuesday claimed that she had been given the green signal by higher-ups of the party to contest again from mathura she also promised the people of her constituency modernisation of the mathura junction railway station the actor-politician also inaugurated various projects at the mathura junction.',\n",
       " 'bjp leader sitaram adivasi first-time mla from vijaypur constituency in madhya pradesh is being weighed against coins by his supporters to make concrete house will definitely pay back their affection with development of the area adiwasi said as per his 2018 assembly elections affidavit the 55-year-old owns tractor on loan two-acre land and ã¢â\\x82â¹46 733.',\n",
       " 'aap mp bhagwant mann will again take charge as the chief of the party punjab unit on wednesday in march 2018 mann had tendered his resignation after kejriwal apologised to shiromani akali dal sad leader bikram singh majithia over allegations of his involvement in drug trade however his resignation was rejected by punjab aap last week ',\n",
       " 'flipkart ceo kalyan krishnamurthy reportedly opposed the february deadline of the revised fdi norms on e-commerce saying the regulations could cause significant customer disruption if the deadline wasn extended reports added he said the policy imposes conditions that could have undesirable impacts on india e-commerce growth his statements were written in letter to dipp as per reuters.',\n",
       " 'researchers have found geological evidence for palaeo-tsunami in northern arabian sea believed to have taken place in 1008 ad in the coastlines of kachchh researchers identified 250-km-long sand sheet deposition dating back to thousand years which is indicator of an underwater earthquake and an ancient tsunami the coastline has unique geomorphic features of sediments researchers said.',\n",
       " 'india has been ranked 78 on the corruption perceptions index 2018 released by the transparency international moving up three places from 2017 the us has been ranked 22 dropping out of top 20 on the index for the first time since 2011 denmark topped the index which ranks 180 countries and territories ',\n",
       " 'uttar pradesh government has asked officials to barcode stray cows and set up temporary cow shelters at unused government buildings the shelters can be established at cooperative institutions and at institutes of the central government which have been lying closed government order read it also suggested radio-frequency identification rfid technology to be used to scan the barcodes n',\n",
       " 'ahmedabad-headquartered lambda therapeutic research on tuesday announced the acquisition of us-based novum pharmaceutical research services the indian contract research organisation said this is its second acquisition in north america following the acquisition of the d facilities of canada biovail in 2010 apart from india lambda has operations in canada poland and the uk.',\n",
       " 'the income tax department on tuesday said it has confiscated assets worth ã¢â\\x82â¹6 900 crore so far under the anti-benami transactions law those who abet and induce benami transactions benamidar and beneficiaries may face rigorous imprisonment up to years besides being liable to pay fine it added the tax department started initiating action under the new law from november 2016.',\n",
       " 'bank of baroda on tuesday posted 321% year-on-year rise in profit at ã¢â\\x82â¹471 crore for the quarter ended december 31 2018 the net interest income rose 16.6% to ã¢â\\x82â¹4 744 crore compared to ã¢â\\x82â¹4 068 crore in the same period year ago the lender asset quality eased with gross bad loans declining to 11.01% as against 11.3% in the year-ago period.',\n",
       " 'conclusion of cases under the bankruptcy law by the nclt within 180-270 days mandated by law can release up to ã¢â\\x82â¹67 000 crore to lenders rating agency icra said of the 484 cases that have been sent to nclt since 2016 898 are yet to be resolved it added out of this 31% have exceeded the 270-day timeline it further said.',\n",
       " 'dewan housing finance dhfl shares fell as much as 11% on tuesday following media report that alleged over ã¢â\\x82â¹31 000-crore fraud by its controlling shareholders the wadhawans the report alleged they diverted funds including money borrowed from state-run banks to shell companies dhfl in response said the report was made with mala fide intent to damage its goodwill and reputation .',\n",
       " 'cash-strapped jet airways on tuesday reportedly grounded three boeing 737 planes due to non-payment of lease rentals leading to cancellation of around 20 domestic flights the number of aircraft grounded by the carrier due to rental payment issues now stand at six reports added the carrier has about 123 aircraft in its fleet including new boeing 737 maxs.',\n",
       " 'while signing autographs for fans following his australian open 2019 victory world number one men tennis player novak djokovic approached fan who had climbed partition to get close to him after realising that the fan didn have anything for him to sign on djokovic signed his own jacket took it off and gave it to the fan.',\n",
       " 'brisbane heat wicketkeeper jimmy peirson slammed six off hobart hurricanes james faulkner which ended up hitting spectator on his face the spectator was hit on the face while attempting to catch the six in the 17th over however he escaped injury the fan was seen in the last over applying ice pack to his forehead and drinking beer ',\n",
       " 'former world number one men tennis player andy murray underwent hip resurfacing surgery in london on monday the 31-year-old who had undergone his first hip surgery in january last year shared pictures of himself as well as his hip x-ray on instagram writing now have metal hip hopefully that will be the end of my hip pain ',\n",
       " 'the beating retreat organised annually at delhi vijay chowk on january 29 signifies the end of the four-day-long republic day celebrations the ceremony marks the event when the troops ceased fighting sheathed their arms and returned to the camps at the sounding of the retreat the ceremony includes performances by the bands of the indian military and various police contingents.',\n",
       " 'uttar pradesh cm yogi adityanath on tuesday took holy dip at the sangam along with other state cabinet ministers following their meeting at the kumbh mela in prayagraj the cabinet meeting at kumbh mela was the first by up cm yogi outside lucknow it was held at the integrated control and command centre set up at kumbh mela venue ',\n",
       " 'global consulting firm accenture said it will begin selling automation software that has already eliminated about 40 000 internal roles accenture synops system suggests ways to streamline and automate processes in areas such as finance and accounting marketing and procurement the company said it took five years to build the synops platform.',\n",
       " 'actresses zarina wahab and barkha bisht sengupta have joined the cast of the upcoming biopic pm narendra modi starring vivek oberoi actors manoj joshi and prashant narayanan have also been roped in for the biopic the film makers announced the film directed by omung kumar will also feature boman irani and darshan kumaar.',\n",
       " 'actor rajkummar rao has said that he finds it overwhelming to be compared to ranbir kapoor and ranveer singh take it as compliment take it with lot of gratitude because you are comparing me with two great actors ã¢â\\x80â\\x9d he added rajkummar further said he doesn take competition into account and only hopes to grow as an actor ',\n",
       " 'shah rukh khan was dismissed of the charge of being beneficiary of benami property in maharashtra alibaug the income tax department issued an attachment order in february 2018 stating that the property was held by the company deja vu farms further naming shah rukh as beneficiary the adjudicating authority aa revoked the order calling it baseless and coloured ',\n",
       " 'nana patekar mother nirmala patekar passed away on tuesday morning aged 99 the actor and several close family members were present at oshiwara crematorium in mumbai where nirmala last rites were performed as per reports nana who lost his father when he was 28 years old lived with his mother in maharashtra murud before she breathed her last reports suggested ',\n",
       " 'actor ravi kishan daughter riva will make her acting debut opposite actress padmini kolhapure son priyaank in the film sab kushal mangal which will also feature akshaye khanna in lead role the film will reportedly be directed by karan kashyap and produced by filmmaker nitin manmohan daughter prachi shooting for the film will begin in march as per reports.',\n",
       " 'cbi sp rajah balaji has accused that he has been transferred by the interim cbi director nageswara rao because he complained about rao misconduct to the then director in march 2017 balaji was recently transferred from delhi anti-corruption branch to ghaziabad cbi academy balaji has also approached the supreme court with petition challenging his transfer report said.',\n",
       " 'after india registered 3-0 lead over new zealand harbhajan singh said o team can stand in front of our team it is great to see the way our team is playing comparing the two teams harbhajan said new zealand is good team but india were better india will play two more odis against new zealand.',\n",
       " 'australia wicketkeeper-batswoman alyssa healy has said that the australian team needs to be wary of india women t20i team captain harmanpreet kaur at the icc women t20 world cup next year harmanpreet who was named in the icc team of the year 2018 helped india reach the semi-finals of the icc women world t20 2018 last november.',\n",
       " 'england cricketer tom curran praised indian captain virat kohli saying he an unbelievable player curran on being asked about his plans to dismiss the indian captain at the next t20 world cup said hopefully not with no-ball we ll see the t20 world cup will be played in australia with india facing england at the mcg on november 2020.',\n",
       " 'rio olympics gold-winner carolina marin is set to undergo knee surgery after having withdrawn from the final of the indonesia masters while playing against india saina nehwal marin who is set to be sidelined for around six months said time to be ready for the hardest battle but have no doubts that ll be back stronger ',\n",
       " 'amazon-owned video platform twitch streamer jessedstreams fell asleep for about three hours while live streaming on the platform and woke up to over 200 viewers and multiple money donations he was filming in the platform just chatting category and fell asleep few hours into streaming clip from the video has since generated over million views on twitch.',\n",
       " 'after promising minimum income guarantee for every poor person congress president rahul gandhi on tuesday said that if voted to power in 2019 congress will pass the women reservation bill we want to see women in positions of leadership he added the bill seeks 33% reservation of seats for women in lok sabha and all legislative assemblies.',\n",
       " 'the trinamool congress tmc will evaluate the performance of its mps both inside and outside parliament before considering them for renomination for the 2019 lok sabha polls report said just because person is sitting mp wouldn ensure he or she is entitled for ticket party official said tmc chief mamata banerjee will take final call on ticket distributions official added.',\n",
       " 'talking about priyanka gandhi entry into politics bjp president amit shah on tuesday said that with the entry of third congress will indulge in more corruption during the upa the government was 2g sonia gandhi and rahul gandhi they did corruption worth ã¢â\\x82â¹12 lakh crore he added shah was referring to the 2g spectrum scam under the erstwhile congress-led centre.',\n",
       " 'us-based wellness startup hims has become unicorn after it raised $100 million in venture-funding round with pre-money valuation of $1 billion as confirmed by techcrunch growth-stage investor led the round with participation from existing investors founded in 2017 the startup targeted at males offers hair-loss products and erectile dysfunction medication among others.',\n",
       " 'arctic canada glaciers have retreated to reveal landscapes which were continuously covered with ice for over 40 000 years as per colorado university boulder researchers radiocarbon dating was used on 48 plant samples collected from baffin island ice caps to determine its ice cover history the research found that modern temperatures represented warmest century for the region in 15 000 years.',\n",
       " 'a man allegedly stabbed his wife to death in her office on tuesday in thane bhayander police said fight broke out between the couple in the office following which the man pulled out knife and stabbed her multiple times the woman was rushed to nearby hospital where doctors declared her dead on arrival the police added.',\n",
       " 'the us on monday imposed sanctions on venezuelan state-owned oil firm pdvsa aimed at pressuring president nicolas maduro to step down proceeds from purchases of venezuelan oil by us entities would flow into blocked accounts and be released only to the legitimate leaders of venezuela the us said it had recognised venezuela opposition leader juan guaido as the interim president.',\n",
       " 'at least five people were killed and around 25 others were injured when gunmen attacked police station in pakistan balochistan on tuesday four gunmen reportedly detonated grenade before opening fire on police and candidates who were taking an exam to join the force all terrorists were killed by the security forces in an operation spanning over eight hours.',\n",
       " 'the two promoter groups of yes bank led by rana kapoor and madhu kapur have agreed to nominate one representative director each on the bank board the directors names will be announced at the next meeting in april the bank said yes bank recently hired deutsche bank india chief ravneet gill as new md and ceo to replace rana kapoor.',\n",
       " 'private lender axis bank on tuesday reported 131% year-on-year rise in its profit at ã¢â\\x82â¹1 681 crore for the december quarter beating estimates the rise was boosted by higher net interest income which rose 18% to ã¢â\\x82â¹5 604 crore the lender reported an improvement in its asset quality with gross bad loans dipping to 5.75% as against 5.96% in the previous quarter.',\n",
       " 'a video of 64-year-old actress rekha has gone viral which shows her moving to another place on realising she was posing for the photographers in front of 76-year-old actor amitabh bachchan photo the video was taken at the launch of photographer dabboo ratnani calendar on monday bachchan kartik aaryan and alia bhatt are among the actors who shot for calendar ',\n",
       " 'nafter man commented too old on 46-year-old actress lisa ray picture she responded to him by tweeting it a blessing to be wise cancer survivor and living my best life at 46.ã¢â\\x80â\\x9d honestly not hurt but adding too to old is symptom of society unrealistic expectations for women imp to embrace age ã¢â\\x80â\\x9d ray said in another tweet.',\n",
       " 'actor nawazuddin siddiqui in recent interview said bollywood stars play only positive roles throughout their lives on being asked why he plays so many negative roles on screen nawazuddin said negative characters used to exist in earlier films when the villains only had negative qualities why don you ask stars why don they play negative roles he added.',\n",
       " 'a recent tweet by scientific american has been criticised by indian users including congress mp shashi tharoor for calling ancient technique of pranayama cardiac coherence breathing the magazine article however mentioned pranayama yoga was the first to build theory around respiratory control it taking the west few millennia to learn what our ancients taught us tharoor tweeted.',\n",
       " 'the medical board of california has revoked doctor licence over negligent diagnosis of four-year-old boy and prescribing marijuana-based cookies in 2012 for attention deficit and bipolar disorder the doctor previously prescribed medical marijuana to the boy father and his older brother to treat similar conditions the doctor lawyer claimed the revocation has been put on hold for now.',\n",
       " 'a former indian air force officer son from kerala has been sentenced to 10 years in jail and fined around ã¢â\\x82â¹30 lakh in saudi arabia on charges of blasphemy he was charged over his tweet on prophet muhammad while replying to muslim woman from london he was sentenced to five-year jail last year but it was doubled last week.',\n",
       " 'a us woman is recovering in hospital after she was rescued from an elevator of billionaire townhouse in new york where she was stuck for three days firefighters forced open the doors of the elevator which was stuck between the second and third floors the woman housekeeping employee was freed after 911 call.',\n",
       " 'a us tyre shop technician saved woman life by giving cpr which he had learned from scene in the american sitcom the office cross scott was test driving customer vehicle when he found the unconscious woman in car which had its hazard lights flashing he smashed the car window and pulled her out before giving cpr.',\n",
       " 'ex-chief economic adviser arvind subramanian has proposed quasi-universal basic rural income of ã¢â\\x82â¹18 000 annually to each rural household except those that are demonstrably well-off he said monthly transfer of ã¢â\\x82â¹1 500 to 75% of the rural population can be covered at cost of ã¢â\\x82â¹2.64 lakh crore subramanian added it should be funded by replacing existing farm and fertiliser subsidies.',\n",
       " 'at cabinet meeting held in prayagraj uttar pradesh cm yogi adityanath announced that the vicky kaushal starrer uri the surgical strike will be exempt from state gst this film is about the countryã¢â\\x80â\\x99s valour and will instil feeling of nationalism and patriotism the up cm said the film is based on the indian army 2016 surgical strike operation.',\n",
       " 'pakistani singer shafqat amanat ali has said that he believes it high time india lifts the ban that prevents pakistani artistes from performing in the country arts and entertainment industry is soft target they know that they canã¢â\\x80â\\x99t fight back so they just ban it the singer added shafqat further said that he misses performing in india ',\n",
       " 'delhi patiala house court on tuesday issued summons to journalist priya ramani as an accused in the defamation case filed by former union minister mj akbar ramani had accused akbar of sexual harassment in the wake of the #metoo movement following which akbar filed criminal defamation against her ramani has been asked to appear in the court on february 25 n',\n",
       " 'former pakistan pacer sarfraz nawaz criticised the pakistan cricket board for appointing shoaib malik as the team stand-in captain after sarfraz ahmed was handed four-match ban for his racial comments nawaz highlighted the fact that the 36-year-old cricketer in the past was asked to quit captaincy in psl amidst suspicions of fixing matches.',\n",
       " 'mit researchers claim they have developed new cryptocurrency vault that reduces the data users need to join the network and verify transactions by up to 99% compared to cryptocurrencies like bitcoin unlike others vault lets users join the network by downloading only fraction of total transaction data researchers said this means much more scalable network they added.',\n",
       " 'an artificial intelligence ai clone of late spanish artist salvador dali will welcome visitors to the dali museum in florida us ai used footages of dali to mimic his face which was superimposed on an actor with similar physique authentic writings from dali were used to enhance the experience which will be unveiled in april 2019 the museum said.',\n",
       " 'apple revealed its app store developers have earned $120 billion since the launch of the app store in 2008 it added developers earned over quarter of the total earnings in the last year alone app store is the new digital main street and creative developers are tapping into the vast potential of global app economy an apple senior director said.',\n",
       " 'apple released new guidelines for developers to protect users from apps that trick them into subscriptions as per the guidelines apps will have to clearly highlight the subscription rates and mention the exact duration of trial period and the amount charged at the end of it apps are also required to clearly show how the purchase can be cancelled.',\n",
       " 'former gujarat chief minister shankersinh vaghela joined the nationalist congress party ncp on tuesday in presence of party chief sharad pawar the 78-year-old who left congress in 2017 on friday said in public life good platform is required to raise issues vaghela is dynamic leader who knows the pulse of the country gujarat ncp chief jayant patel had said.',\n",
       " 'bjp president amit shah on tuesday claimed that every fifth person in west bengal is poor and has no access to food mamata took away ayushman bharat from bengal people it wouldã¢â\\x80â\\x99ve provided healthcare of up to ã¢â\\x82â¹5 lakh to the poor he added he further alleged that one has to pay bribes to avail any service in bengal n',\n",
       " 'retail chain shoppers stop has said it is seeking more clarity on whether the revised fdi norms in e-commerce could affect its stake sale to amazon amazon had acquired 5% stake in shoppers stop through foreign portfolio investor fpi route in 2017 there has been no change in the partnership yet shoppers stop managing director rajiv suri said.',\n",
       " 'the bhog blissful hygienic offering to god project which mandates food safety licence for prasads in temples will be made compulsory in kerala temples executed by the food safety and standards authority of india fssai the policy is to be implemented in temples from march all prasad vendors will reportedly have to obtain fssai licence ',\n",
       " 'bihar chief minister nitish kumar on tuesday broke down while speaking on the demise of former defence minister george fernandes he said his vision has always influenced the way we work for people today he added that it would be his resolve not to forget fernandes guidance and his fight for the rights of the people.',\n",
       " 'a decapitated head of man stuck between springs of freight train engine which travelled 110 km was found by the inspecting staff at birur junction in karnataka chikkamagaluru district the staff were checking the engine after the loco pilot complained of dragging wheels the man had reportedly jumped in front of the speeding train at ranibennur railway station.',\n",
       " 'a platoon of indian army on monday joined the rescue operations to search the miners trapped inside rat-hole mine in meghalaya officials said the soldiers had already started setting up their camps near the tragedy site officials added the soldiers will be providing logistics and administrative support to navy divers reports said ',\n",
       " 'indian-origin activist gina miller has along with two other british lawmakers launched new anti-brexit campaign named lead not leave the initiative will push for britain to remain in the european union eu and restructure the bloc from inside miller had earlier sued the british government over its authority to trigger brexit without the parliament approval.',\n",
       " 'ten children who were kidnapped in tanzania were found dead with their body parts mutilated the authorities said on monday the murders are related to witchcraft tanzania deputy health minister faustine ndugulile said the children aged between two and nine years old were all kidnapped from their homes last month.',\n",
       " 'us president donald trump told white house visitors that his predecessor barack obama sat in the oval office private dining room and watched basketball all day the washington post reported citing unnamed white house officials trump also reportedly told his guests that the dining room was in rough shape and had hole in the wall when he moved in.',\n",
       " 'google india used the really really really meme to ask followers on twitter why they keep asking the google assistant to marry them responding to the post user wrote you know because you spied your users other responses read because she listens to me always and perhaps stop stalking conversations between two individuals first ',\n",
       " 'ahead of jan akanksha rally congress posters depicting party chief rahul gandhi as lord ram have come up in bihar patna the caption read they ll keep chanting ram name while you live like ram rahul ji has all the qualities of lord ram and not pm narendra modi said vijay kumar singh party worker who had put up the posters.',\n",
       " 'the election commission has written to the law ministry to seek ban on political advertisements in digital and print media in the final 48 hours before elections this comes ahead of 2019 polls as the commission hopes to prevent negative media influence in the conduct of fair election it important that voters are not unduly influenced ec said.',\n",
       " 'a 2017 letter by investors to uber co-founder and then ceo travis kalanick has now become public in which the investors told kalanick they need trusted experienced and energetic new ceo the public perception is that uber fundamentally lacks ethical and moral values the investors had said you need to immediately and permanently resign as ceo kalanick was told.',\n",
       " 'claiming bjp only has rough faces madhya pradesh congress leader sajjan singh verma said they have one hema malini and they keep using her to earn votes by performing classical dances verma who was making the statement after bjp leader claimed congress was fielding chocolaty faces added they don have someone as beautiful as priyanka gandhi in their party ',\n",
       " 'ex-defence minister george fernandes who passed away on tuesday forced coca-cola to discontinue its indian operations in 1977 when he was the industries minister fernandes asked cocaã¢â\\x80â\\x90cola to transfer 60% of ownership in indian operations and its formula to local company the us company said it was agreeable to transferring majority of the shares but not the formula.',\n",
       " 'pakistan supreme court upheld the acquittal of christian woman asia bibi in blasphemy case rejecting petition by hardline islamists to review its earlier decision bibi was sentenced to death in 2010 after she was found guilty of insulting prophet mohammed her conviction was overturned by the top court last year prompting protests by islamists calling for her death ',\n",
       " 'a us writer has claimed that billionaire ex-starbucks ceo howard schultz once gave him $5 gift card to celebrate million-dollar deal guy endore-kaiser said schultz assistant gave gift bag which also contained some tea bags after schultz congratulated him endore-kaiser added when he ordered using the gift card starbucks barista told you still owe fifteen cents ',\n",
       " 'sanya malhotra will play vidya balan daughter in the upcoming biopic on mathematician shakuntala devi as per reports this will reportedly be vidya second biopic where she will play lead after her 2011 film the dirty picture which was based on silk smitha life vidya was last seen in nt rama rao biopic where she played his wife basavatarakam ',\n",
       " 'actress sonam kapoor will star in the third instalment of filmmaker vidhu vinod chopra munna bhai franchise as per reports the filmmaker had decided to cast sonam after seeing her performance in her upcoming film ek ladki ko dekha toh aisa laga reports further said sonam earlier acted in the film sanju which was also produced by vidhu vinod chopra ',\n",
       " 'sonam kapoor revealed that she planned her wedding with anand ahuja while shooting for her upcoming film ek ladki ko dekha toh aisa laga along with her father anil kapoor ot much time was wasted as we used to plan in between takes the actress added sonam and anand tied the knot in mumbai on may last year ',\n",
       " 'former indian captain sourav ganguly said it has been complete domination and it good to see them dominate at home and away as well the confidence has been great and it quite impressive to see the bowlers get them out in 50 overs it been great year for india in odis ganguly added after india win in new zealand.',\n",
       " 'speaking about the current indian team former indian cricketer sanjay manjrekar tweeted am seeing an indian team now that fantasised about as player manjrekar who played 37 tests and 74 odis for india posted the tweet after india beat new zealand in the third odi to clinch the five-match series with 3-0 scoreline.',\n",
       " 'rishabh pant scored an unbeaten 76-ball 73 while shardul thakur registered figures of 4/49 to help india beat england lions to claim 4-0 lead in the unofficial one-day series pant and deepak hooda put on 120 for the fifth wicket to help india chase down the target of 222 runs india only lost four wickets in the chase.',\n",
       " 'the us has charged huawei and its cfo meng wanzhou with conspiring to violate us sanctions by doing business with iran through subsidiary it tried to hide it further alleged the chinese company stole trade secrets from t-mobile usa and offered bonuses to employees who stole rivals technology huawei has however said the companies settled their dispute in 2017.',\n",
       " 'popular period-tracking apps are selling women private data bloomgberg report has claimed flo app was found to be selling data to firms like us-based consumer goods firm procter gamble and german pharmaceutical firm bayer ag to provide targeted ads the report said however glow ovia and clue apps claim they don sell data to third parties it added.',\n",
       " 'talking about congress president rahul gandhi minimum income guarantee bsp chief mayawati on tuesday said ã¢â\\x80â\\x9cis this promise also fake one like ã¢â\\x80â\\x98garibi hataoã¢â\\x80â\\x99 and current governmentã¢â\\x80â\\x99s promises on achhe din both the congress and the bjp have failed ã¢â\\x80â\\x9d she added gandhi on monday said that congress will give minimum income guarantee to poor if voted to power.',\n",
       " 'prime minister narendra modi on tuesday condoled the demise of former defence minister george fernandes saying he resisted the emergency tooth and nail he added during his long years in public life george sahab never deviated from his political ideology the pm further said that fernandes was the leader who could humble the mightiest of politicians at the hustings .',\n",
       " 'bjp mp satish gautam has demanded that the word muslim should be dropped from the name aligarh muslim university he added that the word muslim sounds hard whereas the word hindu has feeling attached to it he further said that he is not against such names but the university should be named just aligarh university .',\n",
       " 'union minister ram vilas paswan on monday said there is no question of bringing in an ordinance on the construction of ram mandir in ayodhya and called it closed chapter he added am happy that prime minister narendra modi has told parliament that the government will wait for the supreme court verdict on ram mandir and act accordingly ',\n",
       " 'janata dal united and 10 northeastern political parties including bjp allies will oppose the citizenship amendment bill meghalaya cm conrad sangma said on tuesday the decision was taken at meeting of the political parties in guwahati most political parties in the region were protesting against the bill in their own states so we decided to come together sangma added ',\n",
       " 'us food delivery startup munchery which shutdown week ago was sued by former employee on behalf of himself and 250 others claiming it owes them 60 days wages as per the lawsuit munchery employees weren given legally required 60-day notice prior to the shutdown of the startup former employee reportedly blamed ceo james beriker for the shutdown.',\n",
       " 'mit and other university researchers have developed flexible battery-free device using new two-dimensional material molybdenum disulfide to turn electromagnetic waves including those carrying wifi into electricity the device can be fabricated in roll-to-roll process to cover large areas scientists claimed it can be used to power wearable electronics and medical devices they added.',\n",
       " 'the nagaland cabinet on monday rejected the citizenship amendment bill which was passed in the lok sabha earlier this month people of the state have expressed their opposition to the bill in various forms press release by cm neiphiu rio and chief secretary temjen toy said the cabinet had earlier said that the bill wasn applicable to the state.',\n",
       " 'us president donald trump has said that former starbucks ceo howard schultz doesn have the guts to run for president schultz is not the smartest person besides america already has that trump said in an apparent reference to himself his remarks came after schultz announced that he was considering running for us president in 2020 as an independent candidate.',\n",
       " 'cash-strapped jet airways on monday said it is seeking shareholders approval for allowing lenders to have say in the airline operations by converting loans into shares it has also proposed to increase authorised share capital from ã¢â\\x82â¹200 crore to ã¢â\\x82â¹2 200 crore the naresh goyal-led airline is further seeking to appoint nominees of banks and financial institutions on its board.',\n",
       " 'state bank of india sbi will reportedly take at least 15% stake in cash-strapped jet airways as its lenders plan to convert some loans into equity reports said the carrier second-largest shareholder etihad airways stake may go above 40% as it may infuse additional funds jet chairman naresh goyal stake will fall below 20% from the current 51% reports added.',\n",
       " 'aamir khan has revealed he and juhi chawla didn speak for around 6-7 years after their fight on the sets of their 1997 film ishq juhi called me up when she got to know about my divorce with reena he added juhi somewhere knew might not pick up her call but still she called me that touched me added aamir.',\n",
       " 'former defence minister george fernandes who passed away on tuesday at the age of 88 fought the 1977 lok sabha election from jail and won bihar muzaffarpur constituency he was an undertrial in the baroda dynamite case fernandes had been charged with smuggling dynamite in an alleged plot to blow up railway tracks and government buildings in the case.',\n",
       " 'india irfan pathan is the only cricketer to take hat-trick in test first over in the format nearly 142-year-history featuring 343 matches pathan dismissed pakistan salman butt younis khan and mohammad yousuf on the last three deliveries of the first over in karachi on january 29 2006 he is the only indian pacer to take test hat-trick ',\n",
       " 'rajkummar rao during his appearance on koffee with karan revealed he had crush on aishwarya rai bachchan when he met her for the first time rao who worked with her in fanney khan added he was nervous around her during shooting he further said if he wasn dating patralekhaa he like to take deepika padukone on date.',\n",
       " 'the windies-england test that began on january 29 1998 in jamaica is the only match in test cricket nearly 142-year history which was abandoned as drawn due to dangerous pitch the match lasted 10.1 overs and 56 minutes as england batsmen were struck several times due to uneven deliveries the england physiotherapist claimed even bowlers were embarrassed by the pitch ',\n",
       " 'a bug in apple video calling feature facetime has gone viral where audio can be heard on the caller phone before the person on the other end has accepted or rejected the call this occurred when user added self on group facetime call apple said the issue will be fixed in software update later in the week.',\n",
       " 'congress president rahul gandhi on tuesday held meeting with goa cm manohar parrikar at his office in goa this morning visited goa cm manohar parrikar to wish him speedy recovery it was personal visit rahul tweeted later meanwhile congress legislator chandrakant kavlekar said the two leaders didn discuss the rafale issue.',\n",
       " 'telangana rebel congress leader uppu hymavathi husband prabhakar went back to voters demanding them to return the money the couple distributed before elections his wife was candidate from ward in telangana and managed to bag only 24 votes and lost the local ward elections cash ranging between ã¢â\\x82â¹500-700 was reportedly distributed among the voters ',\n",
       " 'addressing parents during pariksha pe charcha 2.0 prime minister narendra modi said do not expect your children to fulfil your unfulfilled dreams every child has his or her own potential and strengths he also said that students should never do anything under pressure or be compared to their fellow schoolmates.',\n",
       " 'the income tax department conducted raids at 74 locations in chennai and coimbatore in connection with tax evasion probe against realty business holders and saravana stores the residence of saravana stores owner yogirathinam pondurai was also raided earlier the department had conducted raids on number of popular eateries in tamil nadu including saravana bhavan outlets.',\n",
       " 'suman kumari has become the first hindu woman to have been appointed as civil judge in pakistan after passing an examination for induction of judicial officers kumari who hails from qambar-shahdadkot will serve in her native district she has opted for challenging profession am sure she will go places through hard work and honesty her father said.',\n",
       " 'a video of girl who slipped from third floor balcony in china yunlong county has surfaced online the video of the incident shows the girl who was reportedly alone at home hanging with her neck trapped in between railings she was rescued by two men who borrowed ladder and climbed up.',\n",
       " 'as several parts of the us experience extreme cold weather conditions us president donald trump claimed in tweet we need global waming which should come back fast in the midwest windchill temperatures are reaching minus 60 degrees the coldest ever recorded people can last outside even for minutes what the hell is going on with global waming he tweeted.',\n",
       " 'saudi arabia has released saudi-ethiopian billionaire mohammed al amoudi nearly 15 months after he was detained under the kingdom anti-corruption campaign confirming amoudi release ethiopian prime minister abiy ahmed said he raised the issue during visit to saudi last year worth $8.7 billion amoudi owns gold mines coffee plantations and fuel company in ethiopia where he was born.',\n",
       " 'actor manoj bajpayee who was conferred with the padma shri award on friday said that he is happy as nobody has objected on him getting the award have observed that till now no one has abused me on social media and no one has created controversy when my name was announced as one of the awardees added manoj.',\n",
       " 'actor rajkummar rao will replace shah rukh khan in rakesh sharma biopic titled saare jahaan se achcha as per reports earlier there were reports that shah rukh has opted out of the biopic for farhan akhtar don and that vicky kaushal will replace him in the film aamir had revealed that he suggested shah rukh name for the biopic.',\n",
       " 'kartik aaryan while talking about his struggling days and the audition process revealed shakal dekh ke baahar kar dete the kuch bolne nahi dete the they will look at you and say unfit and would feel ki kuch bolne toh do kuch audition toh le lo kartik added he further said that he always thought something positive would happen.',\n",
       " 'rss leader indresh kumar on monday said that actors naseeruddin shah and aamir khan and congress leader navjot singh sidhu are traitors and don deserve respect they re like mir jafar najafi nawab of bengal and jaichand rajput king he added india doesnã¢â\\x80â\\x99t need muslim youth like kasab yakub ishrat jahan but those who walk on path shown by kalam he further said ',\n",
       " 'smriti mandhana and mithali raj scored unbeaten fifties while jhulan goswami registered figures of 3/23 to help india take 2-0 lead over new zealand in the three-match icc women championship one-day international series india won by eight wickets with 88 balls to spare in her last ten odis mandhana has scored at least half-century on eight occasions ',\n",
       " 'the t20 world cup 2020 is set to be icc first tournament since world cup 2011 to not feature an india-pakistan group match india opening match is against south africa on october 24 this will be the first time that the men and women tournaments will be held as standalone events in the same country and in the same year.',\n",
       " 'an italian court directed francesco firano owner of cryptocurrency exchange bitgrail to repay cryptocurrency worth over ã¢â\\x82â¹1 200 crore which went missing last year as per bitgrail victims advocacy group the court ordered bitgrail to be declared bankrupt allowing the seizure of assets from its exchange accounts firano personal assets worth over ã¢â\\x82â¹7 crore were also reportedly seized.',\n",
       " 'malaysia-based startup salamweb has created new mobile and desktop browser which they claim is the world first shariah certified web browser the browser contains features like prayer-timers compass which points to mecca and filters which avoid alcohol and pork-related businesses it is endorsed by the independent global shariah advisory firm amanie shariah supervisory board.',\n",
       " 'suheldev bhartiya samaj party chief op rajbhar said that if bjp doesn implement report on division of reservation to backward classes then it will give divorce to the party disagreeing with the 10% quota to economically weaker section he added there are poor in every category what about them rajbhar has given an ultimatum till february 24 for the same.',\n",
       " 'edinburgh university roslin institute researchers have genetically modified gm chickens to lay eggs that contain proteins that are used in drugs to treat some cancers and arthritis the chickens were modified to produce human protein ifnalpha2a which has anti-cancer effects production of drugs from chickens can cost anywhere from 10 to 100 times less than the factories researcher said.',\n",
       " 'the centre on tuesday approved additional central assistance of ã¢â\\x82â¹7 214.03 crore from the national disaster response fund ndrf to six states and one union territory the fund was sanctioned to himachal pradesh uttar pradesh andhra pradesh karnataka maharashtra gujarat and puducherry maharashtra received an assistance of ã¢â\\x82â¹4 714.28 crore for being affected by drought during 2018-19 ',\n",
       " 'addressing summit at the parmarth niketan camp in kumbh mela lok sabha speaker sumitra mahajan on monday described child marriage as dangerous burden on girls mahajan added girl who is not physically or mentally ready is not mature and does not understand the world must not be burdened with marriage ',\n",
       " 'the national investigation agency in kolkata has arrested 32-year-old suspected militant named kadar kazi in connection with the burdwan blasts case his associate sajjad ali who was involved in activities of jamaat-ul-mujahideen bangladesh jmb was also arrested notably an explosion had occurred at house in burdwan in 2014 following which ieds and taliban training videos were recovered.',\n",
       " 'honor view20 launched in india at starting price of ã¢â\\x82â¹37 999 and will be available for sale starting january 30 on amazon.in and their official website hihonor.in it the world first smartphone to feature 48-megapixel camera and also comes with punch-hole design that extends the display area to 91%',\n",
       " 'in an instagram post for aditya birla group chairman kumar mangalam birla singer-songwriter ananya birla wrote papa you can see this post from your secret account that you created just to stalk me don understand how he understands me so deeply he tried his best to match his tie to the colour of my gown and he almost succeeded she added.',\n",
       " ' simran writer apurva asrani in tweet said kangana ranaut game is brutal she first plays the victim and wins your trust then when you re ready with film she has you thrown out he added that she uses the press and trolls to character assassinate you notably apurva had accused kangana of lying about co-writing the script of simran .',\n",
       " 'former australia batsman mark waugh called former new zealand captain and brisbane heat batsman brendon mccullum lucky t during big bash league chat show on live tv waugh was talking about mccullum favourite hobby outside of cricket horse racing when he uttered the word he loves his horses good punter he a lucky lucky punter too waugh said.',\n",
       " 'following hardik pandya return from suspension after his comments on women on koffee with karan india captain virat kohli said that the controversy will help the 25-year-old all-rounder scale new heights in his career he in good headspace hope he goes on right path and emerges as better cricketer and think he can do that added kohli.',\n",
       " 'in an apparent attack on congress president rahul gandhi gujarat bjp chief jitu vaghani said he was born with commandos around his cradle m not sure if commandos were there when he was being fed milk congress said his remark reflected bjp leaders low-level mentality vaghani later apologised saying his remarks were misconstrued and he was just highlighting the vip culture .',\n",
       " 'a police head constable has been suspended for showering money on girl students during dance performance at republic day function in school in nagpur the head constable pramod walke was reportedly in an inebriated condition when the incident occurred the matter came to light when video of the incident was shared online.',\n",
       " 'after six journalists were not allowed to enter the republic day function in srinagar despite having entry passes editors guild of india said it is shocking this is an unprecedented state-sponsored attack on freedom of press the police said the journalists were stopped after an adverse report was received from cid several other journalists did not cover the event in protest.',\n",
       " 'after class student mother told him her son was avoiding studies due to online games and asked for solution during pariksha pe charcha 2.0 pm narendra modi responded yeh pubg wala hai kya explore ways to encourage your children towards understanding technology but remember technology should be used to expand our horizons not to let it shrink us pm modi added.',\n",
       " 'the centre on tuesday moved the supreme court to seek permission for lifting the status quo on non-disputed land around the disputed ayodhya site and hand over the excess land to its original owners the centre had acquired 67 acres land around the 2.77 acre disputed ram janambhoomi-babri masjid site in 2003 the court ordered to maintain the status quo.',\n",
       " 'a 17-year-old boy has been arrested for allegedly robbing and killing an elderly couple in delhi police said that according to cctv footage the accused who was the son of the elderly couple masseuse stayed inside the house for almost 24 hours during which he killed the couple he spent the night playing games on the couple phones police claimed.',\n",
       " 'a 40-year-old man was arrested after he allegedly kidnapped two eight-year-old girls within span of two months and returned them to their homes delhi police said the accused who has two sons reportedly did not harm the girls and told his family they were his colleagues children after taking them home he later told authorities he wanted daughter ',\n",
       " 'aamir khan who took the full responsibility for the failure of his film thugs of hindostan said didn give flop film since long time so people got an opportunity to take out their anger the audience has full right to say exactly what they want and can be harsh in their criticism that their right he added.',\n",
       " 'actress kareena kapoor khan has said that her character poo in 2001 film kabhi khushi kabhie gham was way ahead of its time it was such bold character don think any indian actor could think of doing it think poo is character that can be replaced it can be done again on screen the actress added.',\n",
       " 'actor ayushmann khurrana will be seen playing the role of policeman in anubhav sinha film titled kanpur dehaat as per reports kanpur dehaat will be based on true incident and ayushmann will play cop for the first time reports suggested the film which will be shot in kanpur is reportedly based on socially-relevant topic ',\n",
       " 'emraan hashmi who made his bollywood debut in 2003 with multi-starrer footpath has said that it is easier to make solo lead films as there are no flying egos on the sets these times are the toughest to make ensemble films it more to do with ego management of actors on board so it becomes tough for the producer the actor added.',\n",
       " 'over 50 aam aadmi party mlas have refused to declare their assets and liabilities to lokayukta on monday the mlas instead sent their notices to lokayukta stating that it lacks jurisdiction over the matter aap spokesperson saurabh bharadwaj said that aap will support the filing of assets and liabilities when the centre makes it compulsory under lokpal and lokayukta act.',\n",
       " 'after video of congress leader siddaramaiah misbehaving with party worker surfaced online minister of state mahesh sharma said it is one of the double-standards of the party on one hand they call themselves protectors of women rights and dignity while their leaders misbehave with women he added in the video siddaramaiah was seen snatching woman complainant mic.',\n",
       " 'after maharashtra chief minister devendra fadnavis claimed bjp is not desperate for an alliance with shiv sena state congress president ashok chavan said fadnavis wanted to show how desperate shiv sena is for an alliance earlier fadnavis had claimed bjp wanted to enter into an alliance with shiv sena but could take on congress-ncp combine on its own as well ',\n",
       " 'goa congress president girish chodankar on monday said party chief rahul gandhi will visit the atal setu bridge after he becomes prime minister chodankar made the statement after bjp invited rahul who is vacationing in goa to visit the bridge chodankar added atal setu is bridge of corruption there was no point of inviting rahul to visit the bridge ',\n",
       " 'as many as 12 people including three children were killed on monday after two cars had head-on collision in madhya pradesh ujjain the deceased who were residents of tilakeshwar colony were reportedly returning home after attending marriage function in nagda one person sustained injuries and investigation into the matter is underway police said ',\n",
       " 'police in sundargarh odisha on monday arrested six people on charges of killing woman and her children on suspicion of witchcraft the main accused budhram munda who called himself ã¢â\\x80â\\x9cwitch doctorã¢â\\x80â\\x9d suspected the woman of casting spell on another accused family the accused then killed them and threw their bodies in nearby well police said.',\n",
       " 'at least five maoists have been killed and one suffered injuries after an encounter with security forces in jharkhand west singhbhum district on tuesday the commando battalion for resolute action cobra and jharkhand police launched special operation to target naxals in the area police said no security personnel involved in the operation has been reported injured so far ',\n",
       " 'west bengal cm mamata banerjee on monday called the national register of citizens nrc an electoral gimmick if one canã¢â\\x80â\\x99t produce their birth certificate then that person will be driven out in the name of nrc she further said she added that people should not worry about it as she will not let anyone implement it in west bengal ',\n",
       " 'as many as 325 children were rescued as part of operation smile in hyderabad since january commissioner of police anjani kumar said on monday of these 53 children were admitted to rescue homes and 272 handed over to their parents kumar added operation smile is month-long programme to rescue missing children child labourers and children engaged in begging.',\n",
       " 'zero-waste online shopping project loop which debuted in the world economic forum 2019 in davos will sell products from companies including coca-cola and hã\\x83â¤agen-dazs in reusable packaging as part of the pilot program 300 items will be added to loop website users can place products after consumption in loop tote which will then be collected cleaned and reused.',\n",
       " 'former defence minister george fernandes passed away on tuesday in delhi at the age of 88 fernandes who also served as the railways minister in former prime minister vp singh government had been diagnosed with alzheimer disease his last stint as parliamentarian was as rajya sabha mp between august 2009 and july 2010.',\n",
       " 'responding to fan request to wear saree in public singer chinmayi sripaada said groups of men take photographs of my waist side of my chest circle it and upload it on soft porn websites get messages on how they re masturbating to it she said can be indian in sari and in jeans she added ',\n",
       " 'trevor dubbed the world loneliest duck has died after being attacked by dogs on the remote pacific island nation of niue facebook page dedicated to the duck said trevor is thought to have arrived on niue 400 kilometres northeast of new zealand during storm in 2018 he was the only member of his species living on the island.',\n",
       " 'talking about her australian open triumph world number one naomi osaka revealed she called her mother after giving interviews following her victory but she didn even congratulate her she just yelled at me to go to sleep so felt really loved the 21-year-old added osaka is the first asian tennis player to top the men or women rankings.',\n",
       " 'sunil gavaskar has welcomed hardik pandya return to team india playing xi saying his presence covers all bases for the team he ll get you some impossible catches get you some terrific run-outs and then with the bat and the ball he does well gavaskar added pandya took diving catch and picked up two wickets against new zealand on monday.',\n",
       " 'during the press conference after his record seventh australian open title victory novak djokovic imitated an italian journalist accent while the latter was asking him question congratulations okay australian opens 15 grand slams the journalist said before djokovic interrupted saying not too bad in italian accent the entire room burst into laughter after listening to djokovic italian accent.',\n",
       " 'after all-rounder hardik pandya took two wickets against new zealand on his return to team india playing xi after suspension on monday captain virat kohli said he hopes pandya emerges as stronger cricketer if you respect the game only then it will reward you kohli added hope he turns around his career in positive way he added.',\n",
       " 'dubai international airport has said that it retained its position as the world busiest airport for international travel for the fifth consecutive year in 2018 passenger traffic at the airport rose to over 8.9 crore in 2018 india remained the biggest source of traffic accounting for more than 1.2 crore passengers.',\n",
       " 'former jammu and kashmir cm omar abdullah on monday took dig at pm narendra modi and bjp president amit shah saying the country is suffering from too much odomos overdose of only modi only shah his comment came after shah said that for congress party orop means only rahul only priyanka orop originally means one rank one pension .',\n",
       " 'congress mp mausam noor on monday joined the trinamool congress tmc in the presence of west bengal cm mamata banerjee m inspired by didi mamata ll work under her guidance for development of the state the mp from malda north said she further said she is confident that the tmc will win all 42 seats in bengal in the upcoming polls.',\n",
       " 'aam aadmi party aap leader raghav chadha on monday claimed that several senior and veteran bjp members in south delhi constituency were eager to join his party ahead of the 2019 polls two bjp leaders former councillor dharamveer awana and raju nirmal joined the aap on monday the bjp members have been influenced by aap ideology and work chadha said.',\n",
       " 'a 21-year-old student who was pursuing llb from delhi university was found hanging in the room of her paying guest accommodation in noida on sunday night she allegedly committed suicide after man whom she had befriended online didn pick her calls following an argument the police said her parents haven filed complaint the police added.',\n",
       " 'chief education officer jagmohan soni from uttarakhand almora was sacked from his position over allegations of corruption hours after receiving the chief minister award for excellence and good governance on republic day the officer has been attached to the education directorate in dehradun meanwhile soni has denied the charges levelled against him calling them baseless.',\n",
       " 'uttar pradesh cm yogi adityanath will hold the cabinet meeting on the banks of the sangam at the kumbh mela in prayagraj for the first time on tuesday state cabinet minister sidharth nath singh said the ministers will also watch the movie uri the surgical strike the ministers are also expected to take dip at the confluence.',\n",
       " 'after india clinched the new zealand odi series indian captain virat kohli said now things are more or less running in auto mode for us speaking about the batting unit kohli said number four is position that we are looking to solidify but when ambati rayudu starts playing like that you start feeling more confident about the batting line-up ',\n",
       " 'former indian cricketer sunil gavaskar praised hardik pandya performance in the 3rd india-new zealand odi saying terrific performance absolutely terrific performance it never easy gavaskar further said he is young man he has had things that have happened and he just wants to forget it the best way to forget it is being out on the field ',\n",
       " 'the i-league organisers said on monday that the fixture between real kashmir and chennai city could not be telecast or live streamed due to adverse climatic conditions it been snowing heavily in the northern part of india the ob van of star sports is stuck in shimla for last one week because of this i-league tweeted.',\n",
       " 'speaking about the introduction of drs technology in the indian domestic circuit saurashtra captain jaydev unadkat said we have seen how drs has helped teams with decisions in the international level saurashtra batsman cheteshwar pujara was twice given reprieve after having edged the ball to the wicket-keeper in the ranji trophy semi-final between saurashtra and karnataka.',\n",
       " 'american online file-sharing platform dropbox has entered into an agreement to acquire electronic signature startup hellosign for $230 million the all-cash deal is expected to close in the first quarter of 2019 founded by joseph walla and neal mara the us-based startup hellosign also offers digital workflow and electronic fax solutions to manage business transactions.',\n",
       " 'antibiotic-resistant genes args linked to superbugs have been found in remote high arctic region after first being detected over 12 000 kilometres away in india nearly decade ago researchers confirmed presence of args after collecting 40 soil samples from svalbard kongsfjorden region they predict it likely transported to the arctic in the gut of migratory birds humans or other animals.',\n",
       " 'speaking at government program west bengal chief minister mamata banerjee said that she prefers to use only mamata and not her surname we should be known by what we do and not by our name she added the bank account has my surname since it was done earlier she further said n',\n",
       " 'after video of former karnataka cm siddaramaiah misbehaving with party worker jamalar surfaced online siddaramaiah called it an accident and said the woman is like her sister tried to stop our party worker jamalar from taking more time ve known her for 15 years he added meanwhile jamalar said spoke roughly shouldn have spoken like that .n',\n",
       " 'former finance commission chairman vijay kelkar has pitched for setting up niti aayog 2.0 for allocating capital and revenue grants to the states he added that the new niti aayog could remove structural issues including regional imbalances in the economy kelkar however said he is not suggesting that the new panel should take the form of the old planning commission.',\n",
       " 'andhra pradesh chief minister chandrababu naidu on monday announced that his government will provide 100 units free power to most backward classes mbcs he added that the government would also give aid of up to ã¢â\\x82â¹15 lakh to backward classes for foreign education we will spread out the poverty eradication program under pro rata basis he further said n',\n",
       " 'the us and taliban agreed in principle to the framework of peace deal that seeks to end the 17-year war in afghanistan the us special representative for afghanistan reconciliation zalmay khalilzad said the taliban committed to prevent afghanistan from being used by terrorists as part of the deal he added the taliban must agree to ceasefire khalilzad said.',\n",
       " 'zee entertainment shares on monday rallied 17% after it denied links with large deposits made after demonetisation the subhash chandra-led group also said that the decline in shares will not lead to default in repayment of loans the group companies market capitalisation fell nearly ã¢â\\x82â¹14 000 crore last week after its name emerged in reports related to the deposits.',\n",
       " 'indian-american pharma entrepreneur john kapoor will go on trial this week in us for bribing doctors with cash dinners and strippers the one-time billionaire who founded insys therapeutics is accused of luring doctors into prescribing highly addictive opioid painkiller meant for cancer patients to increase its sales kapoor who was the company ceo resigned following his arrest in 2017.',\n",
       " 'actress sara ali khan has said that congress leader sushil kumar shinde grandson veer pahariya is the only man she has dated in the past adding that veer did not break her heart sara said my heart has not broken it is all good promise have had no other boyfriends in my life the actress further said.',\n",
       " 'talking about 19-year-old batsman shubman gill who was called up to india squad for the new zealand series india captain virat kohli said he is very exciting talent saw him bat in the nets and was like wow was not even 10% of that when was 19 kohli added shubman averages 77.78 in first-class cricket.',\n",
       " 'former new zealand fast bowler-turned-taxi driver ewen chatfield has retired from club cricket at the age of 68 he represented wellington club naenae old boys for 51 seasons since 1968 chatfield who represented new zealand in 43 tests and 114 odis said after playing for new zealand over 60s team in australia last year he knew it was the end.',\n",
       " 'bjp manjinder singh sirsa has filed complaint against delhi cm arvind kejriwal for making misleading calls to voters of his rajouri garden constituency claiming their names had been deleted from electoral rolls by the bjp he added it a conspiracy to defame him before voters of his constituency aap trying to lower my image in the constituency he said.',\n",
       " 'congress president rahul gandhi during his visit to chhattisgarh on monday said that if voted to power in 2019 the congress is committed to minimum income guarantee for every poor person to help eradicate poverty and hunger we cannot build new india while millions of our brothers sisters suffer the scourge of poverty he added.',\n",
       " 'pakistan minister fawad chaudhry on sunday said the country will try to resume peace talks with india only after the 2019 election results are out he added it is useless to talk to them india now unless there is some stability he said the pakistan government would respect any indian leader and the party elected by the indian people.',\n",
       " 'police have said the murder of rss worker himmat patidar in madhya pradesh ratlam was faked by him to claim ã¢â\\x82â¹20 lakh life insurance he taken on his name patidar allegedly killed labourer burnt his face and tried to pass off the body as his own police added ã¢â\\x82â¹10 000 reward on information on patidar was announced by police.',\n",
       " 'a groom and 25 family members trekked for over kilometres in heavy snow on friday to reach the wedding destination in uttarakhand after 80 people from the procession got stuck in traffic the family decided to send only those needed for the rituals if you see pictures you question whether they were even feeling cold forget difficulty said the groom brother.',\n",
       " 'an 18-month-old toddler on monday died after falling from the escalator at bengaluru metro station onto the main road 50-foot below an official said the child who was with her grandfather suddenly slipped from his hand and suffered head injuries it is advised that parents take extra caution while using the metro facilities with children karnataka cm hd kumaraswamy said.',\n",
       " 'speaking on writer gita mehta decision to decline padma shri award odisha cm naveen patnaik said his sister has the right to do whatever she desires mehta turned down the award citing its timing ahead of the 2019 general elections mehta was named for the award in the foreigners category for her contribution to the field of art and literature.',\n",
       " 'an annual gender balance awards in the uae has been criticised as they were received entirely by men sheikh mohammed bin rashid al maktoum the vice president of the uae handed out awards in the categories of best personality supporting gender balance best federal authority supporting gender balance and the best gender balance initiative at ceremony on sunday.',\n",
       " 'a three-year-old boy who survived two nights alone in the woods in us north carolina told police and his family that he was kept safe by bear the boy was playing with two other children in his grandmother backyard on tuesday before he went missing he was found entangled in shrubs by professional search and rescue teams on thursday.',\n",
       " 'wwe has released video of brock lesnar throwing his wwe universal title belt at the current chairman and ceo of wwe vince mcmahon who was sitting backstage at royal rumble on sunday brock lesnar faced finn balor in one-on-one match for the universal title which he won by getting balor to tap out.',\n",
       " 'the nepal cricket team beat uae by four wickets in the third odi to register their first-ever odi series win on monday the match also witnessed nepal captain paras khadka score the nation first-ever odi century scoring 109-ball 115 nepal had earlier lost the first odi of the three-match series ',\n",
       " 'cristiano ronaldo converted penalty to seal 2-1 win for juventus against lazio in rome on sunday to pull 11 points clear in the serie ronaldo whose penalty was saved last week against chievo scored in his eighth consecutive away match to bring his league tally to 15 goals ronaldo is currently the league second-highest goalscorer.',\n",
       " 'singapore health ministry said details of 14 200 individuals diagnosed with hiv were illegally disclosed online by us citizen the ministry added the breach targeted data of singaporean citizens diagnosed with hiv up to january 2013 and foreigners diagnosed with hiv up to december 2011 last year singapore pm lee hsien loong and 15 lakh citizens healthcare data was stolen.',\n",
       " 'paytm ceo vijay shekhar sharma denying reports of scaling down the startup e-commerce unit paytm mall b2c operations said there no truth to these claims the marketplace is expected to double gross merchandise value gmv to $2 billion by march this year sharma said referring to paytm wholesale b2b vertical he added it budgeted to contribute 10-15% of total mall gmv ',\n",
       " 'us financial regulator sec is probing automaker nissan reportedly over the disclosure of its executive pay in the us this comes after the company ousted chairman carlos ghosn arrest over allegations of under-reporting income nissan ceo hiroto saikawa had said oversights in the company corporate governance permitted the situation to continue which clearly calls for grave reflection ',\n",
       " 'mumbai-based work messaging service startup flock founder bhavin turakhia while denying reports of selling the startup to america dropbox said there is no credence to the rumours he further added flock is in talks with storage services provider dropbox in connection with potential partnership flock is aggressively expanding there are no intentions to sell the company turakhia added.',\n",
       " 'burglars broke into punjab national bank pnb branch in tamil nadu trichy district and escaped with jewellery worth over ã¢â\\x82â¹5 crore some cash and the cctv footage they gained entry into the bank by making hole at the back of the building the police said the robbery was discovered on monday when employees returned from their weekly holiday.',\n",
       " 'the supreme court has asked the centre and meghalaya government to continue operations to rescue the miners trapped in rat-hole mine in meghalaya since december 13 the apex court was hearing pil seeking urgent steps for rescuing the miners while the decomposed body of miner has been retrieved operation to pull out second body is underway.',\n",
       " 'amid reports that full-fledged budget may be presented during the interim budget session former union finance minister yashwant sinha has said that doing so will be unconstitutional the government cannot present an economic survey bring finance bill or introduce new services he added those saying there no rule against full budget why do we have article 116 he further said ',\n",
       " 'while hearing karti chidambaram plea seeking permission to travel to france spain germany and the uk for tennis tournaments the supreme court said no tennis for him if he evades the enforcement directorate the apex court further directed the ed to fix date for the interrogation karti is an accused in the inx media and aircel-maxis money laundering cases.',\n",
       " 'starbucks former ceo howard schultz has said he seriously thinking of running for the us president the 65-year-old added he ll run as centrist independent although he described himself as lifelong democrat having worked at starbucks for nearly four decades schultz is credited with expanding the seattle-based coffeehouse chain from 11 cafes to more than 28 000 in 77 countries.',\n",
       " 'a 20th-century painting by russian artist arkhip kuindzhi was stolen in broad daylight from the new tretyakov gallery in moscow russia onlookers watched as the suspect removed the painting from the wall and walked out of the gallery before the alarm went off the painting was found at construction site after the suspect revealed the location during detention.',\n",
       " 'the afghan army has freed 38 captives from taliban prison in the ghazni province afghanistan defence ministry said in statement on monday nine militants were killed after the taliban clashed with the security forces during the operation three weapons depots and two buildings used by the militants as prison were destroyed by the security forces.',\n",
       " 'at least three people were killed and 172 others were injured after tornado hit the cuban capital havana several homes were destroyed and coastal areas were left flooded after the tornado hit the caribbean nation on sunday night president miguel dã\\x83â\\xadaz-canel bermã\\x83âºdez on twitter shared images of the severe damage caused by the tornado.',\n",
       " 'actress kangana ranaut sister rangoli chandel while addressing the controversy surrounding the directorial credits of manikarnika the queen of jhansi tweeted krish chalo man liya you directed the whole film now please calm down kangana is the leading face of the film let her enjoy this moment of her success please leave her alone she added ',\n",
       " 'speaking at the umang police show 2019 ranbir kapoor revealed policeman once stopped his car and told him he doing the wrong kind of films he saw was inside the car took picture with me and gave me lecture for half an hour ranbir added he said the policeman told him he should play police officer.',\n",
       " 'during the third new zealand-india odi presentation ceremony india fast bowler mohammad shami talked to new zealand cricketer-turned-commentator simon doull in english after being awarded man of the match shami answered to doull in english despite virat kohli being called to interpret praising the 28-year-old pacer doull said your english bahut achcha your english is very good ',\n",
       " 'all-rounder hardik pandya took flying catch to dismiss new zealand captain kane williamson on his return to team india playing xi in the third odi today williamson came down the track and flicked the ball near the midwicket where pandya flew to his left and plucked the catch pandya also registered bowling figures of 10-0-45-2 in the match.',\n",
       " 'maharashtra navnirman sena mns president raj thackeray son amit thackeray married his fiancã\\x83â and fashion designer mitali borude in mumbai on sunday in traditional maharashtrian-style marriage ceremony their wedding festivities were attended by prominent politicians bollywood celebrities including amitabh bachchan and industrialists like mukesh ambani the couple who are childhood friends had got engaged on december 11 2017.',\n",
       " 'the bjp has decided to shift the venue of pm narendra modi rally in west bengal north 24 parganas thakurnagar to another nearby ground the ground where pm modi was supposed to address the mega-gathering on february was booked by the trinamool congress for week-long religious programme the venue did not meet the security requirements the bjp said.',\n",
       " 'american author stephen king praised tesla car fart app in tweet saying m sort of liking the fart app pretty stupid but also quite amusing tesla ceo elon musk responded to the author in tweet saying itã¢â\\x80â\\x99s an honor sir thanks for owning tesla in software update last year tesla added six different on-demand fart noises.',\n",
       " 'in video that has gone viral former karnataka cm siddaramaiah was seen losing his cool and snatching woman complainant mic at public meeting in mysuru snatching the mic resulted in her dupatta being pulled off the national commission for women chief rekha sharma said she ll raise the matter with karnataka dgp to file an fir against siddaramaiah.',\n",
       " 'the bombay high court has imposed fine of ã¢â\\x82â¹25 lakh on haryana woman who allegedly threatened to file fake molestation case against the court receiver and representatives of mumbai-based company the woman an entrepreneur had fight with the company over trademark infringement she later confessed to the court that she didn exactly mean what she said.',\n",
       " 'a man found three-metre-long snake coiled inside the headlight of his bike in tamil nadu thiruvarur he had parked his bike outside mosque for little while and it was during this time that the snake snuggled into his bike report said with the help of locals the man removed the snake from the bike the report added.',\n",
       " 'the wedding of varsha sonawa and vallabh pancholi in madhya pradesh was cancelled after their families fought after the bride refused to cover her head the groom family objected to varsha wearing an evening gown and insisted that she should wear saree the groom took the entire baraat to the police station to lodge an fir against the bride family ',\n",
       " 'a group of four to five thieves on sunday stole an suv gold ornaments cash and four mobile phones from family and their friends at gunpoint at farmhouse in haryana police said the accused then locked all the victims in room before escaping the accused who barged into the farmhouse had covered their faces said the police.',\n",
       " 'first-term us democratic senator kamala harris launched her 2020 presidential campaign on sunday at rally in her hometown oakland we are at an inflexion point in the history of our nation we are here because the american dream and our american democracy are under attack and on the line like never before the 54-year-old said criticising president donald trump.',\n",
       " 'saurashtra reached the final of the ranji trophy after cheteshwar pujara and sheldon jackson hit tons in the second innings to help their side beat karnataka by five wickets on monday saurashtra will face vidarbha in the final which starts on february saurashtra are aiming to win their maiden ranji trophy title while vidarbha are the current defending champions.',\n",
       " 'australian team coach justin langer said that he had not been able to sleep much before the first test against sri lanka as he kept imagining the situation where australia would get beaten at the gabba speaking about the series loss to india langer said there no scarring there just adds few layers to their players character ',\n",
       " 'reacting to wrestler brock lesnar photo from the royal rumble shared by the wwe universe twitter account user tweeted when you hit just your pinky toe against nightstand in the dark.#royalrumble other users reacted to the image with tweets like when you realize tomorrow is monday and when your boss comes into your cube and you re on youtube ',\n",
       " 'google may be working on face scanning feature for its voice-enabled assistant that would scan users faces to provide personalised commands on camera-equipped devices as per report further the feature will have multi-user support that lets users invite other people to create profiles the report added the updated beta version of android google app reportedly revealed this development ',\n",
       " 'according to consumer group which many cars including four of uk five best-selling keyless cars are at risk of being stolen using cheap technology that exploits keyless entry only three of 237 tested cars weren susceptible to being both unlocked and started the report stated ford fiesta volkswagen golf nissan qashqai and ford focus were reportedly among susceptible top-selling cars.',\n",
       " 'over 400 current and former employees of online media outlet buzzfeed have demanded it pay earned paid time off pto or unused vacation days to recently fired us employees it is unconscionable that buzzfeed could justify doing so for some not others the employees said they added buzzfeed is paying pto to fired employees in california where it required by law.',\n",
       " 'accusing karnataka congress mlas of crossing the line state cm hd kumaraswamy on monday threatened to step down from his post congress leaders have to watch all these issues they must control their mlas he added this comes after congress mla puttaranga shetty had said that former karnataka cm siddaramaiah was his chief minister.',\n",
       " 'vishva hindu parishad vhp chief vs kokje has said that bjp will win the 2019 lok sabha elections if it makes law facilitating construction of the ram temple but the government is thinking that if it makes law it ll be challenged in court he added it seems ayodhya case isn among the priorities of the supreme court he further said.',\n",
       " 'after karnataka chief minister hd kumaraswamy threatened to step down as the cm congress leader siddaramaiah said there is no trouble will speak to hd kumaraswamy you media are the people who create trouble he added kumaraswamy on monday threatened to step down when asked about congress mlas comments that siddaramaiah was their chief minister ',\n",
       " 'bjp president amit shah on monday said that while bjp implemented one rank one pension orop congress brought orop in the form of only rahul only priyanka while bjp orop is for jawans families congress orop is for the gandhi and vadra family he added congress last week appointed priyanka gandhi vadra as the congress general secretary of uttar pradesh east.',\n",
       " 'with the theme ã¢â\\x80â\\x98empowering rural economy the gandhian wayã¢â\\x80â\\x99 tripura has won the award for the best state tableau at the 70th republic day parade the second and third positions were bagged by jammu and kashmir and punjab respectively as many as 16 states and six ministries and departments participated in this yearã¢â\\x80â\\x99s republic day parade.n',\n",
       " 'human rights lawyer wang quanzhang has been sentenced to four and half years in prison in china for subversion of state power quanzhang was among several others detained in 2015 under the china crackdown on lawyers and activists he had taken up cases including accusations of police torture and defending members of the banned falun gong spiritual movement.',\n",
       " 'the death toll from the mine dam collapse in brazil last week has risen to 58 and more than 300 others are still missing authorities said the dam break caused sea of muddy sludge to bury the cafeteria at the iron-ore mine where workers were eating lunch before engulfing nearby houses vehicles and roads.',\n",
       " 'tata steel on monday announced its subsidiary ts global holdings will sell majority stake in its south-east asian operations natsteel holdings nsh and tata steel thailand tsth to china hbis group for $327 million tata steel will retain 30% stake in the businesses the chinese state-owned group is amongst the largest steelmakers in the world tata steel added.',\n",
       " 'india defeated new zealand by wickets in the third odi today to take an unassailable 3-0 lead in the five-match series this is the first time since 2009 that india have won an odi series in new zealand virat kohli became only the second captain after ms dhoni to lead india to an odi series victory in new zealand ',\n",
       " 'an 81-year-old woman named eileen macken who grew up in dublin orphanage said she not an orphan anymore after discovering her 103-year-old mother is alive after 61-year-long search this month she said she worked tirelessly with genealogist to find her blood relatives macken spoke to her mother over the phone and plans to meet her soon.',\n",
       " 'priya prakash varrier who got famous after her wink in song manikya malaraya poovi became viral has said she gets bored when people ask her to wink even today wherever go they ask me to wink think have winked at least 200 times on request she added priya further said she wonders what people saw in that wink.',\n",
       " ' manikarnika the queen of jhansi co-director krish while speaking about kangana ranaut claim that she directed 70% of the film said it bulls in the first-half of manikarnika 20-25% film has been shot by kangana while in the second-half only 10% is shot by her he claimed krish further said he is hurt by the controversy.',\n",
       " 'actress esha gupta has apologised on twitter following criticism after she shared screenshot of chat with friend wherein the friend called nigerian footballer alexander iwobi gorilla esha had replied hahahahahah honestly dunno why they don bench him more in her apology she wrote was bad on my part being sports lover sorry guys forgive the stupidity ',\n",
       " 'senior congress leader shashi tharoor on monday said that his party wants defenestration of prime minister narendra modi and the bjp he added that the congress will pull out all the stops before the 2019 general elections speaking on priyanka gandhi induction as the congress general secretary tharoor said she has the charisma to galvanise voters.',\n",
       " 'police have registered an fir against flipkart co-founder sachin bansal and ceo kalyan krishnamurthy for cheating criminal breach of trust and forgery on ghaziabad-based lawyer complaint he alleged that flipkart sold him laptop having features different from what was mentioned at the time of sale he claimed flipkart initially agreed to replace the product but didn replace it.',\n",
       " 'an indian air force iaf jaguar fighter plane on monday crashed in uttar pradesh kushinagar the fighter plane crashed in non-residential area of kushinagar and no casuality has been reported the plane had taken off from the gorakhpur air force base and was on routine mission the pilot of the plane ejected safely iaf said in statement.',\n",
       " 'us democratic presidential aspirant tulsi gabbard has said that she proud to be the first hindu-american to run for president gabbard was born in american samoa to samoan-european father and mother who is of european descent but practises hinduism the 37-year-old lawmaker from hawaii adopted hinduism when she was teenager.',\n",
       " 'anil kapoor has revealed that he has suffered one or two tears and bit of calcification on his right shoulder and will be going to germany for his treatment have taken an appointment in april with dr mã\\x83â¼ller-wohlfahrt anil added anil was reportedly treated by the same celebrity sports doctor last year as well for his ankle injury.',\n",
       " 'reacting to his late father and actor kader khan being conferred with padma shri posthumously for his contribution to cinema sarfaraz khan said it would have been good him accepting it but just want to get it for my father if god is happy with person he still gives respect after the person has left he added ',\n",
       " 'nick jonas parents denise jonas and paul kevin jonas sr threw reception for him and priyanka chopra in the us on sunday sharing family picture on instagram priyanka wrote thank you for wonderful reception this was amazing video showed priyanka and nick dancing to joe jonas song cake by the ocean as he performed at the reception.',\n",
       " 'the indian duo of virat kohli and rohit sharma reached the joint third place in the list of most century stands in odi cricket after going past the landmark in the 3rd india-new zealand odi the duo who registered their 16th century stand on monday are 10 century stands behind sachin tendulkar and sourav ganguly tally ',\n",
       " 'barcelona regained their five-point lead at the top of the la liga points table after lionel messi scored his 26th goal of the season to help his side register 2-0 victory over 10-man girona real madrid also moved into the third place after karim benzema scored twice to give his side 4-2 win over espanyol.',\n",
       " 'the rashtrapati bhavan mughal gardens will be open to public from february to march 10 during the 2019 edition of udyanotsav online booking for the visit during udyanotsav is being introduced for the first time from this year the gardens will be opened for special categories including for farmers differently abled persons paramilitary and delhi police on 11 march.',\n",
       " 'domestic online retailers like snapdeal and shopclues have opposed the extension of the february deadline for implementation of revised fdi policy on e-commerce ã¢â\\x80â\\x9can immediate implementation of revised policy is important to ensure growth of indiaã¢â\\x80â\\x99s small businesses ã¢â\\x80â\\x9d snapdeal co-founder kunal bahl said e-commerce platforms amazon and flipkart had sought for an extension of the deadline.',\n",
       " 'e-cell iit roorkee is hosting its annual entrepreneurship summit 2019 on 2nd and 3rd february the e-summit presents platform to inspire the leaders and problem solvers of today and tomorrow with the theme ã¢â\\x80â\\x9cbuilding for the billionã¢â\\x80â\\x9d it aims to create solutions that impact the lives of the masses through series of exciting competitions and knowledge sessions.n',\n",
       " 'ride-hailing startup ola has reportedly more than halved its investment in food delivery startup foodpanda india which is owned by it the team shifted by ola to foodpanda has been shifted back to the ride-hailing startup the report added ola will reportedly shift focus to private labels and cloud kitchens including great khichdi experiment and lovemade brands under foodpanda.',\n",
       " 'the national green tribunal ngt has asked the railways to identify at least 36 model eco-smart stations within two weeks the tribunal also asked railway administration to get water and energy audits conducted there within three months to reduce their use after the stations are identified an action plan may be prepared within month the ngt said.',\n",
       " 'a case has been filed against congress leader mallikarjun kharge for his remarks on bharat ratna being conferred to assamese artiste bhupen hazarika rti activist raju mahanta who filed the case said kharge has hurt sentiments of assamese people kharge had criticised the government for not conferring the award to spiritual leader shivakumara swami and rather choosing ã¢â\\x80â\\x9ca singer hazarika .',\n",
       " 'at least 17 students were injured two of them critically after private bus overturned in guntur district of andhra pradesh on monday the bus was reportedly carrying over 50 students to school and overturned after hitting culvert the driver of the school bus is being questioned by the police.',\n",
       " 'talking about goa cm manohar parrikar how the josh remark state congress chief girish chodankar said pehle hosh me aao baad me josh ki baat karo first come to your senses then talk about josh the administration has collapsed inauguration of the bridge isn enough to bring josh he added parrikar had made the remark at the inauguration of atal setu .',\n",
       " 'as many as 24 people were arrested across uttar pradesh on sunday in connection with the police recruitment exam fraud the up police special task force stf busted three gangs which provided fraud candidates who wrote the offline exams officials said they would charge the aspirants between ã¢â\\x82â¹5 lakh and ã¢â\\x82â¹12 lakh stf said in statement.',\n",
       " 'india has replaced japan as the world second-largest steel producing country according to report by world steel association worldsteel india crude steel production for 2018 was 106.5 million tonnes mt up by 4.9% on 2017 the report observed china retained its spot as the largest producer of crude steel accounting for more than 51% of production.',\n",
       " 'around 10 000 people took part in the red scarves march in france on sunday chanting slogans like yes to democracy no to revolution to condemn the violence in the yellow vest protests the red scarves protestors said they re not against the demands of the yellow vest movement but oppose the violence that ensued since it began in november last year.',\n",
       " 'senior congress leader chidambaram has criticised cbi for indiscriminately targeting bankers he added the agency action has received ultimate certificate from fm arun jaitley who criticised cbi for its investigative adventurism in the chanda kochhar-videocon loan case glad that jaitley conscience and legal acumen have finally stirred to condemn cbi chidambaram further said.',\n",
       " 'the nissan kicks which was recently launched in india is equipped with segment first-in-class around view monitor 8.0ã¢â\\x80â\\x9d floating infotainment system leather-wrapped soft-touch dashboard and door trims customers can personalise their kicks with 27 different accessory categories get hassle free ownership with ã¢â\\x80â\\x9c3-year cost of maintenance packageã¢â\\x80â\\x9d wherein customers get 3-year warranty 3-year periodic service and 24x7 roadside assistance.',\n",
       " 'sports minister rajyavardhan singh rathoreã¢â\\x80â\\x8f shared an incident where kerala football player named ridvan asked his bride to excuse him for five minutes and went to play football for his team on their wedding night he a defender who plays for fifa manjeri malappuram 7s league team the bride and her family were angry at ridvan when he returned.',\n",
       " 'a video showing uk-based delivery company hermes employee standing on the top of delivery van and throwing the parcel on the first floor of building has gone viral the video captured his two failed attempts where the package dropped to the ground after throwing we believe that this video was taken in germany it clearly unacceptable behaviour hermes said.',\n",
       " 'kangana ranaut starrer manikarnika the queen of jhansi which released on friday has been leaked online by piracy site tamilrockers the movie also stars ankita lokhande danny dengzongpa atul kulkarni and suresh oberoi among others manikarnika the queen of jhansi earned ã¢â\\x82â¹26.85 crore within two days of its release as reported by bollywood trade analyst taran adarsh.',\n",
       " 'bhumi pednekar during her appearance on koffee with karan revealed when she worked as casting director she auditioned rajkummar rao ranveer singh parineeti chopra kriti sanon and disha patani when asked who she thought was bad bhumi revealed she thought disha was little kaccha initially bhumi added she thought rajkummar was okay and parineeti chopra was very good .',\n",
       " 'india ambati rayudu has been suspended from bowling in international cricket after not undergoing bowling action test within the stipulated time set by the icc the 33-year-old was reported on january 13 for suspect action during the first odi of the three-match series against australia in sydney the icc had given rayudu 14 days to undergo testing.',\n",
       " 'virat kohli has become the fifth indian batsman to hit at least 100 50-plus scores in list cricket achieving the feat in the third odi against new zealand at mount maunganui on monday kohli reached the milestone in his 247th list innings sachin tendulkar has hit most 50-plus scores by an indian batsman 174 in 538 innings .',\n",
       " 'india and india under-19 coach rahul dravid has said that hardik pandya and kl rahul can still be role models if they can reach their obvious potential in cricket koffee with karan controversy might be the catalyst that would lead them to reflect and help them reach the level they can achieve in all forms of the game he added.',\n",
       " 'a video shared by the swamp park shows alligators letting their body freeze in us swamp in an attempt to survive the winter only letting their snouts stick out of the water to breathe this state is called brumation wherein cold-blooded animals slow their metabolism and survive without food in alligators brumation can last from four to five months ',\n",
       " 'tamil nadu mdmk leader sathiyaraj balu was arrested on sunday for posting picture on facebook which portrayed prime minister narendra modi as beggar the hindu makkal katchi and bjp brought this to the notice of the police and lodged complaint demanding action he posted the picture ahead of pm modi visit to madurai.',\n",
       " 'a 25-year-old police constable harsh chaudhary was martyred in gunfight with gangster in uttar pradesh amroha district on sunday the gangster was killed in the encounter that was part of drive to check wanted criminals and history-sheeters chief minister yogi adityanath announced compensation of ã¢â\\x82â¹40 lakh for the constable wife and ã¢â\\x82â¹10 lakh for his parents.',\n",
       " 'the woman whose body was found in the bed box of gurugram residence on saturday was one and half months pregnant said senior forensic expert dr deepak mathur who conducted an autopsy on the body she was strangled to death and rope marks are visible on her neck he added the woman was allegedly murdered by her husband.',\n",
       " 'uk queen elizabeth ii husband prince philip has apologised to woman who broke her wrist after being involved in crash with his car can only imagine failed to see the car coming and am very contrite about the consequences he wrote in letter prince philip added that he was somewhat shaken after the accident .',\n",
       " 'actress manisha koirala who was diagnosed with ovarian cancer in 2012 said that she had to make peace with her death the thought of death is the first thing that comes to mind when person is diagnosed with cancer she added was utterly shocked when came to know about the disease manisha further said.',\n",
       " 'talking about her 2006 film vivah co-actor shahid kapoor actress amrita rao said after vivah we should have done more films together but really do not know why it did not happen there is still an audience waiting for us to come together and do film even am looking forward to such an occasion to happen she added.n',\n",
       " 'salman khan and rohit shetty will reportedly collaborate for police drama which will be an action film salman will start shooting after wrapping up ali abbas zafar bharat and the third instalment of dabangg as per reports the film might be spin-off to the character of devi lal singh aka devil from 2014 film kick stated reports ',\n",
       " 'on being asked about shah rukh khan quitting rakesh sharma biopic titled saare jahaan se achcha aamir khan said those are only reports let wait until he makes an announcement about it aamir had revealed that he suggested shah rukh name for the biopic reports had stated that shah rukh opted out of the biopic for farhan akhtar don ',\n",
       " 'denying the reports that his film womaniya has been shelved anurag kashyap said shoot will begin on february 10 tushar hiranandani is the director m the co-creative producer reports had stated the movie required antique weapons that were proving to be expensive given the indefinite delay the actors moved on to other projects the film stars taapsee pannu and bhumi pednekar.',\n",
       " 'aamir khan while talking about his son junaid khan bollywood plans said believe in screen tests if he will pass the screen test then believe he will become an actor and if he doesn he won we are searching the right script for junaid because have seen his work and m quite happy with it added aamir.',\n",
       " 'former madhya pradesh cm shivraj singh chouhan on sunday said ã¢â\\x80â\\x9copposition unity is nothing but bina dulhe ki baraat wedding procession without groom he further said that the opposition doesn have leader and is coming together for their survival today pm narendra modiji is not only my leader but the leader of the entire country ã¢â\\x80â\\x9d he added.',\n",
       " 'us-based roadside assistance startup urgent.ly has raised $21 million about ã¢â\\x82â¹149 crore from investors including the investment arms of automakers bmw porsche and jaguar land rover separately bmw signed the startup as vendor partner for its own roadside assistance platform founded in 2013 urgent.ly provides help to users in need of tyre change and fuel delivery services among others ',\n",
       " 'former assam cm tarun gogoi on sunday called the national register of citizens nrc waste paper that has now become valueless he added that it should have been linked to the voters list till january 2019 those over 40 lakh people left out of nrc are still in voters list and they will cast their vote he further said.',\n",
       " 'a delhi court on monday granted bail to rjd chief lalu prasad yadav his wife rabri devi and son tejashwi yadav in the irctc scam case each accused was granted relief on personal bond of ã¢â\\x82â¹1 lakh and surety of the same amount the scam relates to alleged irregularities in granting operational contracts of two irctc hotels.',\n",
       " 'a mahapanchayat called by the gujjar community in sawai madhopur rajasthan has demanded 5% reservation in government jobs and academic institutions in the next 11 days if they are not given reservation there will be agitation member of the mahapanchayat said in december 2017 rajasthan government had approved 1% reservation for gujjars and four other backward communities.',\n",
       " 'aimim chief asaduddin owaisi on sunday said babasaheb ambedkar was given bharat ratna out of compulsion and not by heart of all bharat ratna awards how many have been given to dalit adivasi muslim poor upper caste and brahmin he added his statements come days after bharat ratna was awarded to pranab mukherjee nanaji deshmukh and bhupen hazarika.',\n",
       " 'aamir khan while speaking about the failure of his latest release thugs of hindostan jokingly said it has been long time that have not given any flop film think the audience has the full right to say exactly what they want he added aamir further said many people also came to him saying they liked the film.',\n",
       " 'hrithik roshan-starrer film kaabil director sanjay gupta on saturday accused hotel seagull in kerala kochi of racism and tweeted got my first hand experience of absolute racism the deck on the waterfront in this pathetic place is for goras only alleged gupta they have empty tables but wonã¢â\\x80â\\x99t give them to indians claiming theyã¢â\\x80â\\x99re reserved he added ',\n",
       " 'actress sophie turner on sunday called out twitter user for posting now-deleted racist meme featuring her game of thrones character sansa stark and tweeted ew please donã¢â\\x80â\\x99t use me to promote racism the meme promoted purity in race and cultureã¢â\\x80â\\x9d and read do it right date and marry white the user account has been suspended by twitter.',\n",
       " 'thai idol girl group bnk48 19-year-old singer pichayapa namsai natha tearfully apologised onstage during concert for wearing t-shirt showing swastika flag of nazi germany during televised rehearsal israeli embassy in bangkok had expressed shock and dismay at the costume on twitter can fix the mistake but promise won let it happen again namsai wrote on instagram.',\n",
       " 'hardik pandya who was drafted into team india squad immediately after his suspension was lifted by coa has been included in playing xi for the third odi against new zealand today pandya who replaces vijay shankar had last played an international match in september 2018 he was suspended for his comments on women on koffee with karan earlier this month.',\n",
       " 'a private search for argentine footballer emiliano sala who went missing after his plane disappeared from radar over english channel on monday has begun after over ã¢â\\x82â¹2.6 crore was raised online to fund the operation two guernsey-based boats are working in the area where the plane last had radar contact the police had called off official search operation on thursday.',\n",
       " 'south africa fast bowler dale steyn took to instagram to reveal that his mother wished him for the third odi against pakistan day after the match took place steyn shared screenshot of his whatsapp conversation with his mother wherein she had written good luck for today my babe steyn replied to her saying thanx mom we played yesterday ',\n",
       " 'union minister anantkumar hegde on sunday said that the hand that touches hindu girl should not exist and should be cut he added there should be fundamental shift in our thinking we should keenly observe what happening around us he further said that we have to rethink about priorities of our society.',\n",
       " 'madhya pradesh congress minister sajjan singh verma on sunday said bjp ka durbhagya hai ki unki party mein khurdure chehre hain aise chehre jinko log napasand karte hain he added chikne chehre unke paas nahi hain his comment came after bjp leader kailash vijayvargiya remarks over priyanka that the congress was fielding chocolaty faces in 2019 lok sabha polls.',\n",
       " 'goa chief minister manohar parrikar asked how the josh reference to dialogue from the movie uri at the inauguration function of the new mandovi bridge atal setu in panaji the ailing goa cm attended the function wearing medical pipe in his nose on january this year parrikar attended office for first time in last months.',\n",
       " 'delhi discom sources are losing nearly ã¢â\\x82â¹150 crore annualy due to the organised theft of power for charging of e-rickshaws lack of proper charging facilities has led to organised rackets of power theft discom sources claimed power theft is at its peak at night due to bulk charging at facilities set up by the rackets discom sources said.',\n",
       " 'at least 15 people were killed and more than 30 others injured during wedding after landslide following heavy rains caused hotel wall to collapse in peru on sunday as many as 100 guests had been invited to the wedding party and dozens of them had been dancing before being caught under the collapsing wall.',\n",
       " 'after winning his 15th grand slam title on sunday serbian tennis player novak djokovic said that he wants to get closer to swiss tennis player roger federer tally of 20 grand slam titles m not trying to think too much in advance do want to definitely focus myself on continuing to improve my game djokovic added.',\n",
       " 'reacting to novak djokovic win over rafael nadal to claim record seventh australian open title user tweeted djoker djemolition other users reacted with tweets like we re witnessing one of the all-time great finals performances here sports fans and take bow @djokernole sheer domination throughout the tournament ',\n",
       " 'karnataka bowler vinay kumar got angry at the umpire after saurashtra batsman cheteshwar pujara was given not-out by the umpire following an edge to the wicket-keeper pujara escaped dismissal on two occasions in the ongoing ranji trophy semi-final pujara who went on to hit his 49th first-class hundred had earlier been given reprieve in the match first innings.',\n",
       " 'indian shuttler saina nehwal wished carolina marin speedy recovery after marin got injured midway during their title match at the indonesia masters on sunday not the way wanted it in the finals of #indonesiamasterssuper500 injuries are worst for players and it was very unfortunate to see @carolinamarin the best player in women badminton to face it tweeted saina.',\n",
       " 'research published by kaspersky lab has identified trojan malware named razy that installs malicious browser extensions and spoofs search results to steal cryptocurrency razy can alter cryptocurrency websites to show planted offers to buy or sell cryptocurrency and embed phishing sites on search results it can also replace cryptocurrency wallet addresses with those owned by cybercriminals.',\n",
       " 'indian-origin mit researcher ramya ramakrishnan in co-authored paper describes method that can improve self-driving cars and robots ai as per method researchers put an ai system through simulation training and asked human to monitor its activities and give feedback they then combined human inputs with training data to pinpoint situations where ai needed more data to act correctly.',\n",
       " 'patidar reservation leader hardik patel on sunday said that he and his wife will together fight for navnirman of the country he added our collective resolution is to fight collectively for the truth for the people and for equal rights he further said the resolution will be to ensure everyone gets equal opportunity.',\n",
       " 'pm narendra modi on sunday said the opposition can abuse him as much as it wants but it shouldn mislead farmers abuse me but don create hurdles in creating opportunities for our youth he added opposition is bankrupt when it comes to positive agenda for india development all they have is hatred for modi he further said.',\n",
       " 'an mit study has found that amazon facial recognition technology rekognition showed both gender and race bias as per the study rekognition was able to correctly identify light-skinned males but incorrectly identified dark-skinned women as men 31% of the time amazon disputed the results arguing that the researchers didn use the current version of the software ',\n",
       " 'world richest person jeff bezos aerospace startup blue origin has started construction of its new rocket engine-making factory in the us alabama the factory will produce be-4 engines used to power its new glenn rocket and united launch alliance vulcan centaur rocket it ll also build be-3u engines used to power new glenn rocket second stage.',\n",
       " 'as many as eight people died and ten were injured when van fell into gorge in uttarakhand champawat on sunday the deceased were taking the body of woman for cremation when the accident happened police official said the injured were rushed to nearby hospital from where three critically injured were airlifted to hospital in haldwani.',\n",
       " 'the delhi high court has said that municipal corporations cannot ask school principals and teachers to perform duties outside the scope of right of children to free and compulsory education rte act it also set aside notifications requiring teachers to conduct household surveys however it said seeking teachers help in opening students bank accounts is justified but can be mandatory.',\n",
       " 'indian-origin retailer brothers simon arora bobby arora and robin arora have been ranked britain 24th highest taxpayers according to top 50 list compiled by the sunday times the arora family behind the m chain of retail stores paid nearly $34 million towards their 2017-18 tax bill it added their wealth was estimated at $3 billion the report further said.',\n",
       " 'hyderabad-based drugmaker aurobindo pharma us arm is recalling nearly lakh bottles of blood pressure lowering drugs from the us market this comes after certain deviations from current good manufacturing practice cgmp regulations were found in them notably other pharmaceutical companies like lupin and sun pharma recently recalled some drugs in the us due to presence of particulate matter.',\n",
       " 'subhash chandra-led essel group companies zee entertainment and dish tv have denied links with nityank infrapower and multiventures which is reportedly under probe over suspicious demonetisation deposits nityank infra is an independent company and does not belong to essel group it added the involvement of essel group in the probe is being done only with malicious intent it further said ',\n",
       " 'odisha 59-year-old devarapalli prakash rao who was awarded with country fourth highest civilian award padma shri this year provides education and food to slum children rao contributed half of his income generated from tea selling to set up school named asha ashwasana in cuttack since 1978 he has also donated blood over 200 times and platelets seven times.',\n",
       " 'actress ankita lokhande who made her bollywood debut with manikarnika the queen of jhansi took to social media and wrote saw myself on the big screen for the first time yes my dream has finally come true watching myself as #jhalkaribai in #manikarnika was an overwhelming experience she added.',\n",
       " 'actress isha koppikar on sunday joined the bjp in the presence of union transport minister nitin gadkari ahead of the 2019 lok sabha elections popularly known as the khallas girl isha forayed into bollywood in the year 2000 with the film fiza isha has been part of hit films like don salaam-e-ishq and several others.',\n",
       " 'batsman kl rahul got out for 13 in his first professional match after return from suspension representing india against england lions in one-day match at thiruvananthapuram rahul faced 25 balls and hit two fours the 26-year-old who was caught out in the eighth over had been suspended for his comments on women on koffee with karan .',\n",
       " 'the crowd at bengaluru m chinnaswamy stadium booed saurashtra batsman cheteshwar pujara by chanting cheater cheater during the ongoing karnataka-saurashtra ranji trophy semi-final match the 31-year-old batsman didn walk despite being caught behind once each in both the innings the umpire declared pujara not out on both occasions despite tv replays showing that pujara had nicked the ball.',\n",
       " 'former uttar pradesh cm akhilesh yadav on sunday took dig at the state cm yogi adityanath saying the government should save the farmers of the state first and leave the ram temple issue to the supreme court his comment came day after cm adityanath said his government would resolve the ram temple issue in 24 hours.',\n",
       " 'a bangalore metropolitan transport corporation bmtc bus conductor returned bag of passenger containing ã¢â\\x82â¹1 lakh in cash and other valuables on january 19 the passenger had taken the bmtc bus from the airport and had left the bag behind after contacting the conductor the passenger collected the bag from him at whitefield depot.',\n",
       " 'defence minister nirmala sitharaman on sunday watched the movie uri the surgical strike along with group of war veterans at bengaluru cinema hall in video posted by her on twitter she can also be seen shouting how the josh in the theatre sitharaman had on january 15 met the cast of the film on the army day.',\n",
       " 'america david matheson prominent anti-gay activist who was practitioner of conversion therapy which promotes the false idea that being gay is something that should be cured has come out as gay matheson in facebook post said he has divorced his wife of 34 years my shortcomings came from my own homophobia and narrow mindedness matheson said.',\n",
       " 'an artwork painted by british street artist bansky as tribute to the victims of 2015 paris terrorist attacks has been stolen from bataclan theatre where 90 people were killed the mural was painted on an emergency door of the theatre and depicted veiled woman gazing mournfully the theatre described the theft as profound indignation that drives us today ',\n",
       " 'serbian tennis player novak djokovic went past former world number one pete sampras tally of 14 grand slam titles after winning his seventh australian open title on sunday with his seventh win djokovic extended his 100% record in the final of the australian open djokovic holds winning head-to-head record over both rafael nadal and roger federer.',\n",
       " 'ahead of the australian open men final australian tennis player nick kyrgios was seen watching fortnite matches that were being played as part of australian open fortnite summer smash the event will see the winning duo take home $50 000 prize the event saw participation from 50 duos one of which featured kyrgios.',\n",
       " 'the french pair of pierre-hugues herbert and nicolas mahut beat 2017 champions finn henri kontinen and australian player john peers 6-4 7-6 7-1 to win their maiden australian open men doubles title on sunday with the victory herbert and mahut added the australian open title to their us open wimbledon and french open crowns to complete the career grand slam.',\n",
       " 'argentina gonzalo higuain revealed that he almost quit football after argentina loss in the copa america 2016 final higuain said he wanted to quit football to look after his ailing mother her reply was that when played football it made her happy she told me that she would not allow me to give up something loved higuain said.',\n",
       " 'pakistan beat south africa by eight wickets to level the odi series 2-2 on sunday pakistan completed their chase with 111 balls to spare this is the first time pakistan have beaten south africa at the wanderers while it was the first loss for south africa in pink odi usman shinwari was named man of the match.',\n",
       " 'according to wabetainfo whatsapp is testing new features in its media menu including show in chat on opening the media menu android users will be able to trace where the image was shared in the chat via the option individual options use as wallpaper set as my profile picture and set as group icon now reportedly under set as option.',\n",
       " 'talking about priyanka gandhi vadra entering active politics bjp mp subramanian swamy has claimed that priyanka suffers from bipolarity and beats up people her ailment reflects her violent character it doesn make her fit to lead public life he added the public should know that no one knows when she will lose her mental balance swamy further said.',\n",
       " 'pragatisheel samajwadi party lohia chief shivpal yadav on saturday announced that he will contest the 2019 lok sabha elections from uttar pradesh firozabad constituency shivpal will fight against his nephew akshay yadav the incumbent mp shivpal further said that in 2019 no government can be formed without his party help and in 2022 psp will form the government in lucknow.',\n",
       " 'according to the national judicial data grid 419 cases are pending before each high court judge while 288 are pending before each lower court judge the data also states that while the sanctioned strength of the high courts is 079 the working strength is only 695 further there is shortage of 135 judicial officers in the subordinate courts.n',\n",
       " 'a ward boy of pune hospital has been arrested for allegedly filming woman as she changed her clothes for an mri procedure the incident came to light when the woman discovered phone in the changing room and found her undressing clip in it ward boy asked her to change in room different from the one designatedã¢â\\x80â\\x9d police said.',\n",
       " 'pm modi on sunday inaugurated an integrated bharat petroleum bpcl refinery expansion complex in kerala kochi and dedicated the ã¢â\\x82â¹16 504-crore investment to the nation the complex would transform kochi refinery as the largest state-run refinery in the country he said he also laid the foundation stone for petrochemical complex at the refinery and skill development institute at ettumanoor.',\n",
       " 'trai chairman rs sharma has said 90% tv viewer onboarding is expected before the february deadline for migration to the new regulatory tariff for dth and cable operators the trend recorded over past few days indicated that 100% onboarding will be reached soon he added trai had stated last week that 40% of consumers have already exercised their options.',\n",
       " 'in raid conducted at the jaipur residence of indian revenue service irs officer sahi ram meena the anti corruption bureau has recovered around ã¢â\\x82â¹2.3 crore in cash jewellery worth ã¢â\\x82â¹6 lakh documents related to 82 pieces of land 25 shops among others were also recovered police said meena currently posted as deputy commissioner narcotics in kota has been arrested.',\n",
       " 'pm narendra modi on sunday said that over lakh villages in india have been declared open defecation free odf and 98% of rural india is under sanitation coverage he added that crore households have been provided with toilets india is moving towards liberation from open defecation much prior to the target of october 2019 he further said.',\n",
       " 'over 70 world trade organization wto member countries agreed to discuss new e-commerce framework while other member countries including india decided to keep off it we don think the time is right for the country to take on multilateral obligations in e-commerce rules government official reportedly said the announcement to start negotiations was made at the world economic forum 2019.',\n",
       " 'saudi arabia energy minister khalid al-falih said the kingdom is seeking nearly $430 billion in investment by 2030 for infrastructure and other industrial projects in order to cut its reliance on oil the programme will integrate the mining industry and energy sectors he added the initiative is part of crown prince mohammed bin salman vision 2030 plan for the kingdom ',\n",
       " 'vedanta founder and chairman anil agarwal has indicated that his son or daughter may not head the group as it is too big to have family succession plan my children have their own passion and they are doing very well he added he further said he has appointed extremely capable ceos and executives to run the company.',\n",
       " 'world number one novak djokovic defeated world number two rafael nadal in straight sets in the men singles final on sunday to win australian open for record seventh time this is the third time that the 31-year-old serbian has won three consecutive grand slams titles djokovic has now won 15 grand slam titles third-most by male tennis player.',\n",
       " 'patidar quota 25-year-old leader hardik patel on sunday married kinjal parikh his childhood friend to whom he was engaged for while at temple in digsar village of gujarat surendranagar district parikh is commerce graduate who is currently pursuing law degree the two-day wedding ceremony was low-key affair attended by around 100 close friends and family members.',\n",
       " 'the supreme court on sunday postponed the 5-judge constitution bench hearing on ayodhya case scheduled for january 29 this year due to the non-availability of justice sa bobde chief justice of india ranjan gogoi had reconstituted the bench to hear the case he had included justice ashok bhushan and justice abdul nazeer on the bench.',\n",
       " 'cbi officer-in-charge sudhanshu dhar mishra who lodged an fir into the alleged irregularities in loan disbursement by icici bank was transferred from delhi to jharkhand the development comes after cbi charged icici bank former md and ceo chanda kochhar her husband deepak kochhar and videocon vn dhoot for cheating and conspiracy dhar had signed fir against them on january 22.',\n",
       " 'amrita rao has said she uncomfortable doing love-making scenes while adding love-making is so personal to me if do it on screen it like m leaving part of my soul cannot do that she added m not saying it wrong it the reflection of how our society has changed it just about choice we all make amrita further said.',\n",
       " 'sanjay dutt sister priya dutt has said their family would forever be grateful to late shiv sena founder bal thackeray for supporting sanjay when he was charged under tada act there was one voice who said this boy cannot be terrorist because his family has always worked for the people of the country that was the voice of balasaheb she added.',\n",
       " 'actress bhumi pednekar has revealed that she didn know she was actually being auditioned during her audition for her debut film dum laga ke haisha as casting director shanoo sharma had told her that it was mock audition guess when sharat katariya my director kind of liked my work they told me we were actually auditioning you she added ',\n",
       " 'television actress divyanka tripathi has been called out by instagram page diet sabya for wearing copy of designer sabyasachi tiger motif belt the caption in the post reads you ve to live under giant rock to not know that this is an iconic @sabyasachiofficial belt no excuses the belt that divyanka is wearing in the photo is from rimayu .',\n",
       " ' nari shakti women empowerment has been chosen as the hindi word of the year 2018 by oxford dictionaries the announcement was made during session at the jaipur literature festival nari shakti drew focused attention in 2018 thanks to concerted efforts by the government of india and hindi speakers nationwide to realize aims for inclusive development read oxford dictionaries blog.',\n",
       " 'india bullet train service will say sorry to every passenger even if the train is delayed by only minute the national high speed rail corporation nhsrcl has decided the ahmedabad-mumbai bullet train will see 70 trips per day running at 320 kms per hour the fares are expected to be around 1.5 times the fare of ac first class.',\n",
       " 'prime minister narendra modi on sunday said an atmosphere of mistrust was being created in tamil nadu by few people to serve their interest over 10% quota for the ews of the general category he added urge all of you to remain vigilant against such negativity he said any political thought which opposes poor can ever benefit anyone .',\n",
       " 'union minister dharmendra pradhan on sunday said odisha chief minister naveen patnaik was shaken with the bjp rise he added patnaik is spreading speculations that he may support the bjp fearing the credibility of pm narendra modi in the state he said we are sure to emerge as the number one party and also get majority in the assembly ',\n",
       " 'prime minister narendra modi on sunday said that india will soon mark its presence on the moon with chandrayaan-2 mission in his 52nd episode of mann ki baat the pm added that india has created world record for launching 104 satellites simultaneously from the same spacecraft he said india now propels satellites of both the developing and developed nations.',\n",
       " 'as many as eight students were injured in madhya pradesh seoni on saturday after school teacher mistakenly pressed his new car accelerator instead of the brake leading to the car ramming into the students the students were having their mid-day meal when the car rammed into them the teacher identified as krishna kumar has been arrested.',\n",
       " 'railways minister piyush goyal on sunday said that india fastest indigenous train train 18 will now be known as vande bharat express the train will run between delhi and varanasi at maximum speed of 160 km per hour the 16-coach train was built in 18 months at cost of ã¢â\\x82â¹97 crore by the integral coach factory chennai.',\n",
       " 'actress sonam kapoor has said that she believes lot in gender fluidity adding think clothes should be gender neutral in general for me it is very exciting to wear clothes people perceive as menswear and when see men wear clothes which people perceive as womenswear think it is very cool it more rebellious than louder she added.',\n",
       " 'sunny kaushal harrdy sandhu and tahir raj bhasin will star in ranveer singh upcoming film 83 as per reports directed by kabir khan the film is based on india win in the 1983 cricket world cup ranveer will be portraying former indian cricketer kapil dev while punjabi singer-actor ammy virk will be seen as balwinder singh sandhu in the film.',\n",
       " 'the india side clinched the unofficial one-day series after defeating england lions by 60 runs in the third unofficial one-day match at greenfield international stadium in thiruvananthapuram left-arm spinner krunal pandya 4/21 from 5.5 overs helped india register their win the 27-year-old also contributed with the bat by scoring 23-ball 21.',\n",
       " 'windies spinner roston chase picked up eight wickets in the second innings to help his side beat england by 381 runs in the first test the defeat is england joint seventh-heaviest in terms of runs in test cricket windies captain jason holder was named man of the match after he scored double ton in the second innings.',\n",
       " 'windies captain jason holder became the top-ranked all-rounder in test cricket after his efforts with both the bat and the ball helped his side defeat england in the first test on saturday holder picked up two wickets in the first innings of the match and scored an unbeaten double hundred in the second innings.',\n",
       " 'facebook will discontinue its standalone private photo and video-sharing app moments launched in 2015 on february 25 later this year users can retrieve the content stored on the app by either storing it on facebook or downloading it to their device via facebook link facebook attributed the discontinuation to lesser people using the app but didn share user numbers.',\n",
       " 'bengaluru-based student lending startup slicepay has secured non-banking financial company nbfc licence from the reserve bank of india the startup co-founder rajan bajaj confirmed the same tweeting with this regulatory comfort we will run more aggressively towards our goal founded in 2015 slicepay lets students make purchases online on monthly installments without any collateral.',\n",
       " 'yoga guru baba ramdev on sunday said it was unfortunate that not even one sanyasi saint was awarded the bharat ratna in the last 70 years be it maharishi dayanand saraswati or swami vivekananda or shivakumara swami ji all have contributed so much he added he further appealed to the centre to give bharat ratna to saint the next time.',\n",
       " 'prime minister narendra modi on sunday said the numbers of undergraduate medical seats have been increased by almost 30% in the last 4.5 years the launch of ayushman bharat is also big step he added he further said that 1.5 lakh health and wellness centres are being set up to provide comprehensive primary care and preventive health services.',\n",
       " 'malaysia economic affairs minister on saturday said the country will cancel its $20-billion east coast rail link ecrl project with contractor china communications construction the cost to develop the ecrl is too big and we don have the financial capacity he added malaysia had in august 2018 cancelled natural gas pipeline project which was also backed by china.',\n",
       " 'vedanta resources founder and chairman anil agarwal said he won retire soon and added the conglomerate growth requires his aggression and risk-taking ability why should hang my boots have task to finish he said nobody can think of producing 00 000 barrels oil in such short time you must take the bull by the horn he added ',\n",
       " 'drugmaker lupin on saturday said it has again received six observations from the us health regulator after the inspection of its indore facility in madhya pradesh the company indore and goa facilities had received warning in 2017 over quality control issues the mumbai-based drugmaker recently recalled drugs from the us market due to the presence of particulate matter.',\n",
       " 'saina nehwal became the first indian woman to win indonesia masters title after her opponent carolina marin pulled out due to injury during the first game in the final marin was leading the first game 10-4 before being forced to retire due to knee injury nehwal had finished as runner-up in the 2018 edition of the tournament.',\n",
       " 'a student in france has been accused of calling in hoax bomb threat on an easyjet flight to stop his parents from visiting him the 23-year-old youth made an anonymous call regarding the bomb causing flight from lyon to rennes to turn around on january 18 he was arrested after it was discovered he made hoax threat.',\n",
       " 'new zealand police trolled new zealand cricket team on facebook after team india took 2-0 odi series lead they jokingly issued warning saying witnesses reported india badly assaulting an innocent looking bunch of new zealanders in napier and mount maunganui extra care should be taken if you re carrying anything that looks like bat or ball the post further read.',\n",
       " 'the australian open 2012 men singles final match between novak djokovic and rafael nadal was the longest grand slam title match by duration in history the match which djokovic won 5-7 6-4 6-2 6-7 5-7 7-5 lasted five hours and 53 minutes it overtook the record previously set by the 1988 us open final between mats wilander and ivan lendl.',\n",
       " 'during the 20th over of new zealand innings in the second odi india wicketkeeper ms dhoni while instructing kedar jadhav said bhai aisa daalega toh rakh le tu if you bowl like this it is better to keep fielder in the deep this was after jadhav bowled wider outside off to henry nicholls despite dhoni instructing him to bowl tighter.',\n",
       " 'pakistan captain sarfaraz ahmed has been banned for four matches for breaching the icc anti-racism code sarfaraz had called south africa all-rounder andile phehlukwayo abey kaale during the second odi between the teams at durban on tuesday sarfaraz will miss the remaining two matches of the ongoing odi series and the first two matches of the upcoming t20i series.',\n",
       " 'the uttar pradesh police on saturday recovered the mobile phone of late subodh kumar singh the policeman who was killed in mob violence in bulandshahr last year the phone was recovered from the killing main accused prashant natt house probe is underway search for the pistol is still underway city sp atul srivastava said.',\n",
       " 'syed saymoon kanak media secretary of jatiya samajtantrik dal of bangladesh was trampled to death by wild elephant in west bengal on friday evening kanak along with his wife and friends had visited lataguri in jalpaiguri district for jungle safari while returning kanak went near the animal to take photographs when it caught him with its trunk.',\n",
       " 'at least 27 people were killed and 77 others injured after two bombs exploded at roman catholic cathedral on jolo island in southern philippines on sunday the first blast occurred inside the church while mass was being celebrated and was followed by second explosion in the parking lot according to officials there was no immediate claim of responsibility ',\n",
       " 'an african practice of ironing girl chest with hot stone to delay breast formation is spreading in the uk report by the guardian revealed the perpetrators usually mothers consider it traditional measure which protects girls from sexual harassment and rape the united nations describes it as one of five global under-reported crimes relating to gender-based violence.',\n",
       " 'sinar mas group founder eka tjipta widjaja who had net worth of $9.3 billion passed away on saturday in the indonesian capital jakarta at the age of 98 the indonesian tycoon of chinese origin is known for the $14-billion default by his flagship asia pulp paper the worst corporate default in asia after the 1998 asian financial crisis ',\n",
       " 'parmeet sethi who played the role of kuljeet in 1995 film dilwale dulhania le jayenge ddlj said the film helped him to transform as an actor honoured to be part of such big film with dilwale dulhania le jayenge got to perform negative role on screen and that how started getting more grey shades roles he added.',\n",
       " 'actor vicky kaushal will replace shah rukh khan in rakesh sharma biopic titled saare jahaan se achcha as per reports the makers seem convinced that vicky will do full justice to the role of rakesh sharma if not shah rukh stated reports earlier there were reports that shah rukh has opted out of the biopic for farhan akhtar don ',\n",
       " 'actress sara ali khan while talking about how things have changed since her mother amrita singh time said mom could say something and get away with it but now it will be like headlines quoting her mother amrita sara said one could get away with lot more back then than you do now sara made her bollywood debut with kedarnath ',\n",
       " 'talking about her sons aaryamann and ayushmaan archana puran singh said they have plan to enter into the industry in two-three years hope they would be able to fulfil their dreams she added that currently her sons are studying and learning drama and theatre it up to them how much hard work they are willing to put archana said.',\n",
       " 'denying the reports that said saif ali khan will be playing the role of sara ali khan father in imtiaz ali love aaj kal saif said it is not true at all earlier there were reports that sara and kartik aaryan will star in the sequel to the 2009 film love aaj kal which starred saif and deepika padukone.',\n",
       " 'shreyas talpade has said one can eat dal-chawal all day otherwise you would get bored similarly we actors get bored if we keep doing the same kind of roles in each film he added that it very important to do something different from the comfort zone would be challenging to convince people that can do more than comedy he said.',\n",
       " 'on the occasion of their 1989 film ram lakhan completing 30 years since its release on sunday anil kapoor and madhuri dixit shared video wherein both recreated my name is lakhan song from the film in another post anil kapoor wrote it been one of my greatest joys to watch lakhan continue to bring smile to people faces ',\n",
       " 'according to coder steve troughton-smith the beta version of ios 12.2 references four new ipads in wifi and cellular variants that do not have the face id feature further it also references possible seventh-generation ipod touch device that has neither the face id nor the touch id feature apple has reportedly registered the devices with the eurasian economic commission.',\n",
       " 'punjab finance minister manpreet badal on friday said punjab is congress party fort bjp magic may have worked across the country but it never worked in punjab he added he further said that appointing priyanka gandhi and jyotiraditya scindia as congress general secretaries for uttar pradesh was like smart general bringing the reserve force to the battlefront for success.',\n",
       " 'rjd leader tejashwi yadav has said that congress president rahul gandhi has all the qualities required to become good prime minister he the national president of indiaã¢â\\x80â\\x99s oldest party and has been in parliament for last 15 years he added donã¢â\\x80â\\x99t forget his party has five chief ministers in the country and he is leading them he further added.',\n",
       " 'directorate of revenue intelligence officials on friday arrested five persons including two airline staff for attempting to smuggle gold into india at the coimbatore airport around 16 bars of gold worth ã¢â\\x82â¹55 lakh was seized from them the dri officials intercepted passenger who had arrived on srilankan airlines following which the other four were caught.',\n",
       " 'pm narendra modi on sunday laid the foundation stone of all india institute of medical sciences aiims in madurai as part of his visit to tamil nadu with aiims in madurai this brand name has been taken to all corners of the country he said he also inaugurated super-speciality blocks at rajaji thanjavur and tirunelveli medical colleges.',\n",
       " 'andhra pradesh cm chandrababu naidu has said that there was 100% chance for hacking electronic voting machines evms he demanded that election commission either ensure counting of 100% slips of voter verifiable paper audit trail or revert to the old ballot paper system ec should not exert pressure on using system in which there is no faith ã¢â\\x80â\\x9d he added.',\n",
       " 'the defence ministry has announced that disability or war injury pension special family pension and liberalised family pension shall be minimum ã¢â\\x82â¹18 000 per month the amount has been revised with effect from january 2016 the 7th pay commission had earlier suggested slab-based system for fixing disability pension for soldiers but had received criticism from retired soldiers.',\n",
       " 'as many as two people were killed and 24 others were injured on sunday after bus carrying vaishno devi pilgrims overturned in kathua district of jammu and kashmir police said the pilgrims were returning from the shrine when the vehicle hit the divider and overturned the condition of some of the injured was stated to be serious police said ',\n",
       " 'the goa tamil sangam gts has urged union minister nitin gadkari to name the new mandovi bridge in panaji after cm manohar parrikar most of the people in goa are deeply touched and remembered the good infrastructure and development work carried out by parrikar the great visionary man gts said the bridge will be open to public from sunday ',\n",
       " 'edwise india leading overseas education consultant is organising its 34th world education fair from 28th january to 17th february across 14 cities in india visitors can interact with delegates of 80+ universities and solve queries on personal level related to courses fees visa and loans they can also avail application fee waiver spot offers and scholarships based on merit.',\n",
       " 'american show top chef season 15 contestant pakistani-american chef fatima ali passed away on friday at the age of 29 after her battle with cancer at the end of 2017 she was diagnosed with ewing sarcoma type of bone and soft tissue cancer m getting sicker right now all need are prayers she posted on instagram earlier this month.',\n",
       " 'praising naomi osaka for becoming the first japanese tennis player to win australian open japanese prime minister shinzo abe tweeted am very proud of the emergence of new queen look forward to your continued accomplishments the 21-year-old defeated petra kvitova 7-6 7-2 5-7 6-4 in two hours and 27 minutes in the final on saturday.',\n",
       " 'following india 90-run victory over new zealand in the second odi on saturday all-rounder kedar jadhav said that it helps if ms dhoni is there till the last ball during india innings all his experience it helps players like us to just work around him and he takes most of the strike and scores most of the runs he added.',\n",
       " 'pakistani cricketer-turned-commentator ramiz raja has said he won be translating anything from urdu to english anymore after pakistan captain sarfaraz ahmed was caught on stump mic calling south africa andile phehlukwayo abey kaale during an odi it would ve been an uncouth way of commentating and unintelligent on my behalf raja added about not translating sarfaraz remark on air.',\n",
       " 'manchester city thrashed burnley 5-0 in fa cup fourth round on saturday to record their eighth successive victory across all competitions gabriel jesus opened the scoring for city in the 23rd minute while the remaining four goals came in the second half including an own goal by kevin long city have now scored 30 goals in seven games in 2019.',\n",
       " 'coa chief vinod rai has said he revoked hardik pandya and kl rahul suspensions as it was becoming uncertain and also hurting the team morale they haven played five matches including saturday odi the punishment they have undergone is commensurate with whatever they ve done he added pandya and rahul were suspended over their comments on women on koffee with karan .',\n",
       " 'more than ã¢â\\x82â¹1.55 crore has been raised so far towards private search for cardiff city footballer emiliano sala who has been missing since his plane disappeared from radar over english channel on monday police called off the search on thursday saying the chances of survival at this stage are extremely remote psg midfielder adrien rabiot contributed over ã¢â\\x82â¹20 lakh.',\n",
       " 'after being conferred with padma shri india fourth highest civilian award former india cricketer gautam gambhir said that it an honour which also comes with responsibility it an honour accept with gratitude m living for the day when gautam gambhir the human being beats gautam gambhir the cricketer that will be my day my award to myself he tweeted.',\n",
       " 'bachendri pal the first indian woman to reach the summit of mount everest has said that she was really shocked on being conferred with padma bhushan this year it was surprise for me want to thank pm narendra modi government haven ever applied for any award d like to dedicate this award to my parents the 64-year-old added.',\n",
       " 'india and india under-19 coach rahul dravid has said wealth is not the only reason why young cricketers feel entitled entitlement can come in many ways in any environment it can happen from young age he added his comments come in the wake of controversy surrounding remarks on women made by kl rahul and hardik pandya ',\n",
       " 'indian football team captain sunil chhetri has said it makes him bit nervous to be honoured with padma shri award need some time to understand what the recognition actually means added chhetri who is the sixth footballer to be honoured with the award it ll surely spur me on to be the hungrier fittest and sharpest in my team he further said.',\n",
       " 'the body of woman was found in residence in gurugram inside bed box over five days after the woman went missing for five days dinesh kumar slept on his bed unaware that the body of his driver wife was hidden in its storage he discovered the body after sensing foul smell and immediately called the police.',\n",
       " 'essel group chairman subhash chandra said he compelled to apologise to banks for first time in his 52-year career for not living up to expectations he urged them to be patient till his group completes stake sale in crown jewel zee entertainment to help repay dues if lenders react in panic situation it ll only hurt them and us he added ',\n",
       " 'the income tax department has attached portion of shares held by coffee day enterprises and its founder vg siddhartha in it firm mindtree over potential tax demand the shares represent 4.5% stake siddhartha who owns 21% of mindtree along with his affiliates is reportedly in advanced discussions with various entities to sell his shares in the company ',\n",
       " 'apple biggest iphone assembler foxconn said it injected up to $213.5 million over ã¢â\\x82â¹1 500 crore into its indian unit between september and january for long-term investment the taiwanese firm doesn make any iphones in india though it manufactures xiaomi handsets in the country apple currently assembles the lower-cost se and 6s models in india through wistron local unit in bengaluru ',\n",
       " 'kangana ranaut has said that if you see her recently released film manikarnika the queen of jhansi you will become better person as the film revolves around the higher truth ã¢â\\x80â\\x9cthis film can set new standards for women-centric films ã¢â\\x80â\\x9d she added the film for which kangana has been credited as co-director released on january 25.',\n",
       " 'virat kohli while talking about himself and wife anushka sharma said it the simplest things that give them lot of joy we re always in public eye and we re always doing things in front of people it very important to get away and be totally not known by anyone and that something that both of us really like he added.',\n",
       " 'on the occasion of his film agneepath completing seven years since its release on saturday hrithik roshan wrote after heard the narration just couldn say no to the film agneepath gave me the opportunity of going all guns blazing rarely does script come along which warrants the actor to risk everything including his bones he further wrote.',\n",
       " 'maisie williams who portrays arya stark in game of thrones has said m really proud of this final season ve always felt ashamed to say things like that but m really proud of all the work we ve put in don know if anyone going to be satisfied no one wants it to end for me it the right time she added.',\n",
       " 'indian spinner kuldeep yadav equalled anil kumble tally of registering five four-plus-wicket hauls in odi cricket outside asia yadav registered figures of 4/45 in the second odi between india and new zealand on saturday kumble had picked up his five four-plus-wicket hauls in 94 matches while yadav reached the figure in his 18th match.',\n",
       " 'after priyanka gandhi entry into politics bjp general secretary kailash vijayvargiya on saturday said congress wants to contest the elections while banking on chocolaty faces somebody takes kareena kapoor name while others ask for salman khan now they have brought in priyanka he added he further said that congress doesn have confidence in party chief rahul gandhi leadership.',\n",
       " 'for the first time an all-women contingent of assam rifles took part in the republic day parade on saturday the contingent was led by major khushboo kanwar the daughter of bus conductor feel proud and he her father feels the same itã¢â\\x80â\\x99s gift for him and to struggles he has seen in life kanwar said on leading the contingent ',\n",
       " 'commander vijay varma pilot in the indian navy has been awarded the nao sena medal for gallantry varma had rescued 24 survivors including two pregnant women during the 2018 kerala floods the nao sena medal was also conferred on naval commander abhilash tomy who had suffered back injury while participating in the golden globe race 2018.',\n",
       " 'speaking on the occasion of 70th republic day assam governor jagdish mukhi on saturday said that there is no place for illegal immigrants in assam the people of the state have all the rights on its resources and it will always remain like that he added we ll take all necessary steps to free assam from illegal foreigners he further said.n',\n",
       " 'a woman died and nine people including two children were hospitalised after consuming prasad from temple in karnataka chikkaballapur on friday according to police people started complaining of stomach ache after consuming the prasad temple management isn involved as nobody prepared any prasad there two women had brought some prasad and were distributing it ã¢â\\x80â\\x9d police added ',\n",
       " 'an exchange between 21-year-old scottish student laura maclean and microsoft over her showing up for job interview on skype month early has gone viral laura reached out to microsoft after not receiving their call on january 18 thinking it was february 18 day of her scheduled interview can wait to laugh about this on february 18 microsoft commented.',\n",
       " 'actress sonam kapoor revealed on the kapil sharma show that during her wedding her husband anand ahuja outsmarted actress swara bhasker into stealing his brother shoes during joote chupane ki rasam however swara managed to get money from anand sonam added she also said that anand was clueless about the bangles or chooda she wore after their wedding.',\n",
       " 'us-based 19-year-old youtuber twins grayson dolan and ethan dolan were forced to request their fans to not come to their father sean dolan funeral who passed away due to cancer following sean death hashtags like #seandolanmeetupparty and #seandolanfuneralparty began appearing on social media the best way you could support us is to not show up at his funeral ethan tweeted.',\n",
       " 'actor manoj bajpayee has said he feels he did something good somewhere that he got the fourth highest civilian award padma shri without being close to anybody am not feeling any different from anybody whose journey has been long and hard-earned the 49-year-old said on receiving congratulatory messages bajpayee said people around him feel that they ve won the honour.',\n",
       " ' manikarnika co-director krish while speaking about the controversy involving the film direction credits said kangana told me my version was looking like bhojpuri film we argued but she wanted her way he added krish further said don know how kangana can sleep well by taking the first credit in direction when she does not deserve it ',\n",
       " 'india wicketkeeper-batsman ms dhoni dislodged the bails in no time to stump ross taylor on the bowling of kedar jadhav during the second odi on saturday taylor was beaten on the outside edge and his back foot was in the air when dhoni quickly dislodged the bails dhoni has now effected 119 stumpings in his odi career.',\n",
       " 'talking about meeting world number three roger federer at australian open 2019 india captain virat kohli said he cannot explain the feeling when federer told him they had met in sydney few years back was like wow he remembers me he a great man not just great tennis player but great human being as well kohli added.',\n",
       " 'apple next generation airpods which are rumoured to launch later this year will let users talk to siri without having to touch the airpods at all report said currently airpods users have to double-tap the airpods to initiate siri and then give it commands this functionality will reportedly be added to ios 12.2 set to release later this year.',\n",
       " 'microsoft co-founder and the world second-richest person bill gates on saturday shared the world 10 year challenge showing the human progress in life expectancy youth literacy child mortality and reducing extreme poverty the graphic shared by gates is originally created by johan norberg senior fellow at think tank cato institute and author of several books about economics and globalisation.',\n",
       " 'a girl who was rescued from sex trafficking at the age of 13 by ngo prajwala has cleared her ca final exam with single focus no external help and her own efforts she finally qualified in fourth attempt ngo co-founder sunitha krishnan said today she in 2nd year graduation and college topper she an inspiration for all of us krishnan added.',\n",
       " 'british newspaper the telegraph has apologised unreservedly to melania trump and agreed to pay her substantial damages after it published an article containing number of false statements the story inaccurately stated she was struggling as model when she met us president donald trump the telegraph said the article included claims that melania cried on election night it added ',\n",
       " 'kering the french owner of the gucci luxury brand owes about $1.6 billion to italy in back taxes according to government audit kering swiss subsidiary luxury goods international lgi has been under investigation for allegedly failing to pay taxes due in italy kering said it disputes the outcome of the audit report on the grounds and the amount ',\n",
       " 'japanese fabric company toki sen-i co has sued kanye west and his fashion line yeezy apparel for allegedly failing to pay for an order of fleece fabric amounting to $624 000 over ã¢â\\x82â¹4 crore kanye reportedly informed the company that he wouldn pay for the order after they had manufactured the fabric kanye placed the order in june 2018 reports stated.',\n",
       " 'malayalam actor mohanlal who was conferred with the padma bhushan award on friday said that he was humbled by this recognition am eternally grateful to one and all who have been part of this worldly journey of mine the actor added the five-time national film award winning actor was earlier honoured with the padma shri in 2001.',\n",
       " 'actor prateik babbar and his wife sanya sagar hosted wedding reception in mumbai on friday the theme of which was inspired by american author scott fitzgerald 1925 novel the great gatsby the couple arrived at the reception in vintage red car prateik and sanya tied the knot in lucknow on thursday.',\n",
       " 'speaking about being trolled for her dialogue my business is my business none of your business in the film race actress daisy shah said that the memes made her more popular ither you take it positively or you take it negatively and take it positively the actress added she further said she was very happy with the outcome.',\n",
       " 'a case has been filed against singer zubeen garg for allegedly using unparliamentary language defaming the bharat ratna indiaã¢â\\x80â\\x99s highest civilian honour in an audio clip doing rounds on whatsapp an fir was lodged against garg by satya ranjan borah state vice president bjp kisan morcha assam the way he been behaving cannot be accepted by our society borah said.',\n",
       " 'brihanmumbai municipal corporation bmc is likely to take legal action against sonu sood for converting residential building into hotel without clearance from the municipal body sood reportedly sent proposal to the municipal body in june 2018 which was rejected as it didn comply with its norms bmc is yet to receive an amended proposal from the actor.',\n",
       " 'speaking about the competition for the all-rounder spot in the indian team kedar jadhav said it is good thing for any team that more guys are competing for one spot everybody is trying to put their best foot forward and when you play for india there is bound to be competition jadhav added about the competition in india squad.',\n",
       " 'third seeds barbora krejcikova and rajeev ram defeated local favourites astra sharma and john-patrick smith 7-6 6-1 to win the mixed doubles title at the australian open on saturday this was american ram first grand slam title while krejcikova who won two women doubles majors with fellow czech katerina siniakova last year claimed her first mixed doubles grand slam title.',\n",
       " 'speaking about his opening partner shikhar dhawan rohit sharma said we know each other since long and have good understanding have always enjoyed batting with shikhar am sure it the same for him too the dhawan-rohit opening pair went past the opening duo of sachin tendulkar and virender sehwag as they notched up their 14th century stand.',\n",
       " 'manchester united made it eight wins from eight matches after beating arsenal 3-1 in the fa cup fourth round on friday following the win which saw goals from former arsenal player alexis sanchez jesse lingard and anthony martial united now await the results of the remaining fa cup matches to find out who they will face in the fifth round.',\n",
       " 'former south african international cricketer ab de villiers in his tweet about naomi osaka australian open win took dig at osaka opponent from the us open 2018 serena williams majors in row this time she been allowed to enjoy the moment much deserved #osakakvitova #australianopen read de villiers tweet after osaka win.',\n",
       " 'speaking on the ayodhya dispute uttar pradesh cm yogi adityanath has said his government can resolve the ram temple issue within 24 hours peopleã¢â\\x80â\\x99s ã¢â\\x80â\\x9cpatienceã¢â\\x80â\\x9d on the issue is ã¢â\\x80â\\x9cfast running outã¢â\\x80â\\x9d he added the court should give its verdict soon and if it is unable to do so it should hand over the issue to us he further said.',\n",
       " 'on the 70th republic day india gifted 30 ambulances and six buses to nepal indiaã¢â\\x80â\\x99s ambassador to nepal manjeev singh puri also hoisted the indian flag and read out message by president ram nath kovind at function organised at the indian embassy in kathmandu since 1994 india has gifted 722 ambulances and 142 buses to various nepalese organisations.',\n",
       " 'goa governor mridula sinha on saturday said the crime rate in the state dropped by 8.26% in last one year heinous crimes came down by 15% while incidents of rape decreased by 21% in the past one year she added she further said the state police have introduced self-defence as part of the curriculum in schools and colleges to empower girls ',\n",
       " 'on 70th republic day police and district officials of chhattisgarh naxal-affected bastar waded through water to hoist the tricolour on banks of river indravati naxals killed village head police official said so we came to convey the message that people and police will rule the forests not naxals he added n',\n",
       " 'zee group chairman subhash chandra has said that his recommendation to his brother jawahar lal goel dishtv md to buy videocon d2h was key error which cost both fortune he also said essel infra made incorrect bids which cost it ã¢â\\x82â¹4 000-5 000 crore chandra added that when most infra companies left lenders with bad loans he didn walk away.n',\n",
       " 'priyanka chopra while speaking about online haters said ve never really cared about people who talk shit their mouths are dirty and not mine m only focused on the people that can be loved she added priyanka further said the purpose of social media is connectivity and not creating cesspool for people to put out their angst and hate .',\n",
       " 'rishi kapoor while speaking about his ongoing treatment in new york said it on hopefully ll recover soon and god willing ll return the procedure is long and tedious and one needs immense patience which unfortunately isn one of my virtues he added rishi further said thankfully am not thinking about films anymore this break shall be therapeutic for me ',\n",
       " 'nepal batsman rohit paudel has become the youngest male cricketer to score fifty in an international match achieving the feat at the age of 16 years and 146 days in an odi against uae on saturday the previous record was set by sachin tendulkar who scored 59 in test against pakistan aged 16 years and 213 days.',\n",
       " 'the federation of hotel and restaurant associations of india fhrai has claimed over 200 hotels ended agreements with oyo over mismanagement of contracts arbitrary charges and other disputes other hotels also want to exit contracts but are stuck for various reasons fhrai added oyo denied the allegations adding that some agreements with some rajasthan hotels were ended over repeated offences.',\n",
       " 'the police on friday arrested hyderabad-based job portal wisdomjobs.com ceo ajay kolla and 13 other employees for cheating over one lakh job seekers of nearly ã¢â\\x82â¹70 crore police said 2.85 crore people had registered online with the job portal fake interviews were conducted by the employees sitting in their office impersonating the officials of different global companies offering the jobs.',\n",
       " 'a woman constable named rekha gohil who was riding stunt motorcycle and six children were injured when the bike slipped at state-level republic day parade organised in gujarat palanpur on saturday the injured were taken to palanpur civil hospital gujarat cm vijay rupani state chief secretary jn singh and dg of police shivanand jha were attending the function.',\n",
       " 'the us economy lost at least $6 billion during the partial shutdown of the federal government rating agency standard poor said it more than the $5.7 billion that president donald trump requested to build the southern border wall trump on friday agreed to end the 35-day partial shutdown the longest in history without getting the $5.7 billion ',\n",
       " 'sugarcane juice has won the pakistan government twitter poll to become the national juice of the country options including orange juice sugarcane juice and carrot juice were given in the poll according to the poll out of the 616 votes cast 81% people chose sugarcane juice 15% voted for orange juice while 4% cast their votes for carrot juice.',\n",
       " 'consumer goods maker emami on friday said it has acquired german personal care brand creme 21 for around ã¢â\\x82â¹100 crore over 80% of the brand business is contributed by the middle east and north africa mena region and the rest by germany and other focused countries creme 21 products are manufactured by third party under an asset-light model ',\n",
       " 'jay asher author of the book thirteen reasons why is suing the writer group society of childrenã¢â\\x80â\\x99s book writers and illustrators after he was expelled from the group for alleged sexual misconduct the lawsuit states that the group false and defamatory statements damaged asher reputation and career asher further claimed the group did not properly investigate the allegations against him.',\n",
       " 'veteran poet-lyricist gulzar while talking about his daughter meghna gulzar career said she was in sanyaas for good 6-7 years always saying nahi maine bachha palna hai need to raise my child but then it was vishal bhardwaj who held her hand brought her out of it telling that you have to make films you cannot stop added gulzar.n',\n",
       " 'oscar-winning french music composer michel legrand passed away aged 86 his spokesperson said the three-time oscar recipient won his first academy award in 1968 for the song the windmills of your mind from the film the thomas crown affair during his career spanning over 50 years michel worked with several renowned filmmakers and musicians including orson welles and frank sinatra.',\n",
       " 'shilpa shetty sharing video of herself hoisting the national flag on the occasion of republic day wrote let strive for positive change not just in our country but even our lives arjun kapoor tweeted let promise to be the change we want to see in our country let strive to keep our flag flying high tweeted john abraham ',\n",
       " 'shankar mahadevan who has been awarded padma shri has said lot of my music has been created with my two partners ehsaan and loy so would consider them as equal recipients of this don know if m worthy of this but yeah definitely feel happy he added shankar further said that he feels humbled and honoured.',\n",
       " 'shraddha kapoor will be playing pakistani dancer in the upcoming varun dhawan starrer abcd as per reports varun will be seen playing the role of punjabi boy in the film reports added most portions of the film will reportedly be shot in london and shraddha will join the film team in february to begin her shooting schedule.',\n",
       " 'indian openers rohit sharma and shikhar dhawan went past sachin tendulkar and virender sehwag on the list of most centuries stands by indian opening pairs after going past the landmark in the 2nd odi against new zealand tendulkar and sehwag shared 13 century stands in 114 innings while dhawan and rohit went past that number in their 95th innings together.',\n",
       " 'australia won the first test against sri lanka after australian pacer pat cummins took ten-wicket haul his first 10-wicket match haul and the best-ever match figures by bowler in day-night tests the match which ended with australia winning by an innings and 40 runs lasted for only three days cummins was named man of the match.',\n",
       " 'indian shuttler saina nehwal beat china he bingjiao in the indonesia masters semi-final to reach the final of the tournament on saturday saina finished the match with scoreline that read 18-21 21-12 21-18 nehwal who won silver at the 2018 edition of the indonesia masters will now face the winner of the semi-final between chen yufei and carolina marin ',\n",
       " 'defence minister nirmala sitharaman has said it is unfortunate that some states have opted out of ayushman bharat scheme or modicare due to reasons of political expediency once fully implemented it will become world largest government-financed health protection scheme she added she further said that over lakh beneficiaries have been admitted to hospitals under the scheme.',\n",
       " 'talking about priyanka gandhi entering active politics samajwadi party president akhilesh yadav on saturday said would like to congratulate congress party and their president that they took right decision young people are being given chance samajwadi party is happy he added priyanka was appointed congress general secretary in charge of eastern uttar pradesh on wednesday.',\n",
       " 'gujarat cm vijay rupani on friday declared 500-metre radius of ambaji and somnath temples as vegetarian zone the move means that non-vegetarian food such as meat and chicken cannot be sold near the premises of these two temples reportedly several religious outfits and residents of these pilgrimage centres had been demanding such measure for long time.',\n",
       " 'chhattisgarh cm bhupesh baghel on saturday announced that his government will waive off irrigation tax worth ã¢â\\x82â¹207 crore the waiver will cover tax owed by farmers till october 2018 and will benefit around 15 lakh farmers baghel said in december 2018 the newly elected baghel government waived off farm loans worth ã¢â\\x82â¹6 100 crore of over 16 lakh farmers.',\n",
       " 'kamal nath led-madhya pradesh government on saturday launched an employment scheme yuva swabhiman yojana for urban youths belonging to economically weaker sections ews under the scheme 100 days of employment will be provided every year to ews youths during their employment they ll be given skill training of their choice so that they can take benefits of available jobs nath said.',\n",
       " 'senior advocate hs phoolka who was awarded the padma shri has dedicated his award to everyone who is working for the protection of human rights who is working for downtrodden and to uphold the rule of law phoolka who is known for his legal battle to secure justice for the 1984 anti-sikh riot victims thanked the government for the award ',\n",
       " 'the united nation human rights office announced three-member team of international experts who will probe into the murder of saudi journalist jamal khashoggi the panel would aim to establish the nature and extent of states and individuals responsibilities for the killing the rights office said khashoggi government critic was murdered at the saudi consulate in istanbul last year.',\n",
       " 'afghan taliban co-founder mullah abdul ghani baradar has been named the head of taliban political office in qatar to lead the peace talks with the us aimed at ending the war in afghanistan baradar was released from prison by pakistan last year the announcement came as taliban revealed they held four straight days of talks with the us in doha.',\n",
       " 'with great learning pgp-aiml program learners can gain practical experience in artificial intelligence and machine learning by working on real-world projects and industry-sponsored hackathons learners get to practice the skills they have learned in state-of-the-art gpu-powered labs the program has an average rating of 4.7/5 from learners and features deep learning module designed by iit-b faculty.',\n",
       " 'japan naomi osaka defeated czech republic petra kvitova in australian open 2019 women singles final on saturday to clinch her second consecutive grand slam title the 21-year-old became the first-ever asian tennis player male or female to achieve the world number one singles ranking osaka also became the youngest female world number one since caroline wozniacki 20 in 2010.',\n",
       " ' shankhnaad martial tune created for the indian armed forces was played for the first time on the republic day as the defence forces earlier used the martial tune created by britishers before independence the tune which was dedicated to the nation in october 2018 is composed by tanuja nafde based on brigadier vivek sohal poem.',\n",
       " 'tinder has settled $23-million california class action lawsuit alleging that the app charged people aged over 30 years twice the amount for its subscription services users with active accounts will automatically get 50 super likes each person can claim either $25 in cash 25 additional super likes or month subscription to either tinder plus or tinder gold.',\n",
       " 'after former president pranab mukherjee was conferred india highest civilian honour bharat ratna congress president rahul gandhi tweeted congratulations to pranab da on being awarded the bharat ratna rahul added the congress party takes great pride in the fact that the immense contribution to public service and nation building of one of our own has been recognised and honoured ',\n",
       " 'bsp mla ramabai singh who has been demanding ministerial berth in the madhya pradesh government on friday said hum mantriyo ke baap hain humne hi sarkar banayi hai she added even if m not made minister will do the right work earlier ramabai had claimed the government should keep its ministers happy to avoid karnataka-like situation .',\n",
       " 'flipkart ceo kalyan krishnamurthy who joined flipkart in june 2016 reportedly slashed the number of senior vice presidents from 23 to just four through the years two weeks ago four people were promoted to senior vice president posts the report added the hr strategy has also changed with more executives being promoted from within flipkart than recruited from outside.',\n",
       " 'around 50 youngsters from the uttar pradesh nagla maya village have decided to auction themselves on republic day to raise money for drinking water in their village the residents have alleged there an acute shortage of drinking water the administration cites lack of funds for not addressing our problem so we decided to auction ourselves participant said.',\n",
       " 'indian navy divers on saturday detected the body of another miner at depth of 280 feet inside the flooded rat-hole in meghalaya east jaintia hills district where 15 miners were trapped on december 13 during their search the navy team also stumbled on tell-tale signs like spades wooden cart and then located the dead miner an official said.',\n",
       " 'gautam khaitan lawyer accused in the ã¢â\\x82â¹3 600-crore agustawestland case was on friday arrested by the enforcement directorate in connection with fresh case of money laundering and possession of black money khaitan whose properties in delhi ncr were raided last week had allegedly received kickbacks in other defence deals besides agustawestland during the upa tenure.',\n",
       " 'madhya pradesh minister imarti devi failed to read out what was written in her republic day speech following which she asked the district collector bharat yadav to read it for her when asked about the incident devi said was sick for the past two days you can ask the doctor but it okay the collector read it properly ',\n",
       " 'afghan president ashraf ghani has said over 45 000 members of the country security forces have been killed since he assumed office in 2014 we need to get stable afghanistan that can ensure the security of our democratic rights and institutions he added his statement comes amid the talks between the us and taliban to end the war in afghanistan.',\n",
       " 'police are investigating case where customer found part of what is believed to human bone in pair of socks bought from irish fashion retailer primark store in december in the uk the bone does not appear to be result of recent trauma the police said primark apologised to the customer for any distress caused .',\n",
       " 'while india celebrates its republic day on january 26 australians celebrate their national day australia day on the same date australia day marks the beginning of the european settlement in australia and the foundation of the modern australian state it was on january 26 1788 that the first fleet of british ships arrived at sydney cove.',\n",
       " 'zee and essel group chairman subhash chandra said the stock crash in his group companies was caused by negative forces trying to sabotage zee entertainment stake sale he said the negative forces got hint of the positive meetings he held to speed up the sale all operating companies especially most precious zee entertainment are performing exceptionally well chandra added ',\n",
       " 'actress fatima sana shaikh who is currently shooting for anurag basu upcoming film in bhopal shared basu pictures from the sets and wrote unreal life changing shooting with anurag basu is like being backstage with magician magical the untitled film which also stars rajkummar rao is said to be on the lines of basu 2007 directorial life in metro .',\n",
       " 'mumbai street rapper naved shaikh aka naezy while talking about ranveer singh and his upcoming film gully boy said when you look at him in the film it feels as if he become one of us there are certain instances that have been taken from my life ranveer would study us from our body language to how we create lyrics he added.',\n",
       " 'brisbane heat won their maiden women big bash league title after beating defending champions sydney sixers by three wickets in the final at sydney drummoyne oval the sixers were chasing their third successive title sixers australian all-rounder ellyse perry was named as the player of the tournament the men big bash is set to continue for another three weeks.',\n",
       " 'indian spinner ravichandran ashwin praised windies captain jason holder who scored his maiden double century in the ongoing first test against england in bridgetown what test match in the caribbean well played @jaseholder98 you are star tweeted ashwin the hosts helped by holder and shane dowrich 295-run stand have set england target of 628.',\n",
       " 'after the cbi raided former haryana cm bhupinder singh hooda residence trinamool congress on friday tweeted for 2019 bjp gets new ally cbi one headless agency has now become spineless bjp tmc chairperson and west bengal cm mamata banerjee also tweeted hooda residence was raided in connection with an alleged land scam in gurugram.',\n",
       " 'talking about priyanka gandhi entering active politics uttar pradesh cm yogi adityanath on friday said zero plus zero makes zero this would not make any impact on the poll outcome with her appointment the congress has only extended its culture of political dynasty he added priyanka was appointed congress general secretary in charge of eastern uttar pradesh on wednesday.',\n",
       " 'jd leader kunwar danish ali said that former president pranab mukherjee was awarded bharat ratna because he visited rss headquarters and described the founder kb hedgewar as son of soil ali added he and pm narendra modi have big industrialist friends perhaps it also played role he also protested about siddaganga seer shivakumara swami not being given the award.',\n",
       " 'andhra pradesh cm chandrababu naidu on friday announced ã¢â\\x82â¹10 000 cash bonus for each of nearly 94 lakh members of the development of women and children in rural areas programme the amount would be given through three cheques in the next two months he said he further promised that his government would buy 1.4 crore smartphones for the women.',\n",
       " 'india and south africa have signed three-year strategic programme of cooperation 2019-2021 aimed at further enhancing the strategic partnership between the two countries the two nations agreed to enhance ties in the economic and defence sector among others this came as south african president cyril ramaphosa visited india to be the chief guest at the republic day celebrations.',\n",
       " 'rescuers in spain on saturday found the body of two-year-old boy named julen who had fallen in an over 300-foot-deep well nearly two weeks ago officials said julen fell into the well as his family walked through private estate in totalã\\x83â¡n mã\\x83â¡laga julen parents had lost another son two years ago the local media had reported ',\n",
       " 'russia has offered to mediate between the government and the opposition in venezuela if necessary russian news agency ria reported political crisis has erupted in venezuela after opposition leader juan guaidã\\x83â³ declared himself as the country interim president russia has however pledged its support to president nicolã\\x83â¡s maduro who began his second term in office earlier this month.',\n",
       " 'state bank of india had recently announced the launch of yono 20 under twenty awards to reward young achievers under the age of 20 six of india brightest youngsters have now been shortlisted under the category promising game changers notably the youngsters came up with innovative ideas such as fuel free bikes bee-saving bots skin patch detecting heart-attacks and more.',\n",
       " 'india defeated new zealand by 90 runs in the second odi to register their biggest odi victory in new zealand and take 2-0 lead in the five-match series india previous biggest odi victory in new zealand had come in march 2009 when they defeated new zealand by 84 runs in hamilton the third odi will take place on monday.',\n",
       " 'actress ankita lokhande has said she doesn need any godfather in the film industry while adding there are many newcomers who don have godfather and still they are working am not in any competition am not in any rush to reach somewhere and achieve something quickly am looking for good scripts she added ',\n",
       " 'govinda has revealed he was the first choice for the 1997 film judwaa but left the project on salman khan request salman called me and asked chichi bhaiyya how many hits will you give the film you re shooting right now ã¢â\\x80â\\x93 judwaa ã¢â\\x80â\\x93 please give the movie to me wasn a part of judwaa but had started the project govinda added.',\n",
       " 'team india all-rounder hardik pandya mentor kiran more has revealed that the cricketer hit 000 balls in australia after being suspended pending inquiry by the coa over his comments on women on koffee with karan kiran more said that pandya revealed this to him while working in his academy in baroda that the way to do it he added.',\n",
       " 'praising the maharashtra anti-terrorism squad for arresting nine people planning an attack during kumbh mela up cm yogi adityanath said if they had entered up would have finished them on the up border itself he added we have no hesitation in doing so you need to behave in an evil manner with evil people who play with national security ',\n",
       " 'on being asked about congress president rahul gandhi meet with chinese ministers during his trip to kailash mansarovar last year chinese envoy luo zhaohui said the chinese government the chinese side will welcome all pilgrims from india meanwhile bjp called rahul chinese propagandist and asked him to give complete details of his meeting with china ministers and officials.',\n",
       " 'during her recent trip to india maldivian defence minister mariya ahmed didi said the island nation will have very limited ties with china in the defence sector and engage more with india both the indian and maldivian government shared the same values she added the people of the maldives want stronger ties with democratic countries like india she further said.',\n",
       " 'lieutenant bhavana kasturi has become the first woman to lead an all-men army contingent in republic day parade by leading the indian army service corps contingent it a matter of great pride and honour to me and it a glory for us lieutenant kasturi said an all-women assam rifles contingent was also part of the parade for the first time.',\n",
       " 'to celebrate the 70th republic day the indo-tibetan border police itbp personnel hoisted the national flag at an altitude of 18 000 feet with temperature around -30 degree celsius in ladakh video of them trekking to the peak to hoist the flag has also been posted online last year itbp tableau was also showcased in the republic day parade.',\n",
       " 'the indian air force showcased three sukhoi su-30mki aircraft in the flypast during republic day celebrations it also showcased indigenously developed surveillance aircraft netra five jaguar deep penetration strike aircraft and three c-130j super hercules aircraft further sukhoi su-30mki aircraft flew at speed of 900 km/hr and performed vertical charlie manoeuvre.',\n",
       " 'at least seven people have died and around 200 others are missing after dam burst on friday at an iron-ore mine in brazil officials said the break caused sea of muddy sludge to spread in the minas gerais state burying buildings farms and vehicles nine people have so far been rescued from the disaster area.',\n",
       " 'a jewish couple and their 19-month-old daughter from detroit were removed from an american airlines flight after the airline told them other passengers complained about their body odour american airlines claimed they were given hotel room and meal vouchers for the night and booked onto new flight the man said he believes they were removed over religious reasons .',\n",
       " 'japan supreme court has upheld law that forces transgenders to be sterilised before they can legally change their gender it rejected an appeal to overturn the law which requires any person seeking to change their gender to permanently lack functioning reproductive parts the top court said the law intended to prevent problems in parent-child relations which could cause confusion .',\n",
       " 'actress amrita rao who played bal thackeray wife meena thackeray in the biopic thackeray said initially was apprehensive to play character that is much older than me amrita added that she was worried if she will be able to justify everything with her performance getting the perfect acting and body language was very important the actress further said ',\n",
       " 'sara ali khan while talking about her relationship with grandmother sharmila tagore said strike balance between respect and closeness can talk to her about almost anything our conversations are little more skewed towards world affairs and political science than towards hair and make-up added the actress who made her bollywood debut with sushant singh rajput starrer kedarnath .',\n",
       " 'kriti sanon has said that she doesn want to get comfortable in one space or genre of films have associated with happy film as my last was bareilly ki barfi coincidentally my next two films are also happy films she added it more about how connect to the script and how instinctively like the story kriti further said.',\n",
       " 'deepika padukone on the occasion of her film padmaavat completing year since its release on friday said the film surpassed all my previous highs professionally personally it changed something in me forever when look back to this time last year as an individual and artist feel sense of pride joy and happiness added the actress.',\n",
       " 'thierry henry who was part of france 1998 world cup-winning team has been sacked by french club monaco fc three months after taking charge of the side the 2017 french champions are in the relegation zone after only five wins under henry in all competitions leonardo jardim who was monaco manager before henry has been reappointed as the club manager.',\n",
       " 'former gujarat chief minister shankersinh vaghela on friday revealed his plans to join nationalist congress party stating have discussed this issue with ncp president sharad pawar saheb think it is good thing vaghela who had left the congress ahead of the 2017 gujarat assembly elections added in public life good platform is required to raise issues ',\n",
       " 'accusing bjp of attempting to topple the congress-jd government karnataka chief minister hd kumaraswamy on friday said operation lotus is on yesterday night also they have telephoned congress legislator asking him where to send the gift stating the mla declined the offer kumaraswamy claimed that making mlas commodities for sale is an addiction of state bjp chief bs yeddyurappa.',\n",
       " 'as mark of protest against the citizenship amendment bill six student bodies in manipur have decided to boycott the 70th republic day celebration on saturday the student bodies will also be agitating in new delhi on january 30 against the passing of the bill the student bodies include all manipur students union manipuri students federation and kangleipak students association.',\n",
       " 'after bjp accused congress of playing family politics when priyanka gandhi vadra entered active politics indian youth congress sent mirrors to five bjp leaders who are children of other prominent leaders of the party those who received the mirrors included former rajasthan chief minister vasundhara raje son dushyant singh and home minister rajnath singh son pankaj singh ',\n",
       " 'irctc on friday added 191 point of sale pos machines in trains with pantry cars for electronic payment of food items the right amount will be generated it would keep check on overcharging an irctc official said further all licensees managing the trains have been instructed to ensure availability of minimum eight machines per rake.',\n",
       " 'people in the southern philippines have voted to create new muslim autonomous region known as the bangsamoro autonomous region which will replace the autonomous region in muslim mindanao the creation of the region is key provision in peace agreement signed in 2014 between the philippine government and moro islamic liberation front the main muslim rebel group.',\n",
       " 'us president donald trump has said that ending the partial government shutdown is in no way concession he added that ending the shutdown was taking care of millions of people who were getting badly hurt by it trump on friday agreed to end the shutdown without getting funds to build wall along the border with mexico.',\n",
       " 'croma has launched the first ever loyalty programme in the world of electronic retail that promises to offer an ultimate shopping experience with this programme customers will get exclusive loyalty discounts pre-qualified credit e-waste pick up on call lifetime service assurance and much more join 10 million existing members to avail these benefits today.',\n",
       " 'us president donald trump signed bill on friday night to reopen the government for three weeks until february 15 ending the longest government shutdown in the nation history the 35-day-long shutdown was called off by the leader without getting the $5 billion he had demanded from congress for border wall the negotiation for the money will continue.',\n",
       " 'following rafael nadal australian open semi-final victory over stefanos tsitsipas seven-time grand slam champion and commentator john mcenroe told the world number two that he saw him naked during quick bathroom break after the second set what was your impression nadal asked mcenroe said wish had body like that mcenroe responded during the post-match interview ',\n",
       " 'windies captain jason holder slammed 202 229 in the second innings of the first test against england becoming only the third batsman in test cricket history to score double ton batting at number eight pakistan wasim akram 257 against zimbabwe 1996 and imtiaz ahmed 209 against new zealand 1955 are the other two batsmen to have achieved the feat.nn ',\n",
       " 'after the bcci lifted suspensions on kl rahul and hardik pandya pending appointment of ombudsman ex-india captain mohammed azharuddin said both the cricketers have really suffered coa should ve appointed the ombudsman in the first place don think coa has done very good job he added azharuddin further said the coa should have taken the decision immediately.',\n",
       " 'south africa captain faf du plessis has said that his team has forgiven pakistan captain sarfaraz ahmed but they don take his racist remarks lightly when you come to south africa you have to be very careful when you make racial comments du plessis added we can forgive but that doesn mean we brush it under the table he added ',\n",
       " 'barcelona forward lionel messi has urged authorities to resume the search for missing 28-year-old argentine forward emiliano sala after police called off rescue operations on thursday while there possibility shred of hope we ask you please don stop searching messi wrote on instagram sala has been missing since his plane disappeared from radar over english channel on monday night ',\n",
       " 'the government on friday announced padma bhushan for former isro scientist nambi narayanan who was cleared in the 1994 spying case by the supreme court last year narayanan was wrongly accused of sharing defence secrets with maldivian spies he was also awarded ã¢â\\x82â¹50-lakh compensation by kerala government after sc stated he was unnecessarily arrested and harassed by the state police.',\n",
       " 'a 38-year-old man who killed 10 people in over six months in prayagraj formerly allahabad and nearby areas was arrested from kumbh mela said the police the accused would attack sleeping individuals with sharp-edged weapons and cover their faces with their own garments identified as kaluwa from basahara village he was nabbed with the help of cctv footage ',\n",
       " 'odisha cm naveen patnaik elder sister and author gita mehta has declined to accept the padma shri announced on friday with great regret feel must decline as there is general election looming and the timing of the award might be misconstrued causing embarrassment both to the ngovernment and myself she said in statement released from new york.',\n",
       " 'the pakistan government on friday announced to ease travel restrictions in bid to revive tourism with the information minister chaudhry fawad hussain calling the country heaven for tourists pakistan will grant visa-on-arrival to citizens from 50 countries and provide electronic visas to 175 nationalities the new rules would also ease travel restrictions on foreign journalists hussain said.',\n",
       " 'nearly $1 million in cash was stolen former zimbabwe president mugabe house allegedly by his relatives and employees in 2016 court papers released on friday showed the three suspects were arrested earlier this month over initial allegations that they stole $150 000 from mugabe rural house in zvimba they allegedly spent the money on cars and houses among others.',\n",
       " 'the government has conferred india second highest civilian honour padma vibhushan on construction giant larsen toubro l chairman am naik mahashay dharam pal gulati the 95-year-old owner of spices maker mdh and john chambers former ceo of us technology giant cisco systems were chosen for padma bhushan photoshop maker adobe india-born ceo shantanu narayen was conferred padma shri ',\n",
       " 'union minister arun jaitley has questioned cbi need to probe entire who who of the banking industry in the chanda kochhar-videocon loan case there is fundamental difference between investigative adventurism and professional investigation he said in addition to costing people their careers such adventurism leads to media leaks ruins reputations and not convictions jaitley added.',\n",
       " 'rss economic wing swadeshi jagran manch has urged prime minister narendra modi to resist pressure from the us and not postpone new e-commerce sector regulations the new rules to be implemented from february bar e-commerce marketplaces from selling products of entities in which they own stake flipkart parent walmart said it had engaged us administration on this issue .',\n",
       " 'malayalam film actor mohanlal will be awarded india third highest civilian honour padma bhushan for his contribution to cinema the five-time national film award winning actor was earlier honoured with the padma shri in 2001 indian classical sitar maestro budhaditya mukherjee was also amongst the fourteen padma bhushan recipients.',\n",
       " 'late music maestro bhupen hazarika widely known as sudhakantha was awarded india highest civilian honour bharat ratna seven years after his death on the eve of republic day 2019 the assamese singer was known for his songs which were largely centred around themes like humanity universal brotherhood and justice he was also honoured with dada saheb phalke award in 1992.',\n",
       " 'veteran poet-lyricist gulzar has said that it was because of ar rahman that the jai ho song from the 2009 film slumdog millionaire won an academy award in the best music original score and best music original song categories although sukhwinder singh also contributed in making the song hit by putting lot of energy into it added gulzar.',\n",
       " 'late actor-screenwriter kader khan on friday was conferred with the padma shri india fourth highest civilian honour the actor who breathed his last on december 31 has been honoured for his contribution to cinema bollywood actor manoj bajpayee actor-choreographer prabhudeva and singer-composer shankar mahadevan were also among this year 94 padma shri awardees.',\n",
       " 'coa chief vinod rai has said that an agency will be hired within the next 10 days to deal with gender sensitisation classes for bcci ceo rahul johri gender sensitisation classes were recommended for johri after member of the panel probing sexual harassment allegations against him found his behaviour unprofessional and inappropriateã¢â\\x80â\\x9d on one occasion.',\n",
       " 'indian shuttler saina nehwal beat thailand pornpawee chochuwong to reach the last four of women singles event at the indonesia masters on friday eighth seed saina who had reached the semi-final at malaysia masters last week will next face sixth-seeded chinese he bingjiao meanwhile pv sindhu and kidambi srikanth both lost their respective quarterfinal matches.',\n",
       " 'hindi author and essayist krishna sobti passed away in delhi on friday at the age of 93 following prolonged illness sobti had received numerous awards including the sahitya akademi in 1980 and jnanpith award in 2017 and was also offered padma bhushan which she declined her notable works include daar se bichhudi gujarat pakistan se gujarat hindustan among others.',\n",
       " 'after being conferred with the bharat ratna former president pranab mukherjee took to twitter to express his gratitude it is with deep sense of humility to the people of india that accept this great honour he tweeted have always said have got more from the people of our great country than have given to them he added.',\n",
       " 'in his customary address to the nation on the eve of republic day president ram nath kovind said electing the 17th lok sabha is not just once-in-a-generation moment but once-in-a-century moment urging people to perform the sacred act of voting he added in some respects this is as critical period as the late 1940s and early 1950s ',\n",
       " 'information and broadcasting b ministry on friday increased the rates at which it offers advertisements to private tv channels this will lead to an increase of about 11% over the rates of 2017 for most channels an official statement from the ministry read earlier this month b increased the rates at which government releases advertisements to print media by 25%.',\n",
       " 'singapore will reduce the length intensity and frequency of its training programs following the death of actor aloysius pang who died from injuries suffered during military exercise in new zealand the singapore army has also announced halt on all high-risk training activities the 28-year-old actor was crushed between the gun barrel of howitzer and its cabin.',\n",
       " 'roger stone an ally of us president donald trump was arrested in connection with the probe into alleged russian interference in 2016 us presidential election and russia ties to the trump campaign stone allegedly sought to gather information about hacked emails of democrats including hillary clinton from wikileaks he allegedly pressured an associate from testifying in relation to the probe.',\n",
       " 'president ram nath kovind today awarded india highest civilian honour bharat ratna to ex-president pranab mukherjee late social activist nanaji deshmukh and late music maestro bhupen hazarika mukherjee was president from 2012 to 2017 while hazarika was awarded with india highest award in cinema dada saheb phalke award in 1992 deshmukh was also former rajya sabha member ',\n",
       " 'the government of india on friday announced four padma vibhushan 14 padma bhushan and 94 padma shri awards for 113 personalities as many as 21 of the awardees are women folk artiste teejan bai president of djibouti ismail omar guelleh t chairman am naik and theatre artiste balwant moreshwar purandare were awarded the padma vibhushan india second highest civilian award.',\n",
       " 'chief justice of india cji ranjan gogoi today reconstituted the five-judge constitution bench for hearing ayodhya land dispute case on january 29 justices ashok bhushan and abdul nazeer replace justices uu lalit and nv ramana on the bench led by the cji this comes after justice lalit had recused himself from hearing the matter on january 10 ',\n",
       " 'after all-rounder yuvraj singh posted picture with the caption red car or red shoes ll take vintage any day on instagram ex-india cricketer gautam gambhir commented on his post saying laal mere dil ka haal hai lagta tujhpe kamaal hai yuvi shaadi ke baad tera kya haal hai responding to gambhir comment yuvraj jokingly wrote haal bada behaal hai ',\n",
       " 'pakistan captain sarfaraz ahmed personally apologised to south africa andile phehlukwayo for calling him abey kaale during the second odi on tuesday sarfaraz shared picture of himself with phehlukwayo and wrote this morning apologised to andile phehlukwayo and he was gracious enough to accept my apology and hope the people of south africa also accept my apology ',\n",
       " 'as many as nine sports personalities have been conferred with padma awards this year ex-cricketer gautam gambhir football team captain sunil chhetri table tennis player sharath kamal and wrestler bajrang punia have been conferred with padma shri india fourth highest civilian award meanwhile mountaineer bachendri pal was awarded with padma bhushan india third highest civilian award.',\n",
       " 'filmmaker karan johar has said that cricketers hardik pandya and kl rahul were gracious to him when he apologised to them after they were suspended by coa over their comments on women on koffee with karan they were like this is not your fault karan added he further said the duo wereã\\x82â just conforming to the prerequisites of the show ',\n",
       " 'facebook ceo mark zuckerberg plans to integrate whatsapp instagram and facebook messenger by 2020 new york times report has claimed after the changes facebook user for instance will be able to send encrypted messages to someone who has only whatsapp account according to the report the three services will however continue as stand-alone apps the report added.',\n",
       " 'apple ceo tim cook on thursday recalled the day when late co-founder steve jobs unveiled macintosh apple first successful computer with graphic user interface 35 years ago macintosh said hello it changed the way we think about computers cook tweeted priced at $2 495 the first-gen macintosh had 128kb ram and featured 512ã\\x83â\\x97342-pixel resolution on its 9-inch black-and-white monitor.',\n",
       " 'the african nation of angola has decriminalised homosexuality after the parliament removed the vices against nature provision the government has also banned discrimination against people on the basis of sexual orientation the changes come as angola parliament adopted its first new penal code since it gained independence from portugal in 1975 and removed the provision.',\n",
       " 'archaeologists have found the remains of british explorer captain matthew flinders who is credited with naming australia near railway station in london captain flinders led the first circumnavigation of australia the discovery of his burial site was made as archaeologists were preparing the site where railway station will be built.',\n",
       " 'two sikh groups in the us will donate gift/grocery cards and food to transportation security administration tsa workers at the indianapolis airport as they continue to be unpaid amid the ongoing partial us government shutdown sikh groups in other states in the us are also offering free meals to those affected by the shutdown through community kitchens.',\n",
       " 'zee group companies market capitalisation fell nearly ã¢â\\x82â¹14 000 crore on friday after report said promoter essel group name emerged in probe linked to large deposits made after demonetisation zee entertainment shares fell 30% while dish tv lost 37% the sfio is probing company called nityank infrapower for deposits of ã¢â\\x82â¹3 000 crore made after demonetisation the report said.',\n",
       " 'maharashtra raigad collectorate on friday started demolishing pnb scam-accused diamantaire nirav modi seaside mansion in alibaug reportedly worth ã¢â\\x82â¹100 crore raigad collector vijay suryawanshi said the bungalow was built illegally and flouted environmental norms the enforcement directorate stripped the over 30 000-square-foot property of all its valuables and handed it over for demolition ',\n",
       " 'mexican actor jorge antonio guerrero who featured in the oscar-nominated film roma might miss the oscar award ceremony after three of his visa applications were rejected by the united states embassy in mexico guerrero had reportedly first applied for tourist visa in 2018 which was immediately denied roma landed 10 nominations making it an oscars front-runner alongside the favourite .',\n",
       " 'malayalam actress manju warrier has denied reports that stated she was going to campaign for the congress party in kerala ahead of the 2019 lok sabha elections the actress said that she hasn been approached by the congress and has no affiliations to any political party earlier reports suggested manju was asked to join the party by senior party leaders.',\n",
       " 'lyricist and filmmaker gulzar said the kind of language used by politicians today may spoil the younger generation as the youth has started to take an interest in politics he urged politicians to be mindful of their language and the adverse effect it has on politics he further said that the language used also affects mutual friendship ',\n",
       " 'speaking about ranveer singh filmmaker karan johar said that other actors like ranbir kapoor and varun dhawan don have as much energy as ranveer but are unique in their own way ranveer is very flamboyant and that something that he shows to the public his energy enhances his stardom he added he my hero karan further said ',\n",
       " 'former indian batsman sanjay manjrekar praised pacer mohammad shami saying shami test match form prompted them to play in the australia odis and he has been revelation since then manjrekar added that shami has made india bowling attack dynamic the 28-year-old pacer is the fastest indian bowler to pick 100 wickets in odi cricket.',\n",
       " 'speaking about the umpires being recruited by bcci its general manager for cricket operations saba karim said hird umpires who don do well over period of time will also be weeded out karim added that the umpires have been distributed across four grades with their performances being monitored by match referees.',\n",
       " 'india yuvraj singh hit 80 off just 57 balls for air india in the ongoing dy patil t20 cup tournament in mumbai registering his first fifty in competitive cricket since early october last year the 37-year-old all-rounder will be making an appearance for mumbai indians his sixth team in the indian premier league this season.',\n",
       " 'addressing rally in bhubaneswar congress president rahul gandhi said if the party is voted to power in 2019 elections it will waive off loans of odisha farmers within 10 days bjp government at centre and bjd in odisha function similarly he added industrialists fund candidates elections in exchange of profitable projects state is run by key bureaucrats he further said ',\n",
       " 'speaking about priyanka gandhi vadra joining active politics actor and bjp mp paresh rawal said if priyanka is congress trump card then why was the party playing with joker till now priyanka branded as congress trump card was appointed as congress general secretary for uttar pradesh east by her brother and congress president rahul gandhi on wednesday.',\n",
       " 'bengaluru-based bike taxi app rapido has raised ã¢â\\x82â¹52.67 crore led by integrated capital in series funding round launched in 2015 the startup provides services across several cities including delhi ncr bengaluru hyderabad and chennai rapido had raised an undisclosed amount in pre-series round led by pawan munjal hero motocorp chairman md and ceo in 2016.',\n",
       " 'nasa opportunity rover has completed 15 years on mars after it landed on january 24 2004 and sent its first signal to earth after few hours the solar-powered rover was designed to travel about km and operate for 90 martian days sols however it has travelled over 45 km and logged its 000th sol as of february 2018.',\n",
       " 'addressing the nation on the eve of the 70th republic day president ram nath kovind said that indiaã¢â\\x80â\\x99s pluralism is its greatest strength and its greatest example to the world the indian model rests on tripod of diversity democracy and development he added we cannot choose one above the other we must and we ll have all three he further said.',\n",
       " 'andhra pradesh cm chandrababu naidu has said that even if people have four children it will be encouraged today generation says they don want to marryã¢â\\x80â¦they don want kids this is shocking naidu added presently india is in comfortable position but it can become problem as birth rate is lower than the death rate he further said.',\n",
       " 'after search for the missing plane carrying 28-year-old cardiff city forward emiliano sala was called off the sister of the argentine footballer urged police and authorities to not give up searching in my heart know emiliano is fighter and know he still alive please do not stop romina said the plane has been missing since monday night ',\n",
       " 'google india has responded to viral tweet where user complained about missing navigation feature on maps to indicate whether the driver needs to take the flyover or continue on the road below shukar manate hain aap jaise users ka jo humein sahi raah dikhaate hain behtar bante jaane ka yeh safar rukega nahin mere humsafar google said.',\n",
       " 'a month after one of zomato delivery executives was caught on camera eating from the food he was to deliver the gurugram-based food delivery unicorn has hired psychiatrist dr rohit garg to offer counselling to its staff zomato had sacked the delivery boy in the viral video after which it was criticised further on social media for poor working conditions.',\n",
       " 'a lunar sample returned by the apollo 14 astronauts in 1971 may contain fragments of earth oldest rock from about billion years ago nasa study has found the rock crystallised about 20 km beneath the earth surface and was launched into space by large impact event when the moon was relatively much closer to the planet researchers said.',\n",
       " 'the doomsday clock symbolising how close the planet is to an apocalypse has been kept unchanged at two minutes to midnight the clock was moved forward by 30 seconds in 2018 and 2017 citing growing nuclear risks climate dangers and incoming of us president donald trump respectively the clock is set since 1947 by scientists worldwide including 14 nobel laureates.',\n",
       " 'a woman who killed her husband after he called her prostitute has been absolved of murder charges by the supreme court the court said since the death was the result of sudden and grave provocation she should be punishable for culpable homicide not amounting to murder the woman and co-accused were sentenced to ten years in jail ',\n",
       " 'india has called upon the people of venezuela to find solution to resolve the political crisis through dialogue without resorting to violence we believe democracy peace and security in venezuela are of paramount importance for the prosperity of the people the foreign ministry said the crisis broke out after opposition leader juan guaidã\\x83â³ declared himself venezuela interim president.',\n",
       " 'a woman was abducted from outside beauty parlour on friday hours before her wedding in punjab muktsar the entire incident was caught on cctv which showed the accused forcing her into the car the abductors left her at bus stop after while and the woman is now under police protection police official said.',\n",
       " 'the gujarat forest department has started relocating mugger crocodiles an endangered species from two ponds near the statue of unity to make way for seaplane service there are around 500 crocodiles in the ponds of which 15 had been evacuated until tuesday they were released into sardar sarovar dam reservoir after about week in forest department custody ',\n",
       " 'a total of 185 passengers fell sick on board an air transat plane in canada quebec on thursday with 10 of them getting hospitalised passengers experienced various symptoms including dizziness and vomiting during the plane de-icing before takeoff it is believed the fumes from the de-icing seeped into the cabin due to an issue with the aircraft ventilation system.',\n",
       " 'amid the ongoing partial government shutdown us commerce secretary wilbur ross has told unpaid federal workers to get loan to meet their expenses it was disappointing that some workers were not coming to work he said as many as lakh federal workers continue to be unpaid amid the partial government shutdown which is the longest in us history.',\n",
       " 'veteran investor mark mobius has said that he is particularly interested in india at this stage just came back from two-week trip to india and was just amazed at the changes taking place mobius said it quite incredible and of course you re looking at 7% growth for country that size it very impressive the 82-year-old added.',\n",
       " 'the supreme court on friday upheld the constitutional validity of the insolvency and bankruptcy code 2016 in its entirety the court said provision of the law that prevents promoters from regaining control of bankrupt companies was legally valid however it clarified that definition of related parties should mean person connected with the defaulting business and not relatives ',\n",
       " 'speaking about how the film industry has evolved over time actress tabu said that while it was less acceptable to take up risky roles 20 years ago it has now become the norm actors are getting exciting parts to play which are not unidimensional she added tabu further said that actors today are open to experimenting with their film choices ',\n",
       " 'actor arshad warsi said that golmaal filmmaker rohit shetty is obliged to make the fifth instalment of the film franchise as everybody in the country wants him to make the film the series is completely mad and family oriented there is no reason not to make it the actor added the series features arshad along with ajay devgn and tusshar kapoor.',\n",
       " 'actor boman irani has joined the cast of the upcoming biopic pm narendra modi starring vivek oberoi speaking about joining the film cast boman said this has been great start to my new year and m looking forward to this remarkable journey the film directed by omung kumar will also feature mary kom actor darshan kumaar.',\n",
       " 'speaking about the contribution he wants to make to the lgbtq community as filmmaker karan johar said am ready to make legit gay story would want to start working on it right after am done directing takht the filmmaker added karan further said he hopes indian audiences will accept the film when he makes it.',\n",
       " 'indian batsman wasim jaffer became the first batsman to have scored 000 runs in season twice in the history of the ranji trophy the 40-year-old vidarbha batsman went past the landmark on the opening day of the ranji trophy semi-final encounter between vidarbha and kerala jaffer had amassed 260 runs for mumbai in the 2008-09 season.',\n",
       " 'former us open women singles winner sam stosur teamed up with zhang shuai to overcome defending champions timea babos and kristina mladenovic to claim the australian open women doubles title this was the 34-year-old australian first grand slam title on home soil since 2005 notably this was zhang first grand slam title of any kind.',\n",
       " 'indian pacer umesh yadav picked up 12 wickets to help his side vidarbha beat kerala and reach their second straight ranji trophy final vidarbha won by an innings and 11 runs after the match ran for total of four-and-a-half sessions and 106 overs vidarbha will face the winner of the semifinal between saurashtra and karnataka.',\n",
       " 'windies women team captain stafanie taylor has refused to travel to pakistan for an upcoming three-match t20i series between the two teams taylor predecessor merissa aguilleira will step in as the skipper for the t20is that will be played in karachi between january 31 and february taylor will rejoin the team for the odi series in dubai.',\n",
       " 'former new zealand captain brendon mccullum helped team rugby comprising new zealand rugby players beat team cricket in the inaugural black clash t20 at christchurch hagley oval on friday mccullum scored 32-ball 48 to help his side win by wickets the team cricket featured the likes of former cricketers stephen fleming and nathan astle.',\n",
       " 'finance minister arun jaitley who is undergoing medical treatment in the us is in good health and is recovering rapidly interim finance minister piyush goyal has said on tuesday jaitley underwent surgery at hospital in new york as per reports the 66-year-old had gone through tests for soft tissue cancer reports added ',\n",
       " 'a 33-year-old man has been arrested for allegedly raping three-year-old girl in dundigal near hyderabad on thursday the girl was playing in front of her house when the man her neighbour took her to an isolated place and raped her police official said case has been registered against the man under the pocso act ',\n",
       " 'as many as 855 police personnel were awarded medals on the eve of republic day by president ram nath kovind of these 146 were awarded police medals for gallantry pmg and three personnel were decorated with the presidentã¢â\\x80â\\x99s police medal for gallantry ppmg award crpf was decorated with maximum pmg 41 followed by odisha police which received 26 medals.',\n",
       " 'the us has ordered its non-emergency government staff to leave venezuela and urged its citizens to strongly consider leaving the latin american country amid the political crisis meanwhile president nicolã\\x83â¡s maduro announced to close venezuela embassy and all consulates in the us after breaking diplomatic ties the us recognised opposition leader juan guaidã\\x83â³ as venezuela interim president.',\n",
       " 'sequoia y-combinator backed investment platform groww uses technology to make investing free and accessible to everyone in india groww offers direct mutual funds zero-commission with 100% paperless on mobile experience to help people start investing within mins and set themselves for building wealth in long term investors from more than 700 cities are currently using groww.',\n",
       " 'discussing about gender discrimination screenplay writer juhi chaturvedi said at home concepts like man being head of the family and kanya daan need to change on women breaking the glass ceiling juhi added let not break things let create things juhi said issues on #metoo should make it to the front page of the national dailies not just gossip sections.',\n",
       " 'nawazuddin siddiqui starrer thackeray which released today cannot be considered as one of the best biopics ever created wrote times now nawazuddin is an outstanding performer in film best left alone said ndtv koimoi called the film an engrossing political drama it has been rated 2.5/5 times now 1.5/5 ndtv and 3/5 koimoi ',\n",
       " 'shiv sena workers staged protest inside the premises of movie hall in navi mumbai on thursday for not displaying thackeray movie poster in video of the incident the protestors can be seen staging sit-in protest and shouting slogans the movie is based on shiv sena founder bal thackeray and released on friday ',\n",
       " 'world number one novak djokovic defeated lucas pouille in the semi-final to reach australian open men singles final for the seventh time the six-time australian open champion won the match with scoreline of 6-0 6-2 6-2 in 83 minutes djokovic will face world number two rafael nadal in the summit clash in repeat of the 2012 final ',\n",
       " 'facebook ceo mark zuckerberg has said that we don sell people data even though it often reported that we do zuckerberg explained that doing so would go against facebook business interests as the data can be used by rivals to compete for advertising he further clarified that targeting ads based on user interests was different from selling people data .',\n",
       " 'a video of congress president rahul gandhi has surfaced online showing him helping photographer who fell down the stairs get up the photographer fell head-first from steep stairs outside odisha airport following which several people including rahul rush to help him affection and quick action for the people in need comes as reflex to true leader congress tweeted.',\n",
       " 'claiming congress has realised there nothing to gain from hate party president rahul gandhi today said look at mr narendra modi and when he abuses me feel like giving him hug he added the best thing that happened to me is the abuse ve got from bjp and rss this is the biggest gift they ve given me ',\n",
       " 'lingerie retailer clovia parent company purple panda fashions has raised $10 million in fresh funding round led by singapore-based firm at capital existing investor ivycap ventures also invested about $3 million clovia has been operationally profitable and the capital would help expand in tier-2 and tier-3 towns across india said co-founder and ceo pankaj vermani an iit delhi alumnus.',\n",
       " 'india on thursday became the first country to use the fourth and final stage of rocket as an orbital platform for experiments which normally turns into debris after ejecting satellite designed to last six months the reusable fourth stage ps4 is equipped with twin-liquid engines to move the student-made kalamsat-v2 satellite to higher orbit and stabilise it.',\n",
       " 'the chargesheet filed in the murder case of 20-year-old aspiring model mansi dixit who was killed in october in mumbai revealed that 19-year-old aspiring photographer syed muzammil killed her because she refused to have sex with him after she refused his advances he hit wooden stool on her head molested her when she fell unconscious and then strangled her.',\n",
       " 'jean wyllys brazil first openly gay congressman has announced that he is leaving his job and the country due to death threats wyllys said in an interview that violence in brazil had worsened following the election of president jair bolsonaro in october last year wyllys socialism and liberty party said that he ll be replaced by another gay lawmaker david miranda.',\n",
       " 'us senator elizabeth warren has proposed new wealth tax which would cost the world richest person jeff bezos $4.1 billion in the first year warren proposed wealth tax of 2% on americans with assets above $50 million and 3% on all fortunes above $1 billion almost all of bezos $137.1 billion wealth is tied up in amazon stock.',\n",
       " 'the cbi has said it may investigate current icici bank ceo sandeep bakhshi and goldman sachs india co-ceo sonjoy chatterjee in the kochhar-videocon loan case they were part of icici sanctioning committees when loans to videocon group were approved chanda kochhar has been accused of cheating icici of ã¢â\\x82â¹1 730 crore and receiving illegal gratification through her husband for favouring videocon ',\n",
       " 'shilpa shetty has said that women don need to prove their capabilities to anyone god himself has given us females the power to carry out his job of bringing new life into this world he chose us because we are stronger she added while judging dance show one of the acts highlighted the challenges that women face.',\n",
       " 'swara bhasker along with her brother ishan will launch her production house kahaaniwaaley confirming the news swara said at kahaaniwaaley the aim is to support good scripts and filmmakers that have these fresh and powerful stories but they don get the right platform to showcase them both of them are reportedly working on films and will announce the projects soon.',\n",
       " 'wishing wife soha ali khan on their fourth wedding anniversary on friday kunal kemmu shared their wedding picture and wrote to friendship to love to parenting together cherish every step that we take together happy anniversary sohuuu soha also shared picture from their wedding and wrote four years and promise of forever it only gets stronger ',\n",
       " 'mizoram chief minister zoramthanga on thursday said that the mizo national front mnf would withdraw its support to nda if the citizenship amendment bill is not revoked the bill doesn value the historic mizo accord signed between india and the erstwhile underground mnf he added he further said that pm narendra modi has been informed about their opposition to the bill.',\n",
       " 'after his sister priyanka gandhi vadra entered active politics congress president rahul gandhi said the discussion to include priyanka was going on for years he added she then said her children were young and she needed to take care of them now her children have reached an age that one has gone to university another is about to go ',\n",
       " 'addressing the odisha dialogue programme in bhubaneswar congress president rahul gandhi on friday called rss mother ship of the bjp rss believes it is the only institution in the country they want to penetrate into all other institutions and control them he added he further said that congress respects decentralisation independence of institutions and constitutional advances .',\n",
       " 'after priyanka gandhi vadra entered active politics the shiv sena on friday said priyanka will emerge as the queen if she plays her cards well it added priyanka bears an uncanny resemblance to her grandmother late prime minister indira gandhi in looks and manner of speaking therefore the congress will surely benefit in the hindi heartland ',\n",
       " 'a teacher has been arrested for allegedly raping class student in school in krishna district andhra pradesh further case has been registered under the protection of children from sexual offences pocso act medical examination of the eight-year-old girl has confirmed sexual assault ',\n",
       " 'former madhya pradesh cm shivraj singh chouhan on thursday said reports about people being given ã¢â\\x82â¹10 ã¢â\\x82â¹20 in the name of farm loan waiver is cruel joke he further claimed the list of beneficiaries being published in english was confusing for farmers this comes after farmer alleged he received only ã¢â\\x82â¹13 waiver for his loan of ã¢â\\x82â¹23 815.',\n",
       " 'a leopard entered crowded locality in maharashtra nashik on friday injuring shiv sena corporator santosh gaikwad and two news channel cameramen while gaikwad was trying to control the assembled crowd the cameramen were trying to record video of the animal when it pounced on them an official said the leopard has been caught by forest department officials.',\n",
       " 'delhi metro services will be partially curtailed on saturday as part of security arrangement for republic day delhi metro rail corporation said entry and exit at central secretariat and udyog bhawan stations will remain closed from am to 12 pm while those at patel chowk and lok kalyan marg stations will be closed from 8:45 am to 12 pm.',\n",
       " 'at least seven people have died due to swine flu in the past 24 days in punjab ludhiana district civil surgeon parvinder pal singh sidhu said ludhiana has seen 40 suspected cases of swine flu out of which 20 have been confirmed he added in 2018 there were 69 cases registered out of which three people died he further said.',\n",
       " 'according to data issued by the government 572 people tested positive and 77 deaths have been reported across the country this year till thursday due to swine flu rajasthan alone accounted for nearly 60% of the cases it was followed by gujarat with 438 cases and eight deaths and delhi with 387 cases.',\n",
       " 'celebrating its 25th year mercedes-benz india is set to redefine india luxury space in the automotive segment by launching the new v-class the v-class is powered by 2.1-litre bs vi diesel engine that generates 120kw power 380nm torque and can go from 0-100km/h in 10.9 seconds it features led headlamps multi-functional steering wheel and 17-inch alloy wheels.',\n",
       " 'the supreme court on friday refused to stay the implementation of 10% reservation in jobs and education for economically weaker section of the general category however cji ranjan gogoi-led bench said they will examine the validity of the reservation the court has also issued notice to the centre based on the petitions challenging the constitutional amendment.',\n",
       " 'in world where negative news is all around us rpg has introduced happiness studios platform of positive stories this is in line with the group tagline ã¢â\\x80â\\x93 hello happiness with this rpg launches its instagram handle where it will post real stories of courage and change which enable progress the truest embodiment of happiness.',\n",
       " 'casting director rohan mapuskar who worked with director rajkumar hirani in idiots and lage raho munna bhai has defended the filmmaker over the sexual harassment allegations against him we ve worked with this person for nine years and if something hasn happened in front of us won be able to believe that the person is like this he said ',\n",
       " 'after hardik pandya and kl rahul were suspended over their comments on women on koffee with karan filmmaker karan johar revealed his mother was very upset with him over the incident she a big pandya fan she was sulking and telling me how could you do this to him he added the one woman offended was my own mother he remarked.',\n",
       " 'national award-winning malayali filmmaker priyanandanan was attacked on friday morning after he wrote facebook post on the sabarimala issue he was beaten up and water mixed with cow dung was flung on him probe is on said police can identify the assailants suspect rss-bjp workers were behind the attack priyanandan said.',\n",
       " 'bjp has demanded an unconditional apology from congress president rahul gandhi after cartoon put up by the party in telangana used draupadi vastraharan from mahabharata as an analogy during the protests on thursday the poster titled democracy in telangana shows voters as draupadi being disrobed by the election commission of india and cm chandrashekar rao as spectator.',\n",
       " 'the rohtak residence of former haryana cm bhupinder singh hooda is among the 30 premises that have been raided on friday in haryana and delhi-ncr in connection with an alleged land scam in gurugram the supreme court in november 2017 had ordered cbi probe into the acquisition process for 407 acre and subsequent release of 95% land.',\n",
       " 'after priyanka gandhi vadra was appointed as congress general secretary of uttar pradesh east bihar minister vinod narayan jha said votes cannot be won on basis of beautiful faces she is very beautiful but other than that she holds no political achievement he added moreover she is the wife of robert vadra who is accused of involvement in several corruption cases ',\n",
       " 'after priyanka gandhi vadra entered active politics bihar deputy chief minister sushil kumar modi claimed the congress is feeling happy over the induction of woman with tainted life partner discussing the resemblance between priyanka and late pm indira gandhi he said duplicates do not work in politics priyanka might resemble indira but there is big difference ',\n",
       " 'britain biggest carmaker jaguar land rover jlr owned by india tata motors on thursday said there would be week-long pause in production in april due to potential disruption from brexit all three of the company uk car plants and its engine plant would be affected notably uk prime minister theresa may brexit plan was defeated in parliament last week ',\n",
       " 'mahajabeen wife of militant-turned-soldier lance naik nazir ahmad wani who ll be awarded with ashoka chakra said didn cry when was told he no more there was an inner resolve which didn allow me to cry he loved me so much for me he was my guiding light she added wani gave up terrorism and joined army in 2004.',\n",
       " 'nthe goa cabinet has approved proposal to impose fine of ã¢â\\x82â¹2 000 on people who drink alcohol or cook in public and fine of ã¢â\\x82â¹10 000 if group of people is doing so offenders who do not pay the fine will face up to three months imprisonment the amendment is expected to be tabled during the assembly session ',\n",
       " 'around nine deliveries were performed under candlelight and torchlight in government-run dehradun hospital after electricity was disrupted for several hours the hospital said the power supply couldn be resumed due to glitch in the generator and the electrician employed by them was on leave the power was reportedly disrupted on tuesday and resumed after 14 hours on wednesday ',\n",
       " 'katrina kaif who opted out of choreographer-filmmaker remo souza upcoming dance film abcd said bharat needs an eid release which is in june unfortunately we couldn fit in the time for that one katrina had stepped in for priyanka chopra in salman khan starrer bharat after priyanka cited personal reasons to opt out abcd now stars shraddha kapoor.',\n",
       " 'pankaj tripathi has said now he very particular when it comes to choosing film adding now know the kind of work that would like to associate myself with ve nothing against smaller roles they made me what m today but progression is the way of life said pankaj who debuted in 2004 with minor role in run .',\n",
       " 'american singer alecia beth moore professionally known as pink will be honoured with star on the hollywood walk of fame on february the singer is recognised in the recording category and will receive the 656th star on hollywood boulevard in front of the hollywood and highland complex she is known for songs like just like fire and try ',\n",
       " 'reacting to the sexual harassment allegations against rajkumar hirani actress sayani gupta said was like oh my god him also like who to actually trust know raju sir pretty well and ve had amazing conversations interactions with him it really came as shock she added sayani further said every single person who comes out needs to be heard ',\n",
       " 'karan johar while talking about working with kangana ranaut said have no problem with her if the film demands kangana if filmmaker wants her then why not just because we had personal differences doesn mean we are not going to work together he added kangana had called karan the flagbearer of nepotism on koffee with karan episode.',\n",
       " 'grammy-winning 29-year-old singer-songwriter chris brown who was arrested after 24-year-old woman accused him of raping her has filed defamation case against the woman the woman reportedly alleged that brown invited her to hotel in paris on the evening of january 15 and attacked her chris was released day after being arrested.',\n",
       " 'england pacer james anderson matched sir ian botham tally of 27 test five-wicket hauls for england on day two of the first test against the windies anderson milestone five-wicket haul came 16 years after his first which he bagged on debut against zimbabwe at lord in may 2003 anderson has now picked up 570 wickets in test cricket.',\n",
       " 'after priyanka gandhi vadra entered active politics sad chief sukhbir singh badal said think they are training her so that when congress president rahul gandhi will fail they can bring in priyanka gandhi he added this is all drama and their media strategy it will not make any difference at ground level ',\n",
       " 'after priyanka gandhi vadra was appointed as congress general secretary of uttar pradesh east rajasthan deputy cm sachin pilot said both priyanka and rahul complement each other and together they can do wonders claiming they have team spirit pilot added she priyanka has been handling the party war room for long and hence we shouldn prejudge her qualities and abilities ',\n",
       " 'talking about the 10% reservation for economically weaker section of general category rjd leader tejashwi yadav said how can someone earning ã¢â\\x82â¹8 lakh year be called poor itã¢â\\x80â\\x99s strange mathematics one who can pay ã¢â\\x82â¹72 500 as tax is being given reservation by this government ã¢â\\x80â\\x9d he added he also demanded at least 40% quota from the existing 27% for the obcs.',\n",
       " 'a 6-year-old girl named rimjhim has gifted wooden clogs crafted by her deceased father to up cm yogi adityanath rimjhim whose father died in 2018 said my father had told me that he wanted to gift khadaus to yogi ji yogi asked the girl who lives with her maternal relatives as her mother died in 2016 about school and family.',\n",
       " 'jammu and kashmir governor satya pal malik on thursday approved the k reservation act amendment bill 2014 which grants reservation to pahari community the amendment would add separate category for those belonging to the community because of remoteness and ninaccessibility of the areas of their residence they have historically faced backwardness spokesperson said ',\n",
       " 'following coa decision to lift the bans on hardik pandya and kl rahul the bcci has decided to include pandya in india limited-overs squad for the series against new zealand pandya will be sent to new zealand at the earliest the bcci said meanwhile kl rahul will join india squad to play the last one-day games against england lions.',\n",
       " 'the indian space research organisation isro on thursday successfully launched small communication student-made satellite kalamsat-v2 and imaging satellite microsat-r through its pslv-c44 into the intended orbit the launch took place from the satish dhawan space centre in sriharikota the 10-cm cube satellite kalamsat-v2 has life span of two months and weighs about 1.2 kg.',\n",
       " 'ramu man in his thirties from muzaffarnagar died during shooting of shahid kapoor kabir singh in mussoorie he was part of the crew responsible for functioning of the generator being used in the shoot ramu was repairing generator when his muffler got caught in the fan of the generator causing his head to hit the fan said police.n',\n",
       " 'the mumbai police on wednesday arrested six members of the karni sena who allegedly assembled outside the residence of actress kangana ranaut to protest against recent statements made by her regarding the outfit they were later granted bail by bandra magistrate court the magistrate ordered them to be sent outside the city for eight days said police officer.',\n",
       " 'kangana ranaut starrer manikarnika the queen of jhansi which released today is well-made historical with the right scale emotional quotient and battle sequences said bollywood hungama manikarnika highlights kangana prowess as an actor said the times of india toi koimoi wrote that the film has polished action sequences it has been rated 3.5/5 bollywood hungama toi koimoi .',\n",
       " 'reacting to pakistan captain sarfaraz ahmed calling south africa andile phehlukwayo abey kaale during the second odi ex-pakistan captain wasim akram said sarfaraz needs to be more responsible can imagine he uttered those remarks under pressure however he needs to be more responsible with his words even if they are said on lighter note or in frustration akram added.',\n",
       " 'india women opener smriti mandhana who slammed match-winning knock of 105 104 against new zealand women at napier on thursday said she watched the india-new zealand men odi at napier to understand the pitch we decided to just keep it simple play according to the merit of the ball she added india women won the odi by nine wickets.',\n",
       " 'two suspected jaish-e-mohammad terrorists abdul latif ganai and hilal ahmad bhat have been arrested on charges of planning to carry out terror strikes in delhi during republic day celebrations they were reportedly planning to target seven places including jama masjid gas pipeline and crowded markets like lajpat nagar and palika bazar they were arrested from delhi and k.',\n",
       " 'at white house event on the reciprocal trade act us president donald trump said that he got india to cut tariffs on motorcycles from 100% to 50% just by talking for about two minutes he however pointed out india duties on american whisky saying india has very high tariff you look at whisky india gets 150% we get nothing ',\n",
       " 'law student sanam setia was arrested in punjab kharar for opening fire at domino pizza staff after an argument on being delivered cold pizza setia abused the delivery boy and refused to pay following which the outlet manager and two staffers reached his house setia then got his licensed gun and opened fire at them though they escaped unhurt.',\n",
       " 'a tamil nadu man who was facing death penalty in kuwait had his sentence commuted to life imprisonment by the government after his family raised ã¢â\\x82â¹30 lakh blood money to pay the victim family the man was sentenced to death for killing keralite in september 2013 the victimã¢â\\x80â\\x99s family demanded ã¢â\\x82â¹30 lakh as compensation to pardon the accused.',\n",
       " 'kartik aaryan who made his debut with pyaar ka punchnama in 2011 said like thrillers and the anti-hero zone love watching them d like to do something in this other than comedy m offered lot of comedy films want to do serious films now he added kartik further said comedy the most difficult thing to do.',\n",
       " 'south korean multinational conglomerate samsung may reportedly stop manufacturing its flagship smartphones in india in response to government phased manufacturing programme pmp the deadline of the pmp has moved ahead from anytime in 2019-20 to february 2019 according to reports it now mandates firms to either locally make components from february 2019 or pay 10% import duty.',\n",
       " 'after priyanka gandhi vadra was appointed as the congress general secretary of uttar pradesh east union home minister rajnath singh said we do not consider congress challenge in up this is their internal matter singh added congress is no match to bjp people have realised that we are working to take the country ahead ',\n",
       " 'mclaren has revealed its concept car for formula in 2050 mclextreme that could feature an ai co-pilot the human driver in the car could connect to the ai which will learn and predict the driver preferences and state of mind via their helmet the company said the all-electric concept car could reach speeds of up to 500 kmph.',\n",
       " 'gurugram-based fresh milk startup country delight has reportedly raised around $7-10 million in series round of funding the round was reportedly led by venture capital firm matrix partners founded by iim-indore alumni chakradhar gade and nitin kaushal country delight is based on the farm-to-fridge concept and delivers fresh milk directly to houses through subscription model.',\n",
       " 'mit lincoln laboratory researchers have developed methods to use eye-and-skin-safe laser light to beam audible messages to person ear without any receiver equipment the methods use water vapour in the air to absorb light and create sound this can work even in relatively dry conditions because there is almost always little water in the air researchers said.',\n",
       " 'the maharashtra government on thursday announced disbursement of ã¢â\\x82â¹2 900 crore for relief measures in drought-affected areas of the state government will release compensation to farmers which will be credited into their accounts in coming days state relief and rehabilitation minister nchandrakant patil said 151 tehsils 268 mandals 923 villages have been declared drought affected he added.',\n",
       " 'around 25 000 security personnel will be deployed in and around delhi rajpath to prevent any untoward incident during the 70th republic day celebrations apart from delhi police special armed forces and other security agencies will be deployed in the area various cctv cameras and face-recognition cameras have also been installed to help officers identify terrorists and criminal elements.',\n",
       " 'rajasthan women and child development minister mamta bhupesh on thursday said those who discriminate between boys and girls should be socially boycotted speaking at programme on national girl child day she added it disappointing that most of the cases of female foeticide come from educated society daughters today are playing an important role in nation building she further said.',\n",
       " 'pakistan jailed former prime minister nawaz sharif on thursday quoted mirza ghalib to describe his condition when his party leaders visited him in jail in lahore the local media reported unke dekhe se jo aa jaati hai munh par raunaq woh samajhtey hain ki beemar ka haal achchha hai sharif quoted ghalib while responding to questions about his health ',\n",
       " 'wikileaks is seeking to sue the us government to disclose any charges secretly filed against its founder julian assange he faces possible extradition to the us after wikileaks published thousands of classified us military and diplomatic cables wikileaks said that us prosecutors have approached people in the us germany and iceland and pressed them to testify against assange ',\n",
       " 'former scottish first minister alex salmond was on thursday charged with attempted rape and sexual assault salmond who denied committing any crime faces total of 14 charges including breach of peace and indecent assault the 64-year-old has been under investigation following allegations of sexual harassment by two female civil servants.',\n",
       " 'media and entertainment company reliance entertainment on thursday said it has elevated shibasish sarkar to the role of group ceo for the content digital and gaming segments he was previously chief operating officer of the studio sarkar had in 2018 led the process on behalf of reliance entertainment for listing its uk-based gaming company codemasters on the london stock exchange.',\n",
       " 'the cbi has booked former air india chairman and managing director arvind jadhav for allegedly violating procedures during promotions the cbi alleged that jadhav formed an illegal promotion panel to recommend suitable candidates for promotions to the post of general manager operations in 2010 he allegedly granted promotions to officials facing criminal cases and vigilance complaints.',\n",
       " 'trai has launched web application for direct-to-home dth and cable tv subscribers to help them preview subscription packs and prices the app lists all channels and informs subscribers about tv viewing costs once they exercise their choices in the mock subscription this comes ahead of the rollout of the new tariff regime which will be effective from february ',\n",
       " 'presenting an ode to friendship that lasts through thick and thin four more shots please traces the journey of women best friends who face their highs and lows together in the city of mumbai and more often than not end the day with some shots the show will be streaming on amazon prime video from january 25 ',\n",
       " 'a tamil nadu milk dealers association has approached chennai police seeking ban on the practice of celebrating movie releases with paalabishekam which involves pouring milk over stars posters and cutouts the association said fans steal milk from boxes kept outside shops as they arrive in the morning we approached top actors but none of them have done anything it added.',\n",
       " 'rajkummar rao girlfriend patralekhaa has revealed to humans of bombay she first saw him in love sex aur dhokha while adding thought the weird guy he played was what he was like he first saw me in an ad and thought m going to marry her she added patralekhaa further said once they began working together it was magic .',\n",
       " 'pink floyd co-founder roger waters used his private jet to reunite trinidadian mother with her two children four years after they were abducted and taken to syria the boys were taken to syria by their father who was an isis fighter in 2014 the father reportedly died in 2017 after which the children were abandoned by his belgian wife.',\n",
       " 'ex-england captain kevin pietersen trolled india captain virat kohli after the latter shared picture with the caption basking in the sun pietersen pointed out kohli was more in the shade after which kohli said his first caption was much worse and that his face was still in the sun ll let you off cos love you pietersen responded.',\n",
       " 'after small passenger plane carrying 28-year-old argentine footballer emiliano sala disappeared over english channel the forward former girlfriend berenice schkair claimed that football mafia is behind the incident investigate the football mafia because don believe this was an accident she wrote in now deleted twitter post feel impotent m in nightmare she further wrote.',\n",
       " 'the search for the missing plane carrying 28-year-old cardiff city forward emiliano sala has been called off the police has said the argentine footballer and 59-year-old pilot dave ibbotson had been missing since their plane disappeared from radar over english channel on monday night the chances of survival at this stage are extremely remote statement read.',\n",
       " 'reacting to sun stopping play in the first new zealand-india odi at napier for around 37 minutes napier mayor bill dalton said that players need to toughen up as cricket is an outdoor sport it all bit weird to me wonder if in india they go off the field because they have sun in their eyes he added ',\n",
       " 'speaking about congress president rahul gandhi sister priyanka gandhi vadra joining active politics lok sabha speaker sumitra mahajan said rahulji has accepted he canã¢â\\x80â\\x99t do politics all alone and for that he is taking priyankaã¢â\\x80â\\x99s help she priyanka gandhi vadra is good woman mahajan added priyanka has been appointed as general secretary in-charge of uttar pradesh east.',\n",
       " 'the high powered selection committee meeting chaired by prime minister narendra modi on thursday for the appointment of new cbi director was inconclusive reports said names of as many as 80 officers from four ips batches were presented before the committee the committee also comprised chief justice of india ranjan gogoi and mallikarjun kharge of the congress ',\n",
       " 'a 12-year-old girl died after snow fort collapsed while she was playing along with another girl outside church in chicago us their families began looking for the girls about an hour after they went outside to play the other girl was treated for hypothermia and remains at hospital.',\n",
       " 'pictures of memes-inspired gowns worn by models at fashion show in paris have gone viral they have been created by dutch fashion house viktor rolf as part of their spring/ summer 2019 collection showcased at paris couture week the gowns had writings like sorry m late didn want to come and m not shy just don like you .',\n",
       " 'india biggest airline indigo has named ronojoy dutta as its ceo for period of five years the 67-year-old takes over from co-founder and interim ceo rahul bhatia who was filling in after aditya ghosh departure last year an iit and harvard alumnus dutta was with united airlines for 17 years and served as its president between 1999 and 2002.',\n",
       " 'yes bank on thursday named deutsche bank india head ravneet gill as its next ceo gill who joined deutsche bank in 1991 and became its india ceo in 2012 holds master degree in political science from delhi hindu college gill is an ardent cricket fan and has been an art collector for several years along with his wife ',\n",
       " 'bengali film producer shrikant mohta was arrested by the cbi in kolkata in connection with the multi-crore rose valley money laundering scam mohta had reportedly taken ã¢â\\x82â¹25 crore from jailed rose valley chairman gautam kundu and had threatened kundu when asked to return the money the cbi earlier accused kundu of defrauding investors from across india of over ã¢â\\x82â¹17 000 crore.',\n",
       " ' the gandhi murder film based on mahatma gandhi assassination will not release in india as certain elements have issued threats the film producer lakshmi iyer said if indians are too sensitive to learn the truth it clearly not the time lakshmi said the film is set to release worldwide on january 30 which is mahatma gandhi death anniversary.',\n",
       " 'according to data reported by opensignal india experiences its fastest average 4g download speed of 16.8 mbps at am and its slowest average speed of 3.7 mbps at 10 pm the report that compiled data from 20 indian cities said the average speeds were affected by network congestion the daily average speed was 6.5 mbps as per the report.',\n",
       " 'facebook chief operating officer coo sheryl sandberg in an interview at the world economic forum in davos said the social media platform needs to win back trust facebook has recently faced many scandals for violating its usersã¢â\\x80â\\x99 privacy and sandberg was allegedly involved in some we did not anticipate all of the risks from connecting so many people she added.',\n",
       " 'renault on thursday said it has appointed tyre giant michelin ceo jean-dominique senard as its new chairman and thierry bollorã\\x83â as ceo senard will represent renault in its alliance with japanese carmakers nissan and mitsubishi the french automaker added this comes after carlos ghosn who is jailed in tokyo has resigned as the chairman and ceo of renault ',\n",
       " 'elon musk-led spacex 30-foot-wide starship rocket prototype to be launched to suborbital heights was damaged after strong winds blew over the upper section of the rocket musk confirmed the incident saying 50 mph nearly 80 kmph winds broke the mooring blocks late last night fairing was blown over he added it ll take few weeks to repair the damage.',\n",
       " 'a container of radioactive isotope cs-137 which went missing from ongc base in andhra pradesh earlier this month was located by police in scrapyard on wednesday the radioactive substance cs-137 has been recovered but the accused have not yet been identified the police stated the isotope which is reportedly worth ã¢â\\x82â¹27 lakh is not explosive ongc officials said.',\n",
       " 'us space agency nasa has discovered fresh two-toned blast pattern near the south pole of mars captured by the mars reconnaissance orbiter mro the impact crater had formed sometime between july and september 2018 nasa planetary scientist ross beyer said itã¢â\\x80â\\x99s notable because it occurred in the seasonal southern ice cap and has apparently punched through it he added.',\n",
       " 'jammu and kashmir governor satya pal malik has said that he feels pained even if terrorist loses his life and urged militants to return to the mainstream malik added his administration was in the process of formulating new package for the rehabilitation of terrorists he further lauded the security forces efforts in curbing terrorist activities in the state.',\n",
       " 'the new 10% quota for the economically weaker sections ews in the general category will be applicable to all central government posts from february an official order said instructions regarding reservation in admission to educational institutions will be issued by the ministry of human resource development the order added.',\n",
       " 'defence research and development organisation drdo has successfully test-fired barak lrsam long range surface-to-air missile from naval warship ins chennai off the coast of odisha the missile directly hit low flying aerial target defence minister nirmala sitharaman tweeted the barak lrsam missile defence system has been jointly developed by drdo and israel aerospace industries.',\n",
       " 'a gunman killed all five people on wednesday inside bank in florida us police said police responded to the bank shooting after the 21-year-old himself called police dispatcher and said that he had shot five people the suspected shooter surrendered himself after initially barricading himself inside the bank.',\n",
       " 'tamil nadu cm edappadi palaniswami on thursday announced the state has signed agreements amounting to over ã¢â\\x82â¹3 lakh crore during the second edition of the global investors meet gim some of the biggest investors included chennai petroleum hyundai motor india and mrf mous worth ã¢â\\x82â¹30 000 crore were signed between the government and nearly 12 000 small businesses the cm added.',\n",
       " 'hardik pandya and kl rahul who were suspended pending inquiry for their comments on women on koffee with karan are available for team india selection after the coa lifted the ban on them with immediate effect today the suspension has been lifted pending appointment and adjudication of the allegations by the bcci ombudsman bcci press release said.',\n",
       " 'speaking to humans of bombay rajkummar rao girlfriend patralekhaa revealed he rao would go out of his way for me once he was late to see me so he ran from the airport to juhu she added when we weren earning much he gifted me my favourite bagã¢â\\x80â\\x93it was so expensive we don know what future holds but being together is enough said patralekhaa.',\n",
       " 'actor kartik aaryan has revealed his parents still scold him and sometimes even hit him to keep him grounded the 28-year-old actor added they tell me everything depends on the next friday so relax so wonã¢â\\x80â\\x99t be high-headed ever itã¢â\\x80â\\x99s not as if have become huge star and success has gone to my head the actor said.',\n",
       " 'actor govinda 34-year-old nephew janmendra ahuja passed away on thursday morning after suffering from heart attack according to reports he had complained of chest pain in the morning following which he collapsed janmendra had directed film titled jahan jaaeyega hamen paaeyega which starred govinda in the lead role.',\n",
       " 'punjabi singer-actor ammy virk will be making his bollywood debut with kabir khan directorial 83 which is based on india first world cup victory in 1983 virk will play former fast bowler balwinder singh sandhu in the film that stars ranveer singh in the role of former captain kapil dev interestingly sandhu is also coaching ranveer for the film.',\n",
       " 'two-time wimbledon champion petra kvitova who reached australian open 2019 final on thursday said not many people believed she could play tennis after an intruder attacked her with knife in 2016 it wasn only physical but mentally it was very tough it really took me while to believe wasn confident about being alone anywhere the 28-year-old added.',\n",
       " 'twitter ceo jack dorsey revealed that facebook ceo mark zuckerberg once killed goat by himself and served it to him in dinner well there was year when he mark zuckerberg was only eating what he was killing said dorsey the only meat m eating is from animals ve killed myself zuckerberg had said in 2011 ',\n",
       " 'sultan abdullah sultan ahmad shah was on thursday elected as malaysia new king by the members of the country royal families the 59-year-old was earlier appointed the sultan of the malaysian state of pahang he replaces sultan muhammad of kelantan who stepped down earlier this month making it the first abdication in malaysia history.',\n",
       " 'two chinese companies have announced an extra eight days of annual dating leave for unmarried single women employees aged over 30 years in non-frontline roles the leaves will be given every year over the chinese new year to go home and date the company said the leaves come into effect over the chinese new year on february 5.',\n",
       " 'billionaire ken griffin who bought the most expensive us home for $238 million ã¢â\\x82â¹1 700 crore in new york is the ceo of $28-billion citadel hedge fund the 50-year-old who has $9.6-billion fortune began trading from his harvard university dorm room in 1987 and founded citadel in 1990 griffin owns art collection and real estate worth around $700 million each ',\n",
       " 'shares of singapore-listed jardine matheson 186-year-old asian conglomerate briefly plunged 83% or nearly $41 billion in market value before recovering fully on thursday around 167 500 shares traded at prices less than 25% of the previous day close singapore exchange said there was no basis to cancel trades executed during the dramatic move adding there were no malfunctioning systems ',\n",
       " 'actress vidya balan will host radio show titled with vidya balan dhun badal ke toh dekho as per reports she will talk on variety of social issues such as woman empowerment and depression reports further stated the show will reportedly be aired on the radio channel 92.7 big fm and will be launched in march this year.',\n",
       " 'speaking about the #metoo movement in india filmmaker karan johar said the movement has led to tremendous accountability in the environment occupy am feminist when hear of these incidents it makes my stomach churn the filmmaker added karan further said that respecting women has always been important to him ',\n",
       " 'the bombay high court on thursday rejected plea seeking stay on the release of the upcoming kangana ranaut starrer manikarnika the queen of jhansi the petition was filed by lawyer who claimed to be fifth generation descendant of rani lakshmi bai the petitioner accused the film makers of wrongly depicting historical facts about the queen.',\n",
       " 'actress kangana ranaut revealed that she had decided she wanted to become director while shooting for her film queen adding after queen started to feel absolutely underutilised started thinking that acting isn for me and must pursue direction she said kangana has been credited as co-director of the upcoming film manikarnika the queen of jhansi ',\n",
       " 'veteran actor-filmmaker manoj kumar while speaking about kangana ranaut performance in the upcoming film manikarnika the queen of jhansi said the actress was born to play the role of rani lakshmi bai everybody has done great job in the film but kangana immortalised the character of rani lakshmi bai ã¢â\\x80â\\x9d manoj added the film is set to release on january 25 ',\n",
       " 'music streaming service soundcloud second co-founder and cpo eric wahlforss announced he will be stepping back from day-to-day operations after over 11 years to take break think about what next wahlforss said he will transition into an advisory role effective march earlier in 2017 soundcloud co-founder and then ceo alexander ljung had stepped down from his role as ceo.',\n",
       " 'speaking at world economic forum 2019 microsoft ceo satya nadella said the company welcomes regulation on facial recognition technology that ll help the marketplace not be race to the bottom he added on racing to the bottom the marketplace may face more heavy-handed regulatory regimes microsoft will use principles to build and ensure fair use of the technology he said.',\n",
       " 'chinese state-owned telco china unicom has reportedly revealed the country government has passed an order to block software giant microsoft search engine bing we ve confirmed that bing is currently inaccessible in china and are engaged to determine next steps microsoft said notably platforms like facebook instagram and twitter have been permanently banned for years in china.',\n",
       " 'venture capital firm sequoia capital india has unveiled its startup incubator and accelerator programme surge open to startups based out of or building for indian and southeast asian markets it will pick up 10ã¢â\\x80â\\x9320 startups twice year and invest $1.5 million in each there will be programme fee but this is waived for its first cohort sequoia said.',\n",
       " 'delhi-based live sports engagement app rooter has raised ã¢â\\x82â¹1 crore funding from anthill ventures along with its network of investors the startup is also part of the anthill studio accelerator programme founded in 2016 rooter offers live fantasy game live match prediction and peer-to-peer engagement via integration of technology and social gaming.',\n",
       " 'self-guiding ocean robots termed seagliders deployed in january 2018 completed one year of their mission to travel under the antarctic dotson ice shelf and return to report observations in the mission funded by late microsoft co-founder paul allen foundation seagliders made 18 trips into the ice shelf cavity the seagliders also made 30 surveys along the ice shelf face.',\n",
       " 'china has detained its former citizen and government critic yang hengjun for alleged involvement in criminal activities endangering china national security hengjun writer and former chinese diplomat is now an australian citizen the 53-year-old has been detained since travelling from new york to the chinese city of guangzhou last week.',\n",
       " 'saudi arabia which does not currently possess nuclear weapons has built its first-known ballistic missile factory reports quoting weapons experts and image analysts said satellite images reviewed by the experts appeared to show rocket-engine production and test facility the factory is reportedly in the same location as the al-watah missile base which first became public in 2013.',\n",
       " 'shares of yes bank on thursday rallied as much as 19% after the lender announced the appointment of ravneet singh gill as its managing director and chief executive officer gill who is currently heading deutsche bank india will join yes bank by march the rbi had asked rana kapoor to step down from yes bank by january 31.n',\n",
       " 'european planemaker airbus ceo thomas enders has branded the uk government handling of brexit disgrace and warned the aerospace firm could pull out of the uk if there a no-deal brexit we ll have to make potentially harmful decisions for the uk he said there are plenty of countries who love to build the wings for airbus aircraft he added.n',\n",
       " 'australia captain tim paine wife bonnie took to instagram to react to icc sketch for india wicketkeeper-batsman rishabh pant which showed him sitting with paine and his family haha dying over this sketch but do wish my bust was that big bonnie wrote champion babysitter and champion cricketer the icc captioned the sketch congratulating pant for winning emerging cricketer award.',\n",
       " 'deutsche bank india chief executive officer ceo ravneet singh gill will replace rana kapoor as yes bank managing director and ceo the private lender announced on thursday gill will join the company on or before march 2019 the bank added the announcement comes after the reserve bank of india asked kapoor to step down by january 31 2019 ',\n",
       " 'nawazuddin siddiqui while speaking about his understanding of thackeray character said think all his anger and arrogance were justified considering the situation the society went through during that time there was time in maharashtra when all the mills were shut down the youth suddenly faced unemployment creating jobs was the responsibility of the government and that didn happen nawazuddin added.',\n",
       " 'actress ankita lokhande has said she has been constantly misunderstood just like her manikarnika the queen of jhansi co-star kangana ranaut adding it because our personalities are like that hum kisi ke aage peeche nahi ghumte we don bow down to anything want to tell everyone that kangana has very beautiful soul she is very humble ankita added.',\n",
       " 'world number two rafael nadal defeated 20-year-old stefanos tsitsipas in australian open semi-final on thursday to reach his 25th grand slam final the 32-year-old beat the world number 15 with scoreline of 6-2 6-4 6-0 in 106 minutes in the final the 17-time grand slam champion will face the winner of the semi-final between novak djokovic and lucas pouille.',\n",
       " 'attacking kerala cm pinarayi vijayan state congress leader sudhakaran said not only has vijayan failed to act like man the reality shows us that he has proved to be worse than women when cpm workers eulogised vijayan as man with two hearts even we thought after becoming cm he do something like man the leader added.',\n",
       " 'after congress announced priyanka gandhi vadra entry into active politics the party shared childhood photograph of priyanka playing with her grandmother and former pm indira gandhi strong women raise strong women #likegrandmotherlikegranddaughter #family #love #womenempowerment the party captioned the image priyanka has been appointed as the general secretary for uttar pradesh east.',\n",
       " 'karnataka congress mla jn ganesh is absconding days after he was booked by police for attempt to murder for allegedly assaulting his fellow party mla anand singh ganesh reportedly assaulted singh in drunken brawl during their stay at bengaluru resort almost all state congress mlas were taken to the resort amid the party poaching allegations against bjp.',\n",
       " 'carlos ghosn on wednesday resigned as the chairman and ceo of france largest carmaker renault french finance minister bruno le maire said ghosn earlier fired by nissan as chairman has been in tokyo jail since november 19 when he was arrested over charges of alleged financial misconduct he was also sacked as mitsubishi chairman week after the arrest ',\n",
       " 'chinese scientists have cloned five monkeys from macaque monkey which was gene-edited to induce circadian rhythm disorders associated with human diseases like depression cancer and alzheimer it was the first time multiple clones were made from gene-edited monkey for biomedical research the state media reported the gene-edited monkey most prone to the disorder was selected as the donor.',\n",
       " 'a day after security forces killed three terrorists in jammu and kashmir baramulla district state dgp dilbag singh on thursday announced baramulla as the first district of kashmir with no surviving militant as on date the killed terrorists were affiliated with terror outfit lashkar-e-taiba in 2018 encounters between security forces and terrorists were witnessed in 12 of k 22 districts.',\n",
       " 'the supreme court has refused to stay the proposed amendments to the sc/st prevention of atrocities act by which the centre had restored the no anticipatory bail provision the court stated that the pleas challenging the new amendments will be heard together in march the court had removed the provision for immediate arrest on firs filed under the act ',\n",
       " 'venezuela opposition leader juan guaidã\\x83â³ on wednesday declared himself as the country interim president this came amid protests against nicolã\\x83â¡s maduro who was sworn in as the venezuelan president for the second time earlier this month maduro has been criticised for the economic and humanitarian crisis in venezuela as well as alleged human rights abuses in the latin american country.',\n",
       " 'north korean leader kim jong-un has expressed great satisfaction after receiving letter from us president donald trump kim jong-un said we ll believe in trump positive way of thinking and together with the us advance toward the goal to be reached by the two countries north korea state media said both leaders will meet for the second time next month.',\n",
       " 'china hebei province has launched an app that shows people if they are within 500 metres of someone who is in debt and encourages them to report these debtors to the authorities the chinese state media reported the app named map of deadbeat debtors reveals the exact location of the debtors it is part of china social credit system .',\n",
       " 'chicago-based hedge fund billionaire ken griffin has purchased 24 000-square-foot new york penthouse for $238 million ã¢â\\x82â¹1 700 crore setting the record for most expensive home ever sold in us griffin bought several floors of 79-story residential tower overlooking central park earlier this month the 50-year-old paid $122 million for 200-year-old mansion near london buckingham palace ',\n",
       " 'actor boman irani launched his own production house irani movietone in mumbai on thursday speaking about his decision to venture into production boman said just want to make sure that the foundation on which this industry is built gets stronger every day the official logo for the production house was unveiled by amitabh bachchan at the launch event.',\n",
       " 'e-commerce major amazon on wednesday began testing its self-driving fully-electric robot amazon scout to deliver packages to users in snohomish county in us washington the six-robot-strong fleet each the size of small cooler will deliver packages during daylight hours from monday to friday each robot will initially be accompanied by an employee to make package deliveries to users.',\n",
       " 'jaguar land rover tested system that projects the direction of travel onto the road ahead of self-driving vehicles the system projects series of bars to depict vehicle next move like stopping and turning left or right rials are about understanding how much information self-driving vehicle should share with pedestrian to gain their trust the automaker said.',\n",
       " 'referring to the appointment of priyanka gandhi vadra and jyotiraditya scindia as congress general secretaries for up east and west respectively congress president rahul gandhi said now you have three soldiers working for you in the country rahul who was addressing roadside meeting in amethi added have given them mission to make the government in uttar pradesh ',\n",
       " 'former madhya pradesh chief minister and bjp leader babulal gaur on thursday claimed he is considering contesting the lok sabha polls from the congress gaur said he senior congress leader digvijaya singh visited me and asked me to contest polls from bhopal lok sabha seat on congress ticket told him will think about it.ã¢â\\x80â\\x9d',\n",
       " 'online media outlet buzzfeed has announced it will lay off 15% of its employees next week buzzfeed ceo jonah peretti in memo to employees said the restructuring will reduce costs and improve our operating model without ever needing to raise funding again these are talented people friends and valued colleagues whoã¢â\\x80â\\x99ve done nothing wrong peretti added.',\n",
       " 'a fast track court in muzaffarnagar has sentenced man to seven years imprisonment for forcing his wife to commit suicide in 2013 over dowry demands his wife had committed suicide by hanging herself from the ceiling of their house in july 2013 lawyer stated following this her father had filed complaint against her husband kamil hasan n',\n",
       " 'four people were killed by speeding train while trying to cross railway track in hathras district on thursday uttar pradesh police said three of the victims were from the same family the incident took place near hathras railway station and prima facie appeared to have been caused by dense fog and poor visibility the police added.',\n",
       " 'us president donald trump recognised venezuelan opposition leader juan guaidã\\x83â³ as the interim president calling nicolã\\x83â¡s maduro government illegitimate trump said the parliament was the only legitimate branch of government duly elected by the people ll continue to use the full weight of us economic and diplomatic power to press for the restoration of venezuelan democracy trump added.',\n",
       " 'the pre-bid conference of the government airport privatisation scheme which was recently held in new delhi was reportedly attended by over 20 prospective investors these included airport operator gmr the adani group australian private equity firm macquarie and canadian asset management firm brookfield the government proposed to privatise six airports including jaipur lucknow and guwahati.',\n",
       " 'finance minister arun jaitley underwent surgery on tuesday at hospital in new york and has been advised at least two weeks rest according to reports the 66-year-old had gone through tests for soft tissue cancer reports added the government has assigned piyush goyal temporary additional charge of the finance and corporate affairs ministries in the absence of jaitley.',\n",
       " 'get job-ready in business analytics with great learning pgp-babi offered in collaboration with great lakes and ut austin mccombs school of business which is ranked no.2 in the world for business analytics the program content is rated 4.9/5 by analytics india magazine due to its up-to-date curriculum and hands-on learning learners gain industry-relevant skills by taking part in real-world projects.',\n",
       " 'the cbi has registered case against former icici bank ceo chanda kochhar her husband deepak kochhar and videocon group md venugopal dhoot in connection with alleged irregularities in the ã¢â\\x82â¹3 250-crore videocon loan case it alleged that icici loan to videocon in 2012 benefited deepak kochhar firm nupower renewables searches are being conducted at four places in mumbai and aurangabad.',\n",
       " 'lance naik nazir wani who joined indian army giving up terrorism in 2004 will be awarded ashoka chakra highest peacetime gallantry award posthumously on republic day the 38-year-old lost his life in november wani exhibited the most conspicuous gallantry in personality eliminating two terrorists assisting evacuation of his wounded colleagues and made supreme sacrifice statement read.',\n",
       " 'a british retail chain named poundland is selling packets of nothing for valentine day as gifting option for ã\\x82â£1 nearly ã¢â\\x82â¹100 per unit the product consists of an empty plastic heart in packaging with the taglines exactly what you asked for and less is more poundland has called the product just bit of fun ',\n",
       " 'actor prateik babbar got married to his girlfriend sanya sagar who is the daughter of bsp leader pawan sagar earlier today in traditional maharashtrian ceremony the wedding took place in sanya hometown lucknow and it will be followed by reception in mumbai the couple has reportedly known each other for decade and has been dating since 2017.',\n",
       " 'x-men director bryan singer has been accused of sexual misconduct by four men who have alleged he sexually abused them in the late 1990s when they were teenagers singer lawyer andrew brettler has denied the allegations against his client singer through his representative said the article has been written by homophobic journalist who has bizarre obsession with him.',\n",
       " 'disha patani was trolled on social media for an error she made in captioning one of her paid instagram posts she appeared to have pasted the text meant as message to her which was included in the now deleted post read twice before posting user commented while another person wrote dream client for any marketing agency ',\n",
       " 'american television show host jimmy fallon retweeted picture of him and anupam kher shared by the actor and responded to it fallon wrote will see you again soon hopefully next time dinner is on me kher earlier tweeted when you meet someone whose work you admire says he is fan of your work it is humbling feeling ',\n",
       " 'world number four naomi osaka defeated world number eight karolina pliskova in the australian open 2019 semi-finals to reach her second straight grand slam final the 21-year-old who defeated serena williams in the final of us open 2018 beat pliskova 6-2 4-6 6-4 in an hour and 53 minutes osaka will face world number six petra kvitova in the final.',\n",
       " 'apple has fired 200 employees working for its secretive self-driving car division codenamed project titan company spokesperson confirmed additionally some employees previously working under project titan have been transferred to other divisions in august 2018 apple had hired tesla former senior engineering vice president doug field to head up project titan ',\n",
       " 'after several parties asked for conducting general elections through ballot paper chief election commissioner sunil arora said would like to make it very clear that we re not going back to the era of ballot papers we ll continue to use evms and vvpats he added this comes after self-proclaimed cyber expert alleged electronic voting machines can be hacked.',\n",
       " 'rjd leader raghuvar rai was shot dead by two motorcycle-borne assailants when he was out on morning walk near his home in the samastipur district of bihar on thursday morning said the police following the killing hundreds of his supporters blocked the samastipur-darbhanga road and burned tyres demanding the arrest of the assailants ',\n",
       " 'farmers staged protest against congress president rahul gandhi during his visit to his parliamentary constituency amethi in uttar pradesh demanding employment or the land they gave for now shut cycle factory be returned he should go back to italy rahul has grabbed our land protestor said the factory land is reportedly occupied by the rajiv gandhi charitable trust.',\n",
       " 'for the first time four veterans from netaji subhas chandra bose indian national army all aged between 95 and 100 will take part in the republic day parade moreover contingent of the gorkha brigade will take part in the parade and the army m777 ultra-light howitzers and the k-9 vajra artillery guns will be showcased for the first time.',\n",
       " 'three persons were burnt to death and two injured after van and an suv caught fire following their collision on flyover in delhi on wednesday the suv which was coming from the opposite direction collided with the van after jumping the divider the police said two occupants of the van and an occupant from the suv were killed.',\n",
       " 'a five-member gang of men aged between 19-26 years was arrested for looting 11 temples in karnataka chamarajanagar and mysuru the accused men took help of google maps to identify temples located at isolated places and steal valuables worth ã¢â\\x82â¹2.9 lakh since september last year the accused aren full-time robbers and come from different professional backgrounds police said.',\n",
       " 'a 40-year-old man has been arrested for allegedly killing and chopping his friend into pieces over financial dispute said maharashtra police on wednesday the accused flushed his friend body parts down toilet following which the sewage system got blocked the police arrested him after foul smell started emanating from the flat in which he was staying ',\n",
       " 'cbi has registered an fir in connection with alleged transactions between nupower renewables private limited controlled by deepak kochhar husband of former icici bank ceo chanda kochhar and venugopal dhoot-controlled videocon group cbi is also raiding videocon offices in mumbai and aurangabad and nupower renewables office in mumbai videocon group got ã¢â\\x82â¹3 250-crore loan from icici bank in 2012 ',\n",
       " 'airtel chairman sunil mittal has said that after jio started operations most other operators disappeared and lots of jobs were lost the dark clouds are behind now there are three players left for nation the size of india mittal added one player is still playing the low tariff high subsidy game we ve already started raising tariffs he further said ',\n",
       " 'after priyanka gandhi vadra was appointed as the congress general secretary of uttar pradesh east on wednesday health minister jagat prakash nadda tweeted employment for only one family because this party does not have base he added brother sister mother and father everyone has committed robbery together he further claimed the pm narendra modi-led government will return to power.',\n",
       " 'addressing function attended by delhi chief minister arvind kejriwal aap mla amanatullah khan on wednesday claimed aap will extend support to congress if the next prime minister will be from the latter party his statement came after aap and congress leaders said there are no talks of an alliance between the parties ',\n",
       " 'university of massachusetts amherst researchers have created fabric that can harvest body heat to power small wearable devices like activity trackers the device that converts thermal energy into electrical energy was created by vapour-printing conducting polymer onto commercial cotton it was then integrated into band that generates thermo-voltages over 20 millivolts when worn on the hand.',\n",
       " 'an 18-year-old private tutor has been arrested for allegedly raping and murdering his six-year-old student in ghaziabad said the police on wednesday the accused class 12 student of government school has confessed to the crime the girl father had found her body outside mosque when he went there to offer prayers after she disappeared.nn',\n",
       " 'a woman gave birth to baby girl on ã¢â\\x80â\\x8broad in uttar pradesh jalaun district after government hospital allegedly refused to admit her and told her to come back after three days other women covered her with clothes while she was giving birth the jalaun chief medical office said probe will be launched into the matter.',\n",
       " 'ahead of republic day the maharashtra anti-terrorism squad arrested nine people including 17-year-old from mumbra thane and aurangabad for alleged links with isis the ats seized chemicals powder phones hard drives sim cards knives and acid during the raids one of the accused who worked as medical representative was recruited by the suspects for possible chemical attack.',\n",
       " 'union minister chaudhary birender singh said arcelormittal bid to buy essar steel is delaying its joint venture with state-owned sail the lakshmi mittal-led company signed deal with sail in 2015 to establish steel plant to produce automotive grade steel both the companies are ready to sign definitive agreements but arcelormittal is busy with essar steel acquisition singh added.',\n",
       " 'maruti suzuki has recently launched the big new wagonr it guarantees strong performance with an advanced 1.2 k-series engine and also offers comfort with an enhanced cabin boot and utility space with an unmatched performance coupled with great fuel efficiency customers can take on every journey in full stride with the big new wagonr.',\n",
       " 'india captain virat kohli has become the tenth highest odi run-getter achieving the feat during his 45-run knock against new zealand in the first odi on wednesday the 30-year-old who has scored 10 430 runs in 212 innings overtook ex-windies captain brian lara who scored 10 405 runs in 289 odi innings kohli the only active player among the top-ten odi run-getters.',\n",
       " 'opener shikhar dhawan has become the joint-fastest left-handed batsman to reach 000 runs in odi cricket achieving the feat during his unbeaten 75-run knock in the first odi against new zealand on wednesday the 33-year-old reached the landmark in his 118th innings equalling former windies captain brian lara record dhawan is the second fastest indian batsman to reach the milestone.',\n",
       " 'eight-time olympic gold medallist usain bolt has given up on his dream of becoming professional footballer after having failed to agree contract with australian side central coast mariners last year following trial adding that he now moving into different businesses bolt said the sports life is over for me it was fun while it lasted he added.',\n",
       " 'former india captain ms dhoni and current captain virat kohli were seen riding segway on the ground following india victory against new zealand in the first odi at napier on wednesday the bcci shared video of the duo riding the segway captioned post-game shenanigans courtesy ms dhoni virat kohli this looks fun ',\n",
       " 'two-time commonwealth games gold medal-winning weightlifter sanjita chanu whose provisional suspension from weightlifting over doping was revoked on tuesday said that she is distraught thinking about the mental trauma she went through was so sad and helpless thought of quitting the sport couldn eat and sleep properly life was meaningless for me she added.',\n",
       " 'pakistan captain sarfaraz ahmed has issued an apology for his abey kaale remark on south africa andile phehlukwayo during the second odi on tuesday my words weren directed towards anyone and certainly had no intention of upsetting anyone didn even mean for my words to be heard understood or communicated to the opposing team or cricket fans he wrote.',\n",
       " 'congress has appointed priyanka gandhi vadra and jyotiraditya scindia as general secretaries for uttar pradesh east and west respectively according to party leaders eastern part accounts for 42 lok sabha seats including amethi and raebareli while western part accounts for remaining 38 seats comparison of last two general elections show that congress performed better in the eastern region.',\n",
       " 'janata dal united vice president prashant kishor on wednesday described the appointment of priyanka gandhi vadra as the congress general secretary for uttar pradesh east as one of the most awaited entries in indian politics he finally decided to take the plunge congratulations and best wishes to priyanka gandhi the election strategist-turned-politician said in tweet.',\n",
       " 'a 21-year-old transgender woman was allegedly shot at for refusing to have sex with two men who offered her ride in their car in delhi mistaking her for girl the duo then threw her from the moving car she was later taken to hospital by passerby where she underwent surgery and was declared out of danger ',\n",
       " 'suggesting methods to control the population of india yoga guru baba ramdev on wednesday said voting rights and government jobs should be taken away from people who give birth to more than two kids such people should not be allowed to contest elections or undergo treatment in government hospitals he added ',\n",
       " 'rajasthan 23-year-old shadab hussain tailor son has topped the ca old syllabus final exam in his first attempt the results of which were announced on wednesday by the institute of chartered accountants of india icai hussain scored 597 out of 800 marks devoted 13-14 hours each day to self-study this is the biggest achievement in my family said shadab.',\n",
       " 'at least five people are feared trapped after four-storey building collapsed in gurugram ullawas area on thursday morning three national disaster response force teams have been rushed to the site for rescue operations while bulldozer has been pressed into service to clear the debris haryana fire service personnel are attempting to identify the spot where people are trapped ',\n",
       " 'after kamal nath-led madhya pradesh government announced farm loan waiver within hours after he took oath farmer in the state has claimed he got loan waiver of ã¢â\\x82â¹13 instead of ã¢â\\x82â¹23 815 was expecting complete waiver of my loan the farmer said meanwhile the government said they re encountering flaws and irregularities at the stage of loan disbursal.',\n",
       " 'as many as six indian sailors were killed and six others are missing after two ships caught fire in the kerch strait separating crimea from russia where the blaze was still raging the ministry of external affairs said four indian sailors have been rescued by the authorities the two ships were also carrying turkish and libyan crew members.',\n",
       " 'us president donald trump offered build wall and crime will fall as the new republican party theme referring to his demands to build wall along the us-mexico border in bid to curb illegal migration and crime the us government has been partially shut down for over month over trump demands for funds to build the wall.',\n",
       " 'talking about the competition after jio entry airtel chairman sunil mittal said all have consistently said is that when the chips will fall we will be the last man standing we ve spent over $40-50 billion building airtel the company is still in great shape mittal added he also said that airtel has now stopped fighting the tariff war ',\n",
       " 'team india fast bowler mohammad shami who on wednesday became the fastest indian bowler to reach 100 wickets in odi cricket has said that he likes test cricket more than other formats the way we have done in the last three-four test series as bowling unit it does your confidence world of good shami added.',\n",
       " 'us-based company boeing completed the first test flight of its self-driving electric vertical takeoff and landing evtol air taxi prototype the 9.14-metre-long and 8.53-metre-wide evtol completed controlled takeoff hover and landing during the test flight the company plans to test fly an electric cargo vehicle designed to transport up to 226.8 kilograms outdoors later this year.',\n",
       " 'chinese telecoms giant huawei has been accused of copying music video in an ad to promote its tablet mediapad m3 lite by new zealand composer nigel stanford huawei ad video allegedly similar to stanford video cymatics science vs music released in 2014 was flagged by stanford himself we re looking into this matter and will share further updates huawei said.',\n",
       " 'amazon ceo jeff bezos aerospace startup blue origin has successfully launched and landed 10th test flight of its reusable new shepard rocket on wednesday the rocket reached its peak height of around 106 kilometres just above kã\\x83â¡rmã\\x83â¡n line which is commonly agreed upon as the boundary between earth atmosphere and space the rocket also carried around eight nasa experiments.',\n",
       " 'egypt antiquities ministry on wednesday said archaeologists have uncovered ancient tombs dating back to the second intermediate period 1782-1570 bc in the nile delta about 20 burial sites dating back to the predynastic period were also found about 140 kilometres north of cairo the tombs contain ancient animal remains stone artefacts and pottery fragments with drawings the ministry revealed.',\n",
       " 'researchers in sweden lund university have created camera that shows how birds see colours in the surroundings unlike human colour vision which is based on three primary colours bird colour vision contains fourth primary colour called ultraviolet the camera equipped with rotating filter wheels imitates colour sensitivity in the four different types of cones in bird retinas.',\n",
       " 'the us federal bureau of investigation is not able to pay its informants and risks losing them and the information they provide amid the ongoing partial us government shutdown an fbi agents association fbiaa report said officials are also not able to afford their travel to interview witnesses pay translators or buy drugs undercover in anti-narcotics operations the report added.',\n",
       " 'australian mp bob katter has been criticised for calling homosexuality fashion trend while on campaign trail in queensland ahead of the upcoming federal election in my whole life up to 50 had never seen or heard of homosexual person 73-year-old katter said he also called anti-bullying campaigns in schools pro-homosexual .',\n",
       " 'canada ambassador to china john mccallum has said that huawei cfo meng wanzhou has good arguments on her side against being extradited to the us this included the political involvement by comments from donald trump in her case he added meng was detained on december in canada vancouver where she is currently under house arrest ',\n",
       " 'the supreme court on wednesday refused bail to unitech promoters sanjay chandra and ajay chandra in case relating to alleged siphoning of homebuyers money the apex court said they haven complied with its october 30 2017 order to deposit ã¢â\\x82â¹750 crore with its registry the brothers have been lodged in tihar jail for over 18 months.',\n",
       " 'the guinness world records has responded to an irish man named michael who attempted to set world record by memorising the value of pi to only two decimal places your claim to have memorized pi to two decimal places falls some distance short of the current record guinness said furthermore pi is not equal to 3.11 guinness added.',\n",
       " 'piyush goyal union minister of railways and coal has been temporarily given the additional charge of the ministry of finance and corporate affairs held by arun jaitley days before the interim budget during the period of jaitley indisposition goyal will hold these portfolios in addition to his existing portfolios jaitley will be designated as minister without portfolio until his indisposition.',\n",
       " 'television reality show bigg boss 11 winner shilpa shinde deleted her twitter account and said social media is brutal place my fans are extremely possessive about me when there are negative comments about me or people troll me my feed flooded by fan messages she said m least bothered by haters but my fans go reckless about it she added ',\n",
       " 'uk two-time olympic gold medal-winning cyclist victoria pendleton has revealed she considered committing suicide last summer the 38-year-old who was diagnosed with severe depression after returning home from an aborted charity climb of mount everest said d accumulated one-and-half times dose of drugs to kill myself she added there were times when she didn want to see tomorrow .',\n",
       " 'the family of netaji subhas chandra bose has presented cap worn by the leader to prime minister narendra modi pm modi who inaugurated the subhas chandra bose museum at red fort to mark the leader 122nd birth anniversary said the cap will be displayed at kranti mandir hope more youngsters get inspired by netaji bose life pm tweeted ',\n",
       " 'railway minister piyush goyal on wednesday announced 2.3 lakh additional vacancies that will be filled over the next two years the new 10% quota for the economically weaker sections ews in the general category will be applicable for these vacancies the recruitment drive will be carried out in two phases.',\n",
       " 'pakistan jailed former prime minister nawaz sharif condition is very serious following heart complications and he should be shifted to hospital without any delay his cardiologist adnan khan said on wednesday the punjab institute of cardiology had on tuesday said that sharif heart is bigger than normal citing his echocardiogram report sharif also has hypertension and diabetes ',\n",
       " 'chinese model zuo ye who featured in dolce gabbana ad campaign accused of racism has said the controversy almost ruined her career three videos released by the italian brand showed zuo struggling to eat italian food with chopsticks received many threats online myself my agent and my family got harassed through phone calls and emails she said.',\n",
       " 'a 49-year-old uk woman named pascale sellick says she is in love with her duvet soft quilt filled with feathers or synthetic fibre and wants to marry it on february 10 sellick says that it the longest strongest most intimate and reliable relationship she has ever had the wedding dress code is dressing gowns pyjamas onesies and slippers ',\n",
       " 'the congress has said that it struggling to find enough helicopters to ferry its leaders for lok sabha election campaigning most of them have been cornered by the bjp because they have massive resources and money at their disposal they ve pre-booked most of the fleets congress leader anand sharma alleged denying the charge bjp called congress machine of lies .',\n",
       " 'aamir khan screened his upcoming short film rubaru roshni for art of living founder sri sri ravi shankar in bengaluru sharing picture with sri sri aamir wrote always bringing joy and laughter into our lives thank you guruji for your love warmth and wisdom the film directed by svati chakravarty bhatkal will release on january 26.',\n",
       " 'amrita rao who plays bal thackeray wife meena thackeray in the upcoming biopic thackeray said it was an honour for her to portray the shiv sena founder wife in the film when you re playing real character there are people associated emotionally with it so it comes with baggage and responsibility she added thackeray is set to release on january 25 ',\n",
       " 'kangana ranaut who was threatened by the karni sena for voicing her dissent against them said she won apologise as she hasn done anything wrong earlier kangana had responded to the karni sena threats against her film manikarnika the queen of jhansi and had said she would destroy each of them kangana further said the film doesn show anything offensive .',\n",
       " 'sharing picture with us talk show host jimmy fallon anupam kher wrote when you meet someone whose work you admire says he a fan of your work it a wonderful and humbling feeling thank you dear jimmy fallon for your warmth appreciation and generosity anupam added the actor met jimmy in new york while shooting for his show new amsterdam ',\n",
       " 'an erotic drawing by late rapper tupac shakur was sold at an auction for $21 155.75 over ã¢â\\x82â¹15 lakh as per reports the artwork was reportedly part of love letter to his then-girlfriend desiree which he sent while serving prison sentence for sexual abuse in 1995 the drawing was bought by man in his 60s reports said.',\n",
       " ...]"
      ]
     },
     "execution_count": 19,
     "metadata": {},
     "output_type": "execute_result"
    }
   ],
   "source": [
    "# Process text as batches and yield Doc objects in order\n",
    "text = [str(doc) for doc in nlp.pipe(processed_text, batch_size=1500)]\n",
    "text"
   ]
  },
  {
   "cell_type": "code",
   "execution_count": 20,
   "metadata": {
    "colab": {
     "base_uri": "https://localhost:8080/",
     "height": 70
    },
    "id": "LVoovXjNEaW_",
    "outputId": "cb17b3ba-9b8b-474a-9cba-4b9eec0e9e60"
   },
   "outputs": [
    {
     "data": {
      "text/plain": [
       "'saurav kant an alumnus of upgrad and iiit-b pg program in machine learning and artificial intelligence was sr systems engineer at infosys with almost years of work experience the program and upgrad 360-degree career support helped him transition to data scientist at tech mahindra with 90% salary hike upgrad online power learning has powered lakh+ careers.'"
      ]
     },
     "execution_count": 20,
     "metadata": {},
     "output_type": "execute_result"
    }
   ],
   "source": [
    "text[0]"
   ]
  },
  {
   "cell_type": "code",
   "execution_count": null,
   "metadata": {
    "colab": {
     "base_uri": "https://localhost:8080/"
    },
    "id": "CNJTxMNnEaVA",
    "outputId": "bb4d5580-83fe-4140-b211-3d1785799372"
   },
   "outputs": [],
   "source": [
    "# Process text as batches and yield Doc objects in order   (__START__ | __END__)\n",
    "summary = ['_START_ '+ str(doc) + ' _END_' for doc in nlp.pipe(processed_summary, batch_size=1500)]\n",
    "summary"
   ]
  },
  {
   "cell_type": "code",
   "execution_count": 22,
   "metadata": {
    "colab": {
     "base_uri": "https://localhost:8080/",
     "height": 35
    },
    "id": "0xCjoruGEaTD",
    "outputId": "ba85265e-fb28-4c10-96fe-ccced74af2a2"
   },
   "outputs": [
    {
     "data": {
      "text/plain": [
       "'_START_ upgrad learner switches to career in ml al with 90% salary hike _END_'"
      ]
     },
     "execution_count": 22,
     "metadata": {},
     "output_type": "execute_result"
    }
   ],
   "source": [
    "summary[0]"
   ]
  },
  {
   "cell_type": "code",
   "execution_count": 23,
   "metadata": {
    "id": "7J-TSNjPEaRR"
   },
   "outputs": [],
   "source": [
    "## Step 3 --> Determining the Maximum Permissible Sequence Lengths"
   ]
  },
  {
   "cell_type": "code",
   "execution_count": 24,
   "metadata": {
    "colab": {
     "base_uri": "https://localhost:8080/"
    },
    "id": "NS993qKtEaN_",
    "outputId": "15b5d52e-97df-4bef-f581-f52bc2e632e7"
   },
   "outputs": [
    {
     "data": {
      "text/plain": [
       "0         saurav kant an alumnus of upgrad and iiit-b pg...\n",
       "1         kunal shah credit card bill payment platform c...\n",
       "2         new zealand defeated india by wickets in the f...\n",
       "3         with aegon life iterm insurance plan customers...\n",
       "4         speaking about the sexual harassment allegatio...\n",
       "                                ...                        \n",
       "102912    mansha mahajan 24 feb 2017 friday indiatoday.i...\n",
       "102913    dishant sharma 03 aug 2017 thursday indiatoday...\n",
       "102914    tanya dhingra 03 aug 2017 thursday www.hindust...\n",
       "102915    pragya swastik 07 dec 2016 wednesday indiatoda...\n",
       "102916    chhavi tyagi 03 aug 2017 thursday indiatoday.i...\n",
       "Name: cleaned_text, Length: 102917, dtype: object"
      ]
     },
     "execution_count": 24,
     "metadata": {},
     "output_type": "execute_result"
    }
   ],
   "source": [
    "pre['cleaned_text']    = pd.Series(text)\n",
    "pre['cleaned_text']"
   ]
  },
  {
   "cell_type": "code",
   "execution_count": 25,
   "metadata": {
    "colab": {
     "base_uri": "https://localhost:8080/"
    },
    "id": "F9eL_9gjEaL2",
    "outputId": "2d76a045-2e43-4e56-f1c3-f9a7c69f3880"
   },
   "outputs": [
    {
     "data": {
      "text/plain": [
       "0         _START_ upgrad learner switches to career in m...\n",
       "1         _START_ delhi techie wins free food from swigg...\n",
       "2         _START_ new zealand end rohit sharma-led india...\n",
       "3         _START_ aegon life iterm insurance plan helps ...\n",
       "4         _START_ have known hirani for yrs what if meto...\n",
       "                                ...                        \n",
       "102912    _START_ rasna seeking 250 cr revenue from snac...\n",
       "102913    _START_ sachin attends rajya sabha after quest...\n",
       "102914    _START_ shouldn rob their childhood aamir on k...\n",
       "102915    _START_ asha bhosle gets 53 000 power bill for...\n",
       "102916    _START_ more than half of india languages may ...\n",
       "Name: cleaned_summary, Length: 102917, dtype: object"
      ]
     },
     "execution_count": 25,
     "metadata": {},
     "output_type": "execute_result"
    }
   ],
   "source": [
    "pre['cleaned_summary'] = pd.Series(summary)\n",
    "pre['cleaned_summary']"
   ]
  },
  {
   "cell_type": "code",
   "execution_count": 26,
   "metadata": {
    "id": "6Pv45flVEaI2"
   },
   "outputs": [],
   "source": [
    "#Plot a graph to determine the frequency ranges tied to the lengths of text and summary, i.e., \n",
    "#determine the range of length of words where the maximum number of texts and summaries fall into."
   ]
  },
  {
   "cell_type": "code",
   "execution_count": 27,
   "metadata": {
    "colab": {
     "base_uri": "https://localhost:8080/",
     "height": 281
    },
    "id": "DVHZxapDEaE5",
    "outputId": "2b17f2a3-cdab-4706-8cf3-cd15e3b0eaa4"
   },
   "outputs": [
    {
     "data": {
      "image/png": "[encoded data removed]",
      "text/plain": [
       "<Figure size 432x288 with 2 Axes>"
      ]
     },
     "metadata": {
      "needs_background": "light"
     },
     "output_type": "display_data"
    }
   ],
   "source": [
    "import matplotlib.pyplot as plt\n",
    "\n",
    "text_count = []\n",
    "summary_count = []\n",
    "\n",
    "for sent in pre['cleaned_text']:\n",
    "    text_count.append(len(sent.split()))\n",
    "    \n",
    "for sent in pre['cleaned_summary']:\n",
    "    summary_count.append(len(sent.split()))\n",
    "\n",
    "graph_df = pd.DataFrame() \n",
    "\n",
    "graph_df['text'] = text_count\n",
    "graph_df['summary'] = summary_count\n",
    "\n",
    "graph_df.hist(bins = 5)\n",
    "plt.show()"
   ]
  },
  {
   "cell_type": "code",
   "execution_count": 28,
   "metadata": {
    "colab": {
     "base_uri": "https://localhost:8080/"
    },
    "id": "ZWnVchdDEaCu",
    "outputId": "d06205e0-196f-455e-a176-2e695e18911c"
   },
   "outputs": [
    {
     "data": {
      "text/plain": [
       "0         saurav kant an alumnus of upgrad and iiit-b pg...\n",
       "1         kunal shah credit card bill payment platform c...\n",
       "2         new zealand defeated india by wickets in the f...\n",
       "3         with aegon life iterm insurance plan customers...\n",
       "4         speaking about the sexual harassment allegatio...\n",
       "                                ...                        \n",
       "102912    mansha mahajan 24 feb 2017 friday indiatoday.i...\n",
       "102913    dishant sharma 03 aug 2017 thursday indiatoday...\n",
       "102914    tanya dhingra 03 aug 2017 thursday www.hindust...\n",
       "102915    pragya swastik 07 dec 2016 wednesday indiatoda...\n",
       "102916    chhavi tyagi 03 aug 2017 thursday indiatoday.i...\n",
       "Name: cleaned_text, Length: 102917, dtype: object"
      ]
     },
     "execution_count": 28,
     "metadata": {},
     "output_type": "execute_result"
    }
   ],
   "source": [
    "pre['cleaned_text']"
   ]
  },
  {
   "cell_type": "code",
   "execution_count": 29,
   "metadata": {
    "colab": {
     "base_uri": "https://localhost:8080/"
    },
    "id": "jvzyUgitEaAY",
    "outputId": "392c9898-deaa-4ebf-a4c5-8409f9b9a1bb"
   },
   "outputs": [
    {
     "name": "stdout",
     "output_type": "stream",
     "text": [
      "0.9578300960968548\n"
     ]
    }
   ],
   "source": [
    "# Check how much % of text have 0-100 words\n",
    "cnt = 0\n",
    "for i in pre['cleaned_text']:\n",
    "    if len(i.split()) <= 100:\n",
    "        cnt = cnt + 1\n",
    "print(cnt / len(pre['cleaned_text']))"
   ]
  },
  {
   "cell_type": "code",
   "execution_count": 30,
   "metadata": {
    "id": "M8IYSCciEZ-F"
   },
   "outputs": [],
   "source": [
    "# Model to summarize the text between 0-15 words for Summary and 0-100 words for Text\n",
    "max_text_len    = 100\n",
    "max_summary_len = 15"
   ]
  },
  {
   "cell_type": "code",
   "execution_count": 31,
   "metadata": {
    "id": "fTJsKX9aEZ8F"
   },
   "outputs": [],
   "source": [
    "# Select the Summaries and Text which fall below max length "
   ]
  },
  {
   "cell_type": "code",
   "execution_count": 32,
   "metadata": {
    "colab": {
     "base_uri": "https://localhost:8080/",
     "height": 112
    },
    "id": "1iIAbDz5EZ6R",
    "outputId": "a172c0da-52ac-4547-b404-7c5bce200967"
   },
   "outputs": [
    {
     "data": {
      "text/html": [
       "<div>\n",
       "<style scoped>\n",
       "    .dataframe tbody tr th:only-of-type {\n",
       "        vertical-align: middle;\n",
       "    }\n",
       "\n",
       "    .dataframe tbody tr th {\n",
       "        vertical-align: top;\n",
       "    }\n",
       "\n",
       "    .dataframe thead th {\n",
       "        text-align: right;\n",
       "    }\n",
       "</style>\n",
       "<table border=\"1\" class=\"dataframe\">\n",
       "  <thead>\n",
       "    <tr style=\"text-align: right;\">\n",
       "      <th></th>\n",
       "      <th>text</th>\n",
       "      <th>summary</th>\n",
       "    </tr>\n",
       "  </thead>\n",
       "  <tbody>\n",
       "    <tr>\n",
       "      <th>0</th>\n",
       "      <td>saurav kant an alumnus of upgrad and iiit-b pg...</td>\n",
       "      <td>_START_ upgrad learner switches to career in m...</td>\n",
       "    </tr>\n",
       "    <tr>\n",
       "      <th>1</th>\n",
       "      <td>kunal shah credit card bill payment platform c...</td>\n",
       "      <td>_START_ delhi techie wins free food from swigg...</td>\n",
       "    </tr>\n",
       "  </tbody>\n",
       "</table>\n",
       "</div>"
      ],
      "text/plain": [
       "                                                text  \\\n",
       "0  saurav kant an alumnus of upgrad and iiit-b pg...   \n",
       "1  kunal shah credit card bill payment platform c...   \n",
       "\n",
       "                                             summary  \n",
       "0  _START_ upgrad learner switches to career in m...  \n",
       "1  _START_ delhi techie wins free food from swigg...  "
      ]
     },
     "execution_count": 32,
     "metadata": {},
     "output_type": "execute_result"
    }
   ],
   "source": [
    "\n",
    "import numpy as np\n",
    "\n",
    "cleaned_text = np.array(pre['cleaned_text'])\n",
    "cleaned_summary= np.array(pre['cleaned_summary'])\n",
    "\n",
    "short_text = []\n",
    "short_summary = []\n",
    "\n",
    "for i in range(len(cleaned_text)):\n",
    "    if len(cleaned_summary[i].split()) <= max_summary_len and len(cleaned_text[i].split()) <= max_text_len:\n",
    "        short_text.append(cleaned_text[i])\n",
    "        short_summary.append(cleaned_summary[i])\n",
    "        \n",
    "post_pre = pd.DataFrame({'text': short_text,'summary': short_summary})\n",
    "\n",
    "post_pre.head(2)"
   ]
  },
  {
   "cell_type": "markdown",
   "metadata": {
    "id": "7LJ4L8PIF-kN"
   },
   "source": [
    "# Add sostok and eostok"
   ]
  },
  {
   "cell_type": "code",
   "execution_count": 33,
   "metadata": {
    "colab": {
     "base_uri": "https://localhost:8080/",
     "height": 112
    },
    "id": "AkRKeuh_EZ4J",
    "outputId": "523f424a-85d5-420a-c27f-44badb0010ee"
   },
   "outputs": [
    {
     "data": {
      "text/html": [
       "<div>\n",
       "<style scoped>\n",
       "    .dataframe tbody tr th:only-of-type {\n",
       "        vertical-align: middle;\n",
       "    }\n",
       "\n",
       "    .dataframe tbody tr th {\n",
       "        vertical-align: top;\n",
       "    }\n",
       "\n",
       "    .dataframe thead th {\n",
       "        text-align: right;\n",
       "    }\n",
       "</style>\n",
       "<table border=\"1\" class=\"dataframe\">\n",
       "  <thead>\n",
       "    <tr style=\"text-align: right;\">\n",
       "      <th></th>\n",
       "      <th>text</th>\n",
       "      <th>summary</th>\n",
       "    </tr>\n",
       "  </thead>\n",
       "  <tbody>\n",
       "    <tr>\n",
       "      <th>0</th>\n",
       "      <td>saurav kant an alumnus of upgrad and iiit-b pg...</td>\n",
       "      <td>sostok _START_ upgrad learner switches to care...</td>\n",
       "    </tr>\n",
       "    <tr>\n",
       "      <th>1</th>\n",
       "      <td>kunal shah credit card bill payment platform c...</td>\n",
       "      <td>sostok _START_ delhi techie wins free food fro...</td>\n",
       "    </tr>\n",
       "  </tbody>\n",
       "</table>\n",
       "</div>"
      ],
      "text/plain": [
       "                                                text  \\\n",
       "0  saurav kant an alumnus of upgrad and iiit-b pg...   \n",
       "1  kunal shah credit card bill payment platform c...   \n",
       "\n",
       "                                             summary  \n",
       "0  sostok _START_ upgrad learner switches to care...  \n",
       "1  sostok _START_ delhi techie wins free food fro...  "
      ]
     },
     "execution_count": 33,
     "metadata": {},
     "output_type": "execute_result"
    }
   ],
   "source": [
    "post_pre['summary'] = post_pre['summary'].apply(lambda x: 'sostok ' + x \\\n",
    "        + ' eostok')\n",
    "\n",
    "post_pre.head(2)"
   ]
  },
  {
   "cell_type": "markdown",
   "metadata": {
    "id": "NJDpzk0AGJhK"
   },
   "source": [
    "Tokenizing text"
   ]
  },
  {
   "cell_type": "code",
   "execution_count": 34,
   "metadata": {
    "id": "-W4xMvqjEZ0O"
   },
   "outputs": [],
   "source": [
    "from sklearn.model_selection import train_test_split\n",
    "\n",
    "x_tr, x_val, y_tr, y_val = train_test_split(\n",
    "    np.array(post_pre[\"text\"]),\n",
    "    np.array(post_pre[\"summary\"]),\n",
    "    test_size=0.1,\n",
    "    random_state=0,\n",
    "    shuffle=True,\n",
    ")"
   ]
  },
  {
   "cell_type": "code",
   "execution_count": 35,
   "metadata": {
    "id": "VgIq63kCEZyf"
   },
   "outputs": [],
   "source": [
    "# Tokenize the text to get the vocab count \n",
    "from tensorflow.keras.preprocessing.text import Tokenizer \n",
    "from tensorflow.keras.preprocessing.sequence import pad_sequences\n",
    "\n",
    "# Prepare a tokenizer on training data\n",
    "x_tokenizer = Tokenizer() \n",
    "x_tokenizer.fit_on_texts(list(x_tr))"
   ]
  },
  {
   "cell_type": "code",
   "execution_count": 36,
   "metadata": {
    "colab": {
     "base_uri": "https://localhost:8080/"
    },
    "id": "7TFivFswEZvS",
    "outputId": "2ae3c8d9-b09b-4f46-89f3-5724da106689"
   },
   "outputs": [
    {
     "name": "stdout",
     "output_type": "stream",
     "text": [
      "% of rare words in vocabulary:  62.646061538073695\n"
     ]
    }
   ],
   "source": [
    "thresh = 5\n",
    "\n",
    "cnt = 0\n",
    "tot_cnt = 0\n",
    "\n",
    "for key, value in x_tokenizer.word_counts.items():\n",
    "    tot_cnt = tot_cnt + 1\n",
    "    if value < thresh:\n",
    "        cnt = cnt + 1\n",
    "    \n",
    "print(\"% of rare words in vocabulary: \", (cnt / tot_cnt) * 100)"
   ]
  },
  {
   "cell_type": "code",
   "execution_count": 37,
   "metadata": {
    "colab": {
     "base_uri": "https://localhost:8080/"
    },
    "id": "o4XXWZYgEZtW",
    "outputId": "d5237b7f-42e5-46b5-c8f1-f2b15054d1e9"
   },
   "outputs": [
    {
     "name": "stdout",
     "output_type": "stream",
     "text": [
      "Size of vocabulary in X = 29635\n"
     ]
    }
   ],
   "source": [
    "# Prepare a tokenizer, again -- by not considering the rare words\n",
    "x_tokenizer = Tokenizer(num_words = tot_cnt - cnt) \n",
    "x_tokenizer.fit_on_texts(list(x_tr))\n",
    "\n",
    "# Convert text sequences to integer sequences \n",
    "x_tr_seq = x_tokenizer.texts_to_sequences(x_tr) \n",
    "x_val_seq = x_tokenizer.texts_to_sequences(x_val)\n",
    "\n",
    "# Pad zero upto maximum length\n",
    "x_tr = pad_sequences(x_tr_seq,  maxlen=max_text_len, padding='post')\n",
    "x_val = pad_sequences(x_val_seq, maxlen=max_text_len, padding='post')\n",
    "\n",
    "# Size of vocabulary (+1 for padding token)\n",
    "x_voc = x_tokenizer.num_words + 1\n",
    "\n",
    "print(\"Size of vocabulary in X = {}\".format(x_voc))"
   ]
  },
  {
   "cell_type": "markdown",
   "metadata": {
    "id": "BY2P3YNBLXWM"
   },
   "source": [
    "Prepare tokenizer on testing data"
   ]
  },
  {
   "cell_type": "code",
   "execution_count": 38,
   "metadata": {
    "colab": {
     "base_uri": "https://localhost:8080/"
    },
    "id": "E0hQONEeEZqx",
    "outputId": "1a06d5c0-d8fe-461b-c602-e4621f9c090b"
   },
   "outputs": [
    {
     "name": "stdout",
     "output_type": "stream",
     "text": [
      "% of rare words in vocabulary: 62.55265986809611\n",
      "Size of vocabulary in Y = 12890\n"
     ]
    }
   ],
   "source": [
    "y_tokenizer = Tokenizer()   \n",
    "y_tokenizer.fit_on_texts(list(y_tr))\n",
    "\n",
    "thresh = 5\n",
    "\n",
    "cnt = 0\n",
    "tot_cnt = 0\n",
    "\n",
    "for key, value in y_tokenizer.word_counts.items():\n",
    "    tot_cnt = tot_cnt + 1\n",
    "    if value < thresh:\n",
    "        cnt = cnt + 1\n",
    "    \n",
    "print(\"% of rare words in vocabulary:\",(cnt / tot_cnt) * 100)\n",
    "\n",
    "# Prepare a tokenizer, again -- by not considering the rare words\n",
    "y_tokenizer = Tokenizer(num_words=tot_cnt-cnt) \n",
    "y_tokenizer.fit_on_texts(list(y_tr))\n",
    "\n",
    "# Convert text sequences to integer sequences \n",
    "y_tr_seq = y_tokenizer.texts_to_sequences(y_tr) \n",
    "y_val_seq = y_tokenizer.texts_to_sequences(y_val) \n",
    "\n",
    "# Pad zero upto maximum length\n",
    "y_tr = pad_sequences(y_tr_seq, maxlen=max_summary_len, padding='post')\n",
    "y_val = pad_sequences(y_val_seq, maxlen=max_summary_len, padding='post')\n",
    "\n",
    "# Size of vocabulary (+1 for padding token)\n",
    "y_voc = y_tokenizer.num_words + 1\n",
    "\n",
    "print(\"Size of vocabulary in Y = {}\".format(y_voc))"
   ]
  },
  {
   "cell_type": "markdown",
   "metadata": {
    "id": "ejtbOg5RLmyI"
   },
   "source": [
    "### **Removing Empty Texts and Summaries**"
   ]
  },
  {
   "cell_type": "code",
   "execution_count": 39,
   "metadata": {
    "id": "hBOHIXZfLl8f"
   },
   "outputs": [],
   "source": [
    "# Remove empty Summaries, .i.e, which only have 'START' and 'END' tokens\n",
    "ind = []\n",
    "\n",
    "for i in range(len(y_tr)):\n",
    "    cnt = 0\n",
    "    for j in y_tr[i]:\n",
    "        if j != 0:\n",
    "            cnt = cnt + 1\n",
    "    if cnt == 2:\n",
    "        ind.append(i)\n",
    "\n",
    "y_tr = np.delete(y_tr, ind, axis=0)\n",
    "x_tr = np.delete(x_tr, ind, axis=0)"
   ]
  },
  {
   "cell_type": "markdown",
   "metadata": {
    "id": "gL3YKSLgL3Lb"
   },
   "source": [
    "Repeat same for validation data also"
   ]
  },
  {
   "cell_type": "code",
   "execution_count": 40,
   "metadata": {
    "id": "QySA2EA5Ll4A"
   },
   "outputs": [],
   "source": [
    "# Remove empty Summaries, .i.e, which only have 'START' and 'END' tokens\n",
    "ind = []\n",
    "for i in range(len(y_val)):\n",
    "    cnt = 0\n",
    "    for j in y_val[i]:\n",
    "        if j != 0:\n",
    "            cnt = cnt + 1\n",
    "    if cnt == 2:\n",
    "        ind.append(i)\n",
    "\n",
    "y_val = np.delete(y_val, ind, axis=0)\n",
    "x_val = np.delete(x_val, ind, axis=0)"
   ]
  },
  {
   "cell_type": "markdown",
   "metadata": {
    "id": "4i4iXQm0MAJJ"
   },
   "source": [
    "## **MODEL BUILDING**"
   ]
  },
  {
   "cell_type": "code",
   "execution_count": 41,
   "metadata": {
    "id": "-lZtg-knLlz8"
   },
   "outputs": [],
   "source": [
    "from tensorflow.keras.preprocessing.text import Tokenizer\n",
    "from tensorflow.keras.preprocessing.sequence import pad_sequences\n",
    "from tensorflow.keras.layers import Input, LSTM, Embedding, Dense, \\\n",
    "    Concatenate, TimeDistributed\n",
    "from tensorflow.keras.models import Model\n",
    "from tensorflow.keras.callbacks import EarlyStopping"
   ]
  },
  {
   "cell_type": "code",
   "execution_count": 42,
   "metadata": {
    "colab": {
     "base_uri": "https://localhost:8080/"
    },
    "id": "ruQg2MpHLlwL",
    "outputId": "783a8cf5-c90e-4294-95ff-aaf876f96fab"
   },
   "outputs": [
    {
     "name": "stdout",
     "output_type": "stream",
     "text": [
      "Model: \"model\"\n",
      "__________________________________________________________________________________________________\n",
      " Layer (type)                   Output Shape         Param #     Connected to                     \n",
      "==================================================================================================\n",
      " input_1 (InputLayer)           [(None, 100)]        0           []                               \n",
      "                                                                                                  \n",
      " embedding (Embedding)          (None, 100, 200)     5927000     ['input_1[0][0]']                \n",
      "                                                                                                  \n",
      " lstm (LSTM)                    [(None, 100, 300),   601200      ['embedding[0][0]']              \n",
      "                                 (None, 300),                                                     \n",
      "                                 (None, 300)]                                                     \n",
      "                                                                                                  \n",
      " input_2 (InputLayer)           [(None, None)]       0           []                               \n",
      "                                                                                                  \n",
      " lstm_1 (LSTM)                  [(None, 100, 300),   721200      ['lstm[0][0]']                   \n",
      "                                 (None, 300),                                                     \n",
      "                                 (None, 300)]                                                     \n",
      "                                                                                                  \n",
      " embedding_1 (Embedding)        (None, None, 200)    2578000     ['input_2[0][0]']                \n",
      "                                                                                                  \n",
      " lstm_2 (LSTM)                  [(None, 100, 300),   721200      ['lstm_1[0][0]']                 \n",
      "                                 (None, 300),                                                     \n",
      "                                 (None, 300)]                                                     \n",
      "                                                                                                  \n",
      " lstm_3 (LSTM)                  [(None, None, 300),  601200      ['embedding_1[0][0]',            \n",
      "                                 (None, 300),                     'lstm_2[0][1]',                 \n",
      "                                 (None, 300)]                     'lstm_2[0][2]']                 \n",
      "                                                                                                  \n",
      " time_distributed (TimeDistribu  (None, None, 12890)  3879890    ['lstm_3[0][0]']                 \n",
      " ted)                                                                                             \n",
      "                                                                                                  \n",
      "==================================================================================================\n",
      "Total params: 15,029,690\n",
      "Trainable params: 15,029,690\n",
      "Non-trainable params: 0\n",
      "__________________________________________________________________________________________________\n"
     ]
    }
   ],
   "source": [
    "latent_dim = 300\n",
    "embedding_dim = 200\n",
    "\n",
    "# Encoder\n",
    "encoder_inputs = Input(shape=(max_text_len, ))\n",
    "\n",
    "# Embedding layer\n",
    "enc_emb = Embedding(x_voc, embedding_dim,\n",
    "                    trainable=True)(encoder_inputs)\n",
    "\n",
    "# Encoder LSTM 1\n",
    "encoder_lstm1 = LSTM(latent_dim, return_sequences=True,\n",
    "                     return_state=True, dropout=0.4,\n",
    "                     recurrent_dropout=0.4)\n",
    "(encoder_output1, state_h1, state_c1) = encoder_lstm1(enc_emb)\n",
    "\n",
    "# Encoder LSTM 2\n",
    "encoder_lstm2 = LSTM(latent_dim, return_sequences=True,\n",
    "                     return_state=True, dropout=0.4,\n",
    "                     recurrent_dropout=0.4)\n",
    "(encoder_output2, state_h2, state_c2) = encoder_lstm2(encoder_output1)\n",
    "\n",
    "# Encoder LSTM 3\n",
    "encoder_lstm3 = LSTM(latent_dim, return_state=True,\n",
    "                     return_sequences=True, dropout=0.4,\n",
    "                     recurrent_dropout=0.4)\n",
    "(encoder_outputs, state_h, state_c) = encoder_lstm3(encoder_output2)\n",
    "\n",
    "# Set up the decoder, using encoder_states as the initial state\n",
    "decoder_inputs = Input(shape=(None, ))\n",
    "\n",
    "# Embedding layer\n",
    "dec_emb_layer = Embedding(y_voc, embedding_dim, trainable=True)\n",
    "dec_emb = dec_emb_layer(decoder_inputs)\n",
    "\n",
    "# Decoder LSTM\n",
    "decoder_lstm = LSTM(latent_dim, return_sequences=True,\n",
    "                    return_state=True, dropout=0.4,\n",
    "                    recurrent_dropout=0.2)\n",
    "(decoder_outputs, decoder_fwd_state, decoder_back_state) = \\\n",
    "    decoder_lstm(dec_emb, initial_state=[state_h, state_c])\n",
    "\n",
    "# Dense layer\n",
    "decoder_dense = TimeDistributed(Dense(y_voc, activation='softmax'))\n",
    "decoder_outputs = decoder_dense(decoder_outputs)\n",
    "\n",
    "# Define the model\n",
    "model = Model([encoder_inputs, decoder_inputs], decoder_outputs)\n",
    "\n",
    "model.summary()\n"
   ]
  },
  {
   "cell_type": "markdown",
   "metadata": {
    "id": "zuB5GczLMfPq"
   },
   "source": [
    "## **MODEL TRAINING**"
   ]
  },
  {
   "cell_type": "code",
   "execution_count": 43,
   "metadata": {
    "id": "EMqHP8ojLlqJ"
   },
   "outputs": [],
   "source": [
    "model.compile(optimizer='rmsprop', loss='sparse_categorical_crossentropy')\n",
    "\n",
    "es = EarlyStopping(monitor='val_loss', mode='min', verbose=1, patience=2)"
   ]
  },
  {
   "cell_type": "code",
   "execution_count": null,
   "metadata": {
    "colab": {
     "base_uri": "https://localhost:8080/"
    },
    "id": "CGg-jjUMLlm3",
    "outputId": "381914c6-5239-403c-ad33-26065b2931ba"
   },
   "outputs": [
    {
     "name": "stdout",
     "output_type": "stream",
     "text": [
      "Epoch 1/50\n",
      " 96/692 [===>..........................] - ETA: 2:38:41 - loss: 5.9807"
     ]
    }
   ],
   "source": [
    "history = model.fit(\n",
    "    [x_tr, y_tr[:, :-1]],\n",
    "    y_tr.reshape(y_tr.shape[0], y_tr.shape[1], 1)[:, 1:],\n",
    "    epochs=50,\n",
    "    callbacks=[es],\n",
    "    batch_size=128,\n",
    "    validation_data=([x_val, y_val[:, :-1]],\n",
    "                     y_val.reshape(y_val.shape[0], y_val.shape[1], 1)[:\n",
    "                     , 1:]),\n",
    "    )"
   ]
  },
  {
   "cell_type": "markdown",
   "metadata": {
    "id": "XGYuCnXJNErB"
   },
   "source": [
    "## **Plotting the training and validation loss metrics observed during the training phase**"
   ]
  },
  {
   "cell_type": "code",
   "execution_count": null,
   "metadata": {
    "id": "tcwXMqAvLlkN"
   },
   "outputs": [],
   "source": [
    "from matplotlib import pyplot\n",
    "\n",
    "pyplot.plot(history.history['loss'], label='train')\n",
    "pyplot.plot(history.history['val_loss'], label='test')\n",
    "pyplot.legend()\n",
    "pyplot.show()"
   ]
  },
  {
   "cell_type": "markdown",
   "metadata": {
    "id": "iJ7nF3b_NNFk"
   },
   "source": [
    "# Generating Predictions"
   ]
  },
  {
   "cell_type": "code",
   "execution_count": null,
   "metadata": {
    "id": "oHS4pxznLlhg"
   },
   "outputs": [],
   "source": [
    "reverse_target_word_index = y_tokenizer.index_word\n",
    "reverse_source_word_index = x_tokenizer.index_word\n",
    "target_word_index = y_tokenizer.word_index\n"
   ]
  },
  {
   "cell_type": "markdown",
   "metadata": {
    "id": "3ManWqVGNVBQ"
   },
   "source": [
    "# Inference models"
   ]
  },
  {
   "cell_type": "code",
   "execution_count": null,
   "metadata": {
    "id": "NHatdB7sNS0B"
   },
   "outputs": [],
   "source": [
    "# Inference Models\n",
    "\n",
    "# Encode the input sequence to get the feature vector\n",
    "encoder_model = Model(inputs=encoder_inputs, outputs=[encoder_outputs,\n",
    "                      state_h, state_c])\n",
    "\n",
    "# Decoder setup\n",
    "\n",
    "# Below tensors will hold the states of the previous time step\n",
    "decoder_state_input_h = Input(shape=(latent_dim, ))\n",
    "decoder_state_input_c = Input(shape=(latent_dim, ))\n",
    "decoder_hidden_state_input = Input(shape=(max_text_len, latent_dim))\n",
    "\n",
    "# Get the embeddings of the decoder sequence\n",
    "dec_emb2 = dec_emb_layer(decoder_inputs)\n",
    "\n",
    "# To predict the next word in the sequence, set the initial states to the states from the previous time step\n",
    "(decoder_outputs2, state_h2, state_c2) = decoder_lstm(dec_emb2,\n",
    "        initial_state=[decoder_state_input_h, decoder_state_input_c])\n",
    "\n",
    "# A dense softmax layer to generate prob dist. over the target vocabulary\n",
    "decoder_outputs2 = decoder_dense(decoder_outputs2)\n",
    "\n",
    "# Final decoder model\n",
    "decoder_model = Model([decoder_inputs] + [decoder_hidden_state_input,\n",
    "                      decoder_state_input_h, decoder_state_input_c],\n",
    "                      [decoder_outputs2] + [state_h2, state_c2])"
   ]
  },
  {
   "cell_type": "markdown",
   "metadata": {
    "id": "QvSSdtXFNdSS"
   },
   "source": [
    "## **Decode sequence**"
   ]
  },
  {
   "cell_type": "code",
   "execution_count": null,
   "metadata": {
    "id": "HFj9RCgYNSxn"
   },
   "outputs": [],
   "source": [
    "def decode_sequence(input_seq):\n",
    "\n",
    "    # Encode the input as state vectors.\n",
    "    (e_out, e_h, e_c) = encoder_model.predict(input_seq)\n",
    "\n",
    "    # Generate empty target sequence of length 1\n",
    "    target_seq = np.zeros((1, 1))\n",
    "\n",
    "    # Populate the first word of target sequence with the start word.\n",
    "    target_seq[0, 0] = target_word_index['sostok']\n",
    "\n",
    "    stop_condition = False\n",
    "    decoded_sentence = ''\n",
    "\n",
    "    while not stop_condition:\n",
    "        (output_tokens, h, c) = decoder_model.predict([target_seq]\n",
    "                + [e_out, e_h, e_c])\n",
    "\n",
    "        # Sample a token\n",
    "        sampled_token_index = np.argmax(output_tokens[0, -1, :])\n",
    "        sampled_token = reverse_target_word_index[sampled_token_index]\n",
    "\n",
    "        if sampled_token != 'eostok':\n",
    "            decoded_sentence += ' ' + sampled_token\n",
    "\n",
    "        # Exit condition: either hit max length or find the stop word.\n",
    "        if sampled_token == 'eostok' or len(decoded_sentence.split()) \\\n",
    "            >= max_summary_len - 1:\n",
    "            stop_condition = True\n",
    "\n",
    "        # Update the target sequence (of length 1)\n",
    "        target_seq = np.zeros((1, 1))\n",
    "        target_seq[0, 0] = sampled_token_index\n",
    "\n",
    "        # Update internal states\n",
    "        (e_h, e_c) = (h, c)\n",
    "\n",
    "    return decoded_sentence"
   ]
  },
  {
   "cell_type": "code",
   "execution_count": null,
   "metadata": {
    "id": "KOj1HeXlNSvY"
   },
   "outputs": [],
   "source": [
    "# To convert sequence to summary\n",
    "def seq2summary(input_seq):\n",
    "    newString = ''\n",
    "    for i in input_seq:\n",
    "        if i != 0 and i != target_word_index['sostok'] and i \\\n",
    "            != target_word_index['eostok']:\n",
    "            newString = newString + reverse_target_word_index[i] + ' '\n",
    "\n",
    "    return newString\n"
   ]
  },
  {
   "cell_type": "code",
   "execution_count": null,
   "metadata": {
    "id": "T69LsV3oNStJ"
   },
   "outputs": [],
   "source": [
    "# To convert sequence to text\n",
    "def seq2text(input_seq):\n",
    "    newString = ''\n",
    "    for i in input_seq:\n",
    "        if i != 0:\n",
    "            newString = newString + reverse_source_word_index[i] + ' '\n",
    "\n",
    "    return newString"
   ]
  },
  {
   "cell_type": "code",
   "execution_count": null,
   "metadata": {
    "id": "Nh39RFblNSqd"
   },
   "outputs": [],
   "source": [
    "for i in range(0, 19):\n",
    "    print ('Review:', seq2text(x_tr[i]))\n",
    "    print ('Original summary:', seq2summary(y_tr[i]))\n",
    "    print ('Predicted summary:', decode_sequence(x_tr[i].reshape(1,\n",
    "           max_text_len)))\n",
    "    print '\\n'"
   ]
  },
  {
   "cell_type": "code",
   "execution_count": null,
   "metadata": {
    "id": "bMg6rlPLNSn2"
   },
   "outputs": [],
   "source": []
  },
  {
   "cell_type": "code",
   "execution_count": null,
   "metadata": {
    "id": "Ye9WIobKNSjf"
   },
   "outputs": [],
   "source": []
  },
  {
   "cell_type": "code",
   "execution_count": 2,
   "metadata": {
    "id": "Z_1QpWmvNShU"
   },
   "outputs": [],
   "source": [
    "news = '''\n",
    "Citing that 10% commission cap is not financially sustainable, taxi aggregator Uber is contemplating to limit \n",
    "auto services in selected parts of Bengaluru where the service is viable. In a statement, Nitish Bhushan, \n",
    "head of Central Operations of Uber in India and South Asia, said: “If our costs cannot be covered through commissions, we will have to find ways to offload costs that could impact the experience of drivers and riders. In the face of these commission caps, we may have to make the difficult decision to limit Uber Auto to select parts of Bengaluru where the service is viable. This will hurt drivers and inconvenience riders who depend on aggregators for their commuting needs.”It can be recalled that the State government recently banned the operations of auto services by the mobile app based aggregators after receiving complaints about fleecing passengers by charging exorbitant fares. The order was challenged by the aggregators in the Karnataka High Court. Later, the aggregators \n",
    "were allowed to charge 10% on the fare collected (as per the fares fixed by the Transport Department) as commission.\n",
    "'''"
   ]
  },
  {
   "cell_type": "code",
   "execution_count": 3,
   "metadata": {
    "id": "cfayvwoWNSeh"
   },
   "outputs": [
    {
     "ename": "NameError",
     "evalue": "name 'nltk' is not defined",
     "output_type": "error",
     "traceback": [
      "\u001b[0;31m---------------------------------------------------------------------------\u001b[0m",
      "\u001b[0;31mNameError\u001b[0m                                 Traceback (most recent call last)",
      "Cell \u001b[0;32mIn [3], line 2\u001b[0m\n\u001b[1;32m      1\u001b[0m \u001b[38;5;66;03m## splitting based upon full stops\u001b[39;00m\n\u001b[0;32m----> 2\u001b[0m sentence_list \u001b[38;5;241m=\u001b[39m sentence_split(news)\n\u001b[1;32m      3\u001b[0m sentence_list\n",
      "Cell \u001b[0;32mIn [1], line 18\u001b[0m, in \u001b[0;36msentence_split\u001b[0;34m(paragraph)\u001b[0m\n\u001b[1;32m     17\u001b[0m \u001b[38;5;28;01mdef\u001b[39;00m \u001b[38;5;21msentence_split\u001b[39m(paragraph):\n\u001b[0;32m---> 18\u001b[0m     \u001b[38;5;28;01mreturn\u001b[39;00m \u001b[43mnltk\u001b[49m\u001b[38;5;241m.\u001b[39msent_tokenize(paragraph)\n",
      "\u001b[0;31mNameError\u001b[0m: name 'nltk' is not defined"
     ]
    }
   ],
   "source": [
    "## splitting based upon full stops\n",
    "sentence_list = sentence_split(news)\n",
    "sentence_list"
   ]
  },
  {
   "cell_type": "code",
   "execution_count": null,
   "metadata": {},
   "outputs": [],
   "source": [
    "data = []\n",
    "for sentence in sentence_list:\n",
    "    data.append(tokenization(cleaning(casefolding(sentence))))\n",
    "data = (list(filter(None, data)))\n",
    "data"
   ]
  },
  {
   "cell_type": "code",
   "execution_count": null,
   "metadata": {},
   "outputs": [],
   "source": [
    "wordfreq = word_freq(data)\n",
    "word_freq"
   ]
  },
  {
   "cell_type": "code",
   "execution_count": null,
   "metadata": {},
   "outputs": [],
   "source": [
    "rank = sentence_weight(data)\n",
    "rank"
   ]
  },
  {
   "cell_type": "code",
   "execution_count": null,
   "metadata": {},
   "outputs": [],
   "source": [
    "n = 2\n",
    "result = ''\n",
    "sort_list = np.argsort(rank)[::-1][:n]\n",
    "for i in range(n):\n",
    "    result += '{} '.format(sentence_list[sort_list[i]])\n",
    "result"
   ]
  }
 ],
 "metadata": {
  "colab": {
   "provenance": []
  },
  "kernelspec": {
   "display_name": "Python 3 (ipykernel)",
   "language": "python",
   "name": "python3"
  },
  "language_info": {
   "codemirror_mode": {
    "name": "ipython",
    "version": 3
   },
   "file_extension": ".py",
   "mimetype": "text/x-python",
   "name": "python",
   "nbconvert_exporter": "python",
   "pygments_lexer": "ipython3",
   "version": "3.10.6"
  }
 },
 "nbformat": 4,
 "nbformat_minor": 1
}
