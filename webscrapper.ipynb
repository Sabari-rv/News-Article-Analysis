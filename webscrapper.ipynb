{
 "cells": [
  {
   "cell_type": "markdown",
   "id": "97fb75b8",
   "metadata": {},
   "source": [
    "<h1 style=\"text-align:center; font-family:courier; font-size:300%\">Web Scrapper</h1>"
   ]
  },
  {
   "cell_type": "code",
   "execution_count": 1,
   "id": "f27e2b79",
   "metadata": {},
   "outputs": [],
   "source": [
    "from bs4 import BeautifulSoup\n",
    "import requests\n",
    "import csv\n",
    "import re"
   ]
  },
  {
   "cell_type": "code",
   "execution_count": 2,
   "id": "97393a4c",
   "metadata": {},
   "outputs": [],
   "source": [
    "## The Indian Express\n",
    "def indian_express_get_content(url):\n",
    "    ar      = requests.get(url)\n",
    "    article = BeautifulSoup(ar.text,\"lxml\")\n",
    "    if article.find(id=\"pcl-full-content\") == None:\n",
    "        return None\n",
    "    else:\n",
    "        content = \"\"\n",
    "        for para in article.find('div', id = \"pcl-full-content\").find_all(\"p\"):\n",
    "            content+=para.get_text()\n",
    "        return content"
   ]
  },
  {
   "cell_type": "code",
   "execution_count": 3,
   "id": "ccbc5d7f",
   "metadata": {},
   "outputs": [
    {
     "data": {
      "text/plain": [
       "'As Diwali was celebrated across the country Monday, the air quality index (AQI) in the National Capital Region (NCR) plummeted to ‘very poor’, while other major cities recorded ‘moderate’ or ‘satisfactory’ air quality.Delhi’s air quality hit the “very poor” category with an AQI of 312. This is the first ‘very poor’ air day of the season for the national capital.Gurgaon and Noida also recorded air quality in the ‘very poor’ category, with respective AQIs of 322 and 305.An AQI between 301 and 400 is considered to be “very poor” and can cause respiratory illness on prolonged exposure, according to the Central Pollution Control Board (CPCB).The System of Air Quality and Weather Forecasting and Research (SAFAR), meanwhile, termed the air quality across Mumbai and Pune as ‘moderate’ and ‘satisfactory’, respectively. The CPCB recorded an AQI value of 136 yesterday, with the major pollutants being PM10 and PM2.5 in Mumbai.According to the CPCB, Bengaluru recorded an AQI index value of 100 with a ‘satisfactory’ air quality. A ‘moderate’ AQI value of 192 was recorded in Chennai. In lines with a Supreme Court order, the Tamil Nadu government had specified that crackers should only be burst from 6 am to 7 am and 7 pm to 8 pm.The CPCB termed the air quality of the city of Kolkata as ‘satisfactory’ with an AQI value of 55. The major pollutants were identified as PM10 and NO2. Recently, the West Bengal Environment Minister Manas Bhuniya had said the new central control room at Paribesh Bhavan is monitoring sound and air pollution in real time on Diwali and Kali Puja.'"
      ]
     },
     "execution_count": 3,
     "metadata": {},
     "output_type": "execute_result"
    }
   ],
   "source": [
    "url = \"https://indianexpress.com/article/india/diwali-pollution-air-quality-index-delhi-mumbai-kolkata-8228093/\"\n",
    "indian_express_get_content(url)"
   ]
  },
  {
   "cell_type": "code",
   "execution_count": 4,
   "id": "dad9a158",
   "metadata": {},
   "outputs": [],
   "source": [
    "## The India Today\n",
    "def india_today_get_content(url):\n",
    "    ar = requests.get(url)\n",
    "    article = BeautifulSoup(ar.text,\"lxml\")\n",
    "    title = article.find(\"h1\").get_text()\n",
    "    if (article.find('div',{\"class\":\"description\"}) == None):\n",
    "        return None, None, None\n",
    "    else:\n",
    "        content = \"\"\n",
    "        for para in article.find(class_ = \"description\").find_all(\"p\")[:-3]:\n",
    "            content+=para.get_text()\n",
    "        return content"
   ]
  },
  {
   "cell_type": "code",
   "execution_count": 5,
   "id": "27812ba9",
   "metadata": {},
   "outputs": [
    {
     "data": {
      "text/plain": [
       "\"By Pramod Madhav: Junaidha Begum, the mother of one of the accused in the Coimbatore car blast case, has claimed that cops that her son only went to help Jamesha Mubeen shift his home. Mubeen was killed in the incident that occurred in Tamil Nadu’s Coimbatore on October 23.Soon after the blast, the Coimbatore Police launched an investigation and found bomb-making chemicals at the house of the deceased. Six accused were arrested. They were identified as Mohammed Dalqa, Mohammed Azharuddin, Muhamed Riyaz, Feroz Ismail, Afzar, and Muhammad Nawaz Ismail.ALSO READ | ‘My son being portrayed in bad light'': Mother of accused who sold car used in Coimbatore blastAccording to the police, Mubeen was on his way to a target and was trying to avoid a checkpoint when the blast occurred, killing him as he tried to leave the car. Officials are not yet sure about what his target was.Footage from CCTV near Mubeen’s residence showed the four men struggling to carry an item wrapped in a plastic sack. Suspicion arose whether this was the bomb that killed Jamesha. Officials are investigating the CCTV footage to find out what the group were carrying.Dalqa had purportedly sold the car to Mubeen, in which he was carrying the explosive. Hafsath Biwi, the mother of Dalqa, claimed that he had sold the car for a commission since he was dealing in second-hand cars and had no connection with the blast.Meanwhile, Riyaz’s mother Junaidha Begum also told the police that Feroz and Riyaz had gone to Mubeen’s house as he had called them to help him shift his home.ALSO READ | Coimbatore blast: TN BJP chief claims police had details on accused being ‘ISIS sympathiser’India Today has now accessed the call recordings between Riyaz and his mother and Riyaz and Feroz on the day of the blast. Here are the audio transcripts of the calls.Audio 1Junaidha Begum: Where are you Riyaz?\\nRiyaz - I’m going to help him shift his house.Junaidha Begum: Where is the vehicle?\\nRiyaz: I’ve given it to my brother-in-law.Junaidha Begum: I called you to see if we could get the auto.\\nRiyaz: Is it? I have given the car to my brother-in-law. I don’t have the auto with me either.Junaidha Begum: Where are you going?\\nRiyaz: I’m out with FerozJunaidha Begum: Where are you?\\nRiyaz: Near Kottaimedu (where Mubeen lived).Audio 2Junaidha Begum: Where are you?\\nRiyaz: I’m helping with shifting items at Mubeen’s house.Junaidha Begum: Who all are there?\\nRiyaz: Feroz, Nawaz, and I.Junaidha Begum: Return early.\\nRiyaz: It’s almost over.Audio 3(Conversation between Feroz and Riyaz)Feroz: Hey, come here. Come quickly.\\nRiyaz: Can’t. It will take time.Feroz: How long?\\nRiyaz: Maybe 15 minutes.Feroz: Okay, come fast.\\nRiyaz: Why? What happened?Feroz: He (Mubeen) is calling to help him shift home.\\nRiyaz: You go and help him. I can’t go.Feroz: Why?\\nRiyaz: There are people at home.Feroz: Okay, come here for a minute.\\nRiyaz: I’m not going da.\""
      ]
     },
     "execution_count": 5,
     "metadata": {},
     "output_type": "execute_result"
    }
   ],
   "source": [
    "url = \"https://www.indiatoday.in/india/story/coimbatore-blast-accused-call-recordings-isis-2292127-2022-11-01\"\n",
    "india_today_get_content(url)"
   ]
  },
  {
   "cell_type": "code",
   "execution_count": 6,
   "id": "530d1ecf",
   "metadata": {},
   "outputs": [],
   "source": [
    "## NDTV\n",
    "def ndtv_get_content(url):\n",
    "    ar = requests.get(url)\n",
    "    article = BeautifulSoup(ar.text,\"lxml\")\n",
    "    if article.find('div',{'id':\"ins_storybody\"}) == None:\n",
    "        return None, None\n",
    "    else:\n",
    "        content = \"\"\n",
    "        for para in article.find('div',{'id':\"ins_storybody\"}).find_all(\"p\"):\n",
    "            content+=para.get_text()\n",
    "        return content"
   ]
  },
  {
   "cell_type": "code",
   "execution_count": 7,
   "id": "db0bbee7",
   "metadata": {},
   "outputs": [
    {
     "data": {
      "text/plain": [
       "'135 people died in the bridge collapse tragedy on SundayThe chief of India\\'s disaster response force has thrown some light on what may have caused the high casualties after a cable bridge snapped in Gujarat\\'s Morbi city on Sunday, killing 135.The water towards both ends of the century-old cable bridge is shallow, about 10 feet or the length of a small car, and the people hit the rocky bottom after falling into the river with great force, killing them, VVN Prasanna Kumar, the Commandant of the National Disaster Response Force (NDRF), which is part of the search team in the River Machhu, told NDTV on Tuesday.The middle area of the river, whose water is stagnant with almost no flow, is about 20 feet deep, Mr Kumar said, adding the navy divers who are searching for bodies effortlessly reached the bottom of the river.\"But the water is muddy and visibility is low,\" Mr Kumar said. \"We have been using an ultramodern remote underwater vehicle fitted with a camera and a sonar device to locate bodies,\" the NDRF Commandant told NDTV. \"The floor of the river is full of rocks. This is why many people were injured and killed,\" he added.NDRF Commandant VVN Prasanna Kumar said they are using advanced tools to locate bodiesMost of the bodies were found under the broken bridge as the river did not have any flow and the water did not carry them away, Mr Kumar said.He said there could be only one or two bodies left to be found, based on data of missing people given by the civil administration.Prime Minister Narendra Modi on Tuesday\\xa0visited the hospital in Morbi city where the injured people are being treated. The facility got a quick-fix facelift overnight ahead of his visit.The narrow cable bridge collapsed due to a huge rush of people, sources in the Gujarat forensics laboratory have said. Some of the old cables that held the bridge were not changed during the seven-month renovation that started in March this year, sources have said.'"
      ]
     },
     "execution_count": 7,
     "metadata": {},
     "output_type": "execute_result"
    }
   ],
   "source": [
    "url = \"https://www.ndtv.com/india-news/shallow-water-with-rocks-led-to-casualties-ndrf-chief-on-gujarat-cable-bridge-tragedy-3481680#pfrom=home-ndtv_topscroll\"\n",
    "ndtv_get_content(url)"
   ]
  },
  {
   "cell_type": "code",
   "execution_count": 8,
   "id": "0a3949c2",
   "metadata": {},
   "outputs": [],
   "source": [
    "## Times of India\n",
    "def toi_get_content(url):\n",
    "    data = requests.get(url).content\n",
    "    soup = BeautifulSoup(data,\"lxml\")\n",
    "    div = soup.find(\"div\", class_= \"_3YYSt clearfix \")\n",
    "    if div is None:\n",
    "        div = soup.find(\"div\", class_= \"_3YYSt clearfix\")\n",
    "    if div is not None:\n",
    "        return \"\".join(list(div.strings))\n",
    "    return None, None"
   ]
  },
  {
   "cell_type": "code",
   "execution_count": 9,
   "id": "64094009",
   "metadata": {},
   "outputs": [
    {
     "data": {
      "text/plain": [
       "'AHMEDABAD: In 2019, when an amusement park ride in Kankaria crashed, killing two and injuring 28, the state government tasked a seven-member committee with preparing standard operating procedures (SOPs) to enforce safety protocols for all recreational rides. However, the SOPs were not made applicable to suspension bridges where sightseers are allowed ticketed entry because the activity is not classified as \\'recreational\\'. Though separate rules exist for bridges, these are mostly commuter bridges. Had Morbi\\'s suspension bridge been put under the \\'recreational ride\\' category, regular safety checks and accountability could have further prevented the tragedy. Read Also135 killed in Morbi bridge collapse, 170 rescued: Gujarat minister Rajendra TrivediAs many as 135 people have been killed in the Morbi bridge collapse tragedy and 170 others rescued, Gujarat minister Rajendra Trivedi said on Tuesday.\"All the districts have technical committees in place that inspect recreational rides and issue safety certificates. However, as suspension footbridges like the one in Morbi are not classified as \\'recreational\\', despite being ticketed, the rules for amusement rides don\\'t apply to bridges,\" said an official in the state roads and building department who did not wish to be named. In Ahmedabad alone, between 2012 and 2020, there have been seven major accidents at melas or temporary fairs. These include deaths caused due to electrocution, fall, and injuries. Read AlsoWhy govt has a lot to answer in Morbi tragedyAs the death toll in the bridge collapse mounted to 135, local authorities have been quick to blame the private contractor for the lapses that led to the tragedy. But there are several questions they still need to answerThe rules that were framed by the seven-member committee after the Kankaria disaster came into effect in February 2020 in Ahmedabad district. The SOPs were the first of their kind; they ensured safety checks and inspection rules for recreational rides. Later, in 2021, the state government, through a notification, asked all districts to set up similar technical committees to implement these rules. Read AlsoGujarat Morbi Footbridge: \\'Renovation firm only painted, polished cables\\'“The contractor seems to have just painted and polished all the cables ahead of the bridge being reopened to the public on October 26. We haven\\'t found anything so far to confirm if any of those worn-out cables were changed,\" said a police officer privy to the probe. \"We are now looking into thisThe seven-member committee set up for Ahmedabad district under the chairmanship of executive engineer of roads and building department included the R&B department\\'s deputy executive engineer, two teachers from LD Engineering College and Ahmedabad Polytechnic, and officials of the industrial health and safety department and municipal corporation\\'s engineering department. So far, the committee has inspected and issued safety certificates to 16 amusement rides in the city. The suspension bridges were excluded from the purview of these committees, said roads and buildings department sources. The state government could have set up a separate system to ensure safety inspections of such structures, they said. Read AlsoGujarat: Morbi tragedy exposes rot in civic systemThe Morbi tragedy has exposed the rot in civic institutions and their failure to ensure safe and reliable infrastructure. The contractor, Oreva group, was to approach the district collector for a structural safety certificate before beginning operations on October 26.Sources added that for the inspection of bridges, the operator is required to apply to the collector\\'s office and then the R&B department issues structural stability certificates after inspection. The government is yet to set up SOPs for these bridges, the sources added. '"
      ]
     },
     "execution_count": 9,
     "metadata": {},
     "output_type": "execute_result"
    }
   ],
   "source": [
    "url = \"https://timesofindia.indiatimes.com/city/ahmedabad/morbi-tragedy-why-safety-sops-for-amusement-rides-dont-apply-to-ticketed-bridges/articleshow/95249369.cms\"\n",
    "toi_get_content(url)"
   ]
  },
  {
   "cell_type": "code",
   "execution_count": 10,
   "id": "2b46a6e3",
   "metadata": {},
   "outputs": [],
   "source": [
    "## The Hindu\n",
    "def get_content(url):\n",
    "    html = requests.get(url)\n",
    "    article = BeautifulSoup(html.text,\"lxml\")\n",
    "    content = \"\"\n",
    "    paras = article.find_all(\"p\")[1:-5]\n",
    "    for para in paras:\n",
    "        content+=para.get_text()\n",
    "    return content"
   ]
  },
  {
   "cell_type": "code",
   "execution_count": 11,
   "id": "592edfe0",
   "metadata": {},
   "outputs": [
    {
     "data": {
      "text/plain": [
       "'CONNECT WITH US November 01, 2022 10:14 pm | Updated November 02, 2022 12:37 pm IST - SRINAGAR \\nCOMMents\\n SHARE\\n\\nREAD LATER\\n\\nSecurity personnel stand guard near encounter site at Samthan Bijbehara area of Anantnag in South Kashmir on November 1, 2022.\\n| Photo Credit: Nissar Ahmad\\nFour militants were killed in two separate anti-militancy operations in south Kashmir’s Anantnag and Pulwama districts on Tuesday, and a likely “ fidayeen” (suicide) attack in the Valley, the J&K Police said.“Lashkar-e-Taiba (LeT) commander Mukhtar Bhat is among the three killed terrorists [in Pulwama’s Awantipora area]. As per source, he, along with a foreign terrorist, was going for ‘ fidayeen’ attack on security forces’ camp. The\\xa0Awantipora police and the Army averted a major terror incident,” Additional Director General of Police Vijay Kumar said.\\xa0One AK-47 rifle, one AK-56 rifle and one pistol were recovered from the encounter site at Pulwama’s Awantipora.Mr. Kumar said Bhat was involved in several terror crimes, including the killing of one Assistant Sub-Inspector of the Central Reserve Police Force and two Railway Protection Force personnel. “It’s a big success for us,” Mr. Kumar said.The third deceased person, believed to be a local, could not be identified immediately.The militant killed in another anti-militancy operation in Anantnag’s Bijbehara has been identified as Shakir Ahmad, a resident of Ladermud. “One terrorist has been killed in the Bijbehara encounter. The operation is going on,” the police said, adding, “The killed terrorist was linked with Hizbul Mujahideen and was involved in several terror crime cases, including attacks on police and security forces.”\\xa0Meanwhile, the J&K Police arrested three militants in Srinagar. “10 kilogrammes bucket Improvised Explosive Device (IED) and two hand grenades were recovered from these militants. The IED is being destroyed in-situ in the Rangreth area by the Bomb Disposal Squad. A case has been registered under Sections of the Unlawful Activities Prevention Act, Arms Act, and Explosives Act,” the police said.\\xa0\\nCOMMents\\n'"
      ]
     },
     "execution_count": 11,
     "metadata": {},
     "output_type": "execute_result"
    }
   ],
   "source": [
    "url = \"https://www.thehindu.com/news/national/other-states/four-militants-killed-in-anti-militancy-operations-in-kashmir-jk-police/article66083277.ece?homepage=true\"\n",
    "get_content(url)"
   ]
  },
  {
   "cell_type": "code",
   "execution_count": 12,
   "id": "6d78f3f4",
   "metadata": {},
   "outputs": [],
   "source": [
    "def news_extract(heading, url):\n",
    "\n",
    "    def india_today_get_content(url):\n",
    "        ar      = requests.get(url)\n",
    "        article = BeautifulSoup(ar.text,\"lxml\")\n",
    "        if (article.find('div',{\"class\":\"description\"}) == None):\n",
    "            return None\n",
    "        else:\n",
    "            content = \"\"\n",
    "            for para in article.find(class_ = \"description\").find_all(\"p\")[:-3]:\n",
    "                content+=para.get_text()\n",
    "            return content\n",
    "\n",
    "    def indian_express_get_content(url):\n",
    "        ar = requests.get(url)\n",
    "        article = BeautifulSoup(ar.text,\"lxml\")\n",
    "        if article.find(id=\"pcl-full-content\") == None:\n",
    "            return None\n",
    "        else:\n",
    "            content = \"\"\n",
    "            for para in article.find('div', id = \"pcl-full-content\").find_all(\"p\"):\n",
    "                content+=para.get_text()\n",
    "            return content\n",
    "    \n",
    "    def hindu_get_content(url):\n",
    "        html    = requests.get(url)\n",
    "        article = BeautifulSoup(html.text,\"lxml\")\n",
    "        content = \"\"\n",
    "        paras = article.find_all(\"p\")[1:-5]\n",
    "        for para in paras:\n",
    "            content+=para.get_text()\n",
    "        return content\n",
    "\n",
    "    def ndtv_get_content(url):\n",
    "        ar = requests.get(url)\n",
    "        article = BeautifulSoup(ar.text,\"lxml\")\n",
    "        if article.find('div',{'id':\"ins_storybody\"}) == None:\n",
    "            return None, None\n",
    "        else:\n",
    "            content = \"\"\n",
    "            for para in article.find('div',{'id':\"ins_storybody\"}).find_all(\"p\"):\n",
    "                content+=para.get_text()\n",
    "            return content\n",
    "    \n",
    "    def toi_get_content(url):\n",
    "        data = requests.get(url).content\n",
    "        soup = BeautifulSoup(data,\"lxml\")\n",
    "        div = soup.find(\"div\", class_= \"_3YYSt clearfix \")\n",
    "        if div is None:\n",
    "            div = soup.find(\"div\", class_= \"_3YYSt clearfix\")\n",
    "        if div is not None:\n",
    "            time = soup.find(\"div\", class_=\"yYIu- byline\").find(\"span\").text\n",
    "            time = re.sub(\"Updated:|IST|AM|PM\", \"\", time, flags=re.IGNORECASE).strip()\n",
    "            # time = datetime.strptime(time, \"%b %d, %Y, %H:%M\")\n",
    "            return \"\".join(list(div.strings))\n",
    "        return None\n",
    "\n",
    "    if (heading == 'India_Today'): return india_today_get_content(url)\n",
    "    if (heading == 'The_Indian_Express'): return indian_express_get_content(url)\n",
    "    if (heading == 'The_Hindu'): return hindu_get_content(url)\n",
    "    if (heading == 'NDTV'): return ndtv_get_content(url)\n",
    "    if (heading == 'Times_of_India'): return toi_get_content(url)"
   ]
  },
  {
   "cell_type": "code",
   "execution_count": 13,
   "id": "10cb2518",
   "metadata": {},
   "outputs": [
    {
     "data": {
      "text/plain": [
       "\"By Pramod Madhav: Junaidha Begum, the mother of one of the accused in the Coimbatore car blast case, has claimed that cops that her son only went to help Jamesha Mubeen shift his home. Mubeen was killed in the incident that occurred in Tamil Nadu’s Coimbatore on October 23.Soon after the blast, the Coimbatore Police launched an investigation and found bomb-making chemicals at the house of the deceased. Six accused were arrested. They were identified as Mohammed Dalqa, Mohammed Azharuddin, Muhamed Riyaz, Feroz Ismail, Afzar, and Muhammad Nawaz Ismail.ALSO READ | ‘My son being portrayed in bad light'': Mother of accused who sold car used in Coimbatore blastAccording to the police, Mubeen was on his way to a target and was trying to avoid a checkpoint when the blast occurred, killing him as he tried to leave the car. Officials are not yet sure about what his target was.Footage from CCTV near Mubeen’s residence showed the four men struggling to carry an item wrapped in a plastic sack. Suspicion arose whether this was the bomb that killed Jamesha. Officials are investigating the CCTV footage to find out what the group were carrying.Dalqa had purportedly sold the car to Mubeen, in which he was carrying the explosive. Hafsath Biwi, the mother of Dalqa, claimed that he had sold the car for a commission since he was dealing in second-hand cars and had no connection with the blast.Meanwhile, Riyaz’s mother Junaidha Begum also told the police that Feroz and Riyaz had gone to Mubeen’s house as he had called them to help him shift his home.ALSO READ | Coimbatore blast: TN BJP chief claims police had details on accused being ‘ISIS sympathiser’India Today has now accessed the call recordings between Riyaz and his mother and Riyaz and Feroz on the day of the blast. Here are the audio transcripts of the calls.Audio 1Junaidha Begum: Where are you Riyaz?\\nRiyaz - I’m going to help him shift his house.Junaidha Begum: Where is the vehicle?\\nRiyaz: I’ve given it to my brother-in-law.Junaidha Begum: I called you to see if we could get the auto.\\nRiyaz: Is it? I have given the car to my brother-in-law. I don’t have the auto with me either.Junaidha Begum: Where are you going?\\nRiyaz: I’m out with FerozJunaidha Begum: Where are you?\\nRiyaz: Near Kottaimedu (where Mubeen lived).Audio 2Junaidha Begum: Where are you?\\nRiyaz: I’m helping with shifting items at Mubeen’s house.Junaidha Begum: Who all are there?\\nRiyaz: Feroz, Nawaz, and I.Junaidha Begum: Return early.\\nRiyaz: It’s almost over.Audio 3(Conversation between Feroz and Riyaz)Feroz: Hey, come here. Come quickly.\\nRiyaz: Can’t. It will take time.Feroz: How long?\\nRiyaz: Maybe 15 minutes.Feroz: Okay, come fast.\\nRiyaz: Why? What happened?Feroz: He (Mubeen) is calling to help him shift home.\\nRiyaz: You go and help him. I can’t go.Feroz: Why?\\nRiyaz: There are people at home.Feroz: Okay, come here for a minute.\\nRiyaz: I’m not going da.\""
      ]
     },
     "execution_count": 13,
     "metadata": {},
     "output_type": "execute_result"
    }
   ],
   "source": [
    "url          = \"https://www.indiatoday.in/india/story/coimbatore-blast-accused-call-recordings-isis-2292127-2022-11-01\"\n",
    "news_company = \"India_Today\"\n",
    "news_extract(news_company, url)"
   ]
  },
  {
   "cell_type": "code",
   "execution_count": 14,
   "id": "3bcfa5f7",
   "metadata": {},
   "outputs": [
    {
     "data": {
      "text/plain": [
       "'CONNECT WITH US November 01, 2022 10:14 pm | Updated November 02, 2022 12:37 pm IST - SRINAGAR \\nCOMMents\\n SHARE\\n\\nREAD LATER\\n\\nSecurity personnel stand guard near encounter site at Samthan Bijbehara area of Anantnag in South Kashmir on November 1, 2022.\\n| Photo Credit: Nissar Ahmad\\nFour militants were killed in two separate anti-militancy operations in south Kashmir’s Anantnag and Pulwama districts on Tuesday, and a likely “ fidayeen” (suicide) attack in the Valley, the J&K Police said.“Lashkar-e-Taiba (LeT) commander Mukhtar Bhat is among the three killed terrorists [in Pulwama’s Awantipora area]. As per source, he, along with a foreign terrorist, was going for ‘ fidayeen’ attack on security forces’ camp. The\\xa0Awantipora police and the Army averted a major terror incident,” Additional Director General of Police Vijay Kumar said.\\xa0One AK-47 rifle, one AK-56 rifle and one pistol were recovered from the encounter site at Pulwama’s Awantipora.Mr. Kumar said Bhat was involved in several terror crimes, including the killing of one Assistant Sub-Inspector of the Central Reserve Police Force and two Railway Protection Force personnel. “It’s a big success for us,” Mr. Kumar said.The third deceased person, believed to be a local, could not be identified immediately.The militant killed in another anti-militancy operation in Anantnag’s Bijbehara has been identified as Shakir Ahmad, a resident of Ladermud. “One terrorist has been killed in the Bijbehara encounter. The operation is going on,” the police said, adding, “The killed terrorist was linked with Hizbul Mujahideen and was involved in several terror crime cases, including attacks on police and security forces.”\\xa0Meanwhile, the J&K Police arrested three militants in Srinagar. “10 kilogrammes bucket Improvised Explosive Device (IED) and two hand grenades were recovered from these militants. The IED is being destroyed in-situ in the Rangreth area by the Bomb Disposal Squad. A case has been registered under Sections of the Unlawful Activities Prevention Act, Arms Act, and Explosives Act,” the police said.\\xa0\\nCOMMents\\n'"
      ]
     },
     "execution_count": 14,
     "metadata": {},
     "output_type": "execute_result"
    }
   ],
   "source": [
    "url = \"https://www.thehindu.com/news/national/other-states/four-militants-killed-in-anti-militancy-operations-in-kashmir-jk-police/article66083277.ece?homepage=true\"\n",
    "news_company = \"The_Hindu\"\n",
    "news_extract(news_company, url)"
   ]
  }
 ],
 "metadata": {
  "kernelspec": {
   "display_name": "Python 3 (ipykernel)",
   "language": "python",
   "name": "python3"
  },
  "language_info": {
   "codemirror_mode": {
    "name": "ipython",
    "version": 3
   },
   "file_extension": ".py",
   "mimetype": "text/x-python",
   "name": "python",
   "nbconvert_exporter": "python",
   "pygments_lexer": "ipython3",
   "version": "3.10.6"
  }
 },
 "nbformat": 4,
 "nbformat_minor": 5
}
