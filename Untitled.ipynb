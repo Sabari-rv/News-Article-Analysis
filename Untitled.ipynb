{
 "cells": [
  {
   "cell_type": "code",
   "execution_count": 1,
   "id": "17e85b04",
   "metadata": {},
   "outputs": [],
   "source": [
    "import nltk"
   ]
  },
  {
   "cell_type": "code",
   "execution_count": 3,
   "id": "c9cb41a3",
   "metadata": {},
   "outputs": [],
   "source": [
    "text = \"I was talking to him\"\n",
    "\n",
    "text = text.lower()\n",
    "text = nltk.word_tokenize(text)"
   ]
  },
  {
   "cell_type": "code",
   "execution_count": 8,
   "id": "8e951ea1",
   "metadata": {},
   "outputs": [],
   "source": [
    "text = \"I am Prashanth\"\n",
    "\n",
    "text = text.lower()\n",
    "text = nltk.word_tokenize(text)"
   ]
  },
  {
   "cell_type": "code",
   "execution_count": 9,
   "id": "aee1885d",
   "metadata": {},
   "outputs": [],
   "source": [
    "tags = nltk.pos_tag(text)"
   ]
  },
  {
   "cell_type": "code",
   "execution_count": 10,
   "id": "771a226d",
   "metadata": {},
   "outputs": [
    {
     "name": "stderr",
     "output_type": "stream",
     "text": [
      "[nltk_data] Downloading package averaged_perceptron_tagger to\n",
      "[nltk_data]     /Users/prashanthsingaravelan/nltk_data...\n",
      "[nltk_data]   Package averaged_perceptron_tagger is already up-to-\n",
      "[nltk_data]       date!\n"
     ]
    },
    {
     "data": {
      "text/plain": [
       "True"
      ]
     },
     "execution_count": 10,
     "metadata": {},
     "output_type": "execute_result"
    }
   ],
   "source": [
    "nltk.download('averaged_perceptron_tagger')"
   ]
  },
  {
   "cell_type": "code",
   "execution_count": 11,
   "id": "1d5ff445",
   "metadata": {},
   "outputs": [
    {
     "data": {
      "text/plain": [
       "[('i', 'NN'), ('am', 'VBP'), ('prashanth', 'NN')]"
      ]
     },
     "execution_count": 11,
     "metadata": {},
     "output_type": "execute_result"
    }
   ],
   "source": [
    "tags"
   ]
  },
  {
   "cell_type": "code",
   "execution_count": 13,
   "id": "47673dc3",
   "metadata": {},
   "outputs": [
    {
     "data": {
      "text/plain": [
       "[('i', 'NN'), ('was', 'VBD'), ('talking', 'VBG'), ('to', 'TO'), ('him', 'PRP')]"
      ]
     },
     "execution_count": 13,
     "metadata": {},
     "output_type": "execute_result"
    }
   ],
   "source": [
    "text = \"I was talking to him\"\n",
    "\n",
    "text = text.lower()\n",
    "text = nltk.word_tokenize(text)\n",
    "tags = nltk.pos_tag(text)\n",
    "tags"
   ]
  },
  {
   "cell_type": "code",
   "execution_count": 14,
   "id": "19959245",
   "metadata": {},
   "outputs": [
    {
     "data": {
      "text/plain": [
       "[('i', 'NN'), ('am', 'VBP'), ('talking', 'VBG'), ('to', 'TO'), ('him', 'PRP')]"
      ]
     },
     "execution_count": 14,
     "metadata": {},
     "output_type": "execute_result"
    }
   ],
   "source": [
    "text = \"I am talking to him\"\n",
    "\n",
    "text = text.lower()\n",
    "text = nltk.word_tokenize(text)\n",
    "tags = nltk.pos_tag(text)\n",
    "tags"
   ]
  },
  {
   "cell_type": "code",
   "execution_count": 15,
   "id": "673ea22e",
   "metadata": {},
   "outputs": [
    {
     "data": {
      "text/plain": [
       "[('he', 'PRP'), ('eats', 'VBZ'), ('apple', 'NN')]"
      ]
     },
     "execution_count": 15,
     "metadata": {},
     "output_type": "execute_result"
    }
   ],
   "source": [
    "text = \"He eats apple\"\n",
    "\n",
    "text = text.lower()\n",
    "text = nltk.word_tokenize(text)\n",
    "tags = nltk.pos_tag(text)\n",
    "tags"
   ]
  },
  {
   "cell_type": "code",
   "execution_count": 17,
   "id": "9013d448",
   "metadata": {},
   "outputs": [
    {
     "data": {
      "text/plain": [
       "[('you', 'PRP'), ('eat', 'VBP'), ('apple', 'NN')]"
      ]
     },
     "execution_count": 17,
     "metadata": {},
     "output_type": "execute_result"
    }
   ],
   "source": [
    "text = \"you eat apple\"\n",
    "\n",
    "text = text.lower()\n",
    "text = nltk.word_tokenize(text)\n",
    "tags = nltk.pos_tag(text)\n",
    "tags"
   ]
  },
  {
   "cell_type": "code",
   "execution_count": 23,
   "id": "349c5a12",
   "metadata": {},
   "outputs": [
    {
     "data": {
      "text/plain": [
       "[('you', 'PRP'), ('have', 'VBP'), ('eaten', 'VBN'), ('apple', 'NN')]"
      ]
     },
     "execution_count": 23,
     "metadata": {},
     "output_type": "execute_result"
    }
   ],
   "source": [
    "text = \"you have eaten apple\"\n",
    "\n",
    "text = text.lower()\n",
    "text = nltk.word_tokenize(text)\n",
    "tags = nltk.pos_tag(text)\n",
    "tags"
   ]
  },
  {
   "cell_type": "code",
   "execution_count": 22,
   "id": "a57c1d50",
   "metadata": {},
   "outputs": [
    {
     "data": {
      "text/plain": [
       "[('you', 'PRP'), ('eat', 'VBP'), ('apple', 'NN')]"
      ]
     },
     "execution_count": 22,
     "metadata": {},
     "output_type": "execute_result"
    }
   ],
   "source": [
    "text = \"you had eaten apple\"\n",
    "\n",
    "text = text.lower()\n",
    "text = nltk.word_tokenize(text)\n",
    "tags = nltk.pos_tag(text)\n",
    "tags"
   ]
  },
  {
   "cell_type": "code",
   "execution_count": 26,
   "id": "3e108144",
   "metadata": {},
   "outputs": [
    {
     "data": {
      "text/plain": [
       "[('we', 'PRP'), ('are', 'VBP'), ('people', 'NNS')]"
      ]
     },
     "execution_count": 26,
     "metadata": {},
     "output_type": "execute_result"
    }
   ],
   "source": [
    "text = \"We are people\"\n",
    "\n",
    "text = text.lower()\n",
    "text = nltk.word_tokenize(text)\n",
    "tags = nltk.pos_tag(text)\n",
    "tags"
   ]
  },
  {
   "cell_type": "code",
   "execution_count": null,
   "id": "1f8ebc14",
   "metadata": {},
   "outputs": [],
   "source": []
  }
 ],
 "metadata": {
  "kernelspec": {
   "display_name": "Python 3 (ipykernel)",
   "language": "python",
   "name": "python3"
  },
  "language_info": {
   "codemirror_mode": {
    "name": "ipython",
    "version": 3
   },
   "file_extension": ".py",
   "mimetype": "text/x-python",
   "name": "python",
   "nbconvert_exporter": "python",
   "pygments_lexer": "ipython3",
   "version": "3.10.6"
  }
 },
 "nbformat": 4,
 "nbformat_minor": 5
}
